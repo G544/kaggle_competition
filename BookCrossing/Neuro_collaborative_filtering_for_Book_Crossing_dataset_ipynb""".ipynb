{
  "cells": [
    {
      "cell_type": "markdown",
      "metadata": {
        "id": "view-in-github",
        "colab_type": "text"
      },
      "source": [
        "<a href=\"https://colab.research.google.com/github/G544/galinanana_ml/blob/main/BookCrossing/Neuro_collaborative_filtering_for_Book_Crossing_dataset_ipynb%22%22%22.ipynb\" target=\"_parent\"><img src=\"https://colab.research.google.com/assets/colab-badge.svg\" alt=\"Open In Colab\"/></a>"
      ]
    },
    {
      "cell_type": "markdown",
      "source": [
        "# Neuro collaborative filtering for Book Crossing dataset\n",
        "\n",
        "Implementation of NCF model for Book Crossing dataset (https://www.kaggle.com/datasets/syedjaferk/book-crossing-dataset)\n",
        "\n",
        "*Collected by Cai-Nicolas Ziegler in a 4-week crawl (August / September 2004) from the Book-Crossing community with kind permission from Ron Hornbaker, CTO of Humankind Systems. Contains 278,858 users (anonymized but with demographic information) providing 1,149,780 ratings (explicit / implicit) about 271,379 books*\n",
        "\n",
        "NCF tries to find intersections between users and items, so we will use only information about ratings for books for each user without demographic user information and books description.\n",
        "NCF model was built using architecture from \"Collaborative Filtering using Deep Neural Networks (in Tensorflow)\" article(https://medium.com/@victorkohler/collaborative-filtering-using-deep-neural-networks-in-tensorflow-96e5d41a39a1)."
      ],
      "metadata": {
        "id": "gcw-DtlBR1t0"
      }
    },
    {
      "cell_type": "markdown",
      "source": [
        "### Uploading data"
      ],
      "metadata": {
        "id": "KF1G5YzHSJgE"
      }
    },
    {
      "cell_type": "code",
      "execution_count": null,
      "metadata": {
        "colab": {
          "base_uri": "https://localhost:8080/",
          "height": 90
        },
        "id": "B88r2uggJFlh",
        "outputId": "a0302206-df78-444d-e87a-8c5eaffc0011"
      },
      "outputs": [
        {
          "output_type": "display_data",
          "data": {
            "text/plain": [
              "<IPython.core.display.HTML object>"
            ],
            "text/html": [
              "\n",
              "     <input type=\"file\" id=\"files-ea068913-078d-4e51-b91e-d144ebae8044\" name=\"files[]\" multiple disabled\n",
              "        style=\"border:none\" />\n",
              "     <output id=\"result-ea068913-078d-4e51-b91e-d144ebae8044\">\n",
              "      Upload widget is only available when the cell has been executed in the\n",
              "      current browser session. Please rerun this cell to enable.\n",
              "      </output>\n",
              "      <script>// Copyright 2017 Google LLC\n",
              "//\n",
              "// Licensed under the Apache License, Version 2.0 (the \"License\");\n",
              "// you may not use this file except in compliance with the License.\n",
              "// You may obtain a copy of the License at\n",
              "//\n",
              "//      http://www.apache.org/licenses/LICENSE-2.0\n",
              "//\n",
              "// Unless required by applicable law or agreed to in writing, software\n",
              "// distributed under the License is distributed on an \"AS IS\" BASIS,\n",
              "// WITHOUT WARRANTIES OR CONDITIONS OF ANY KIND, either express or implied.\n",
              "// See the License for the specific language governing permissions and\n",
              "// limitations under the License.\n",
              "\n",
              "/**\n",
              " * @fileoverview Helpers for google.colab Python module.\n",
              " */\n",
              "(function(scope) {\n",
              "function span(text, styleAttributes = {}) {\n",
              "  const element = document.createElement('span');\n",
              "  element.textContent = text;\n",
              "  for (const key of Object.keys(styleAttributes)) {\n",
              "    element.style[key] = styleAttributes[key];\n",
              "  }\n",
              "  return element;\n",
              "}\n",
              "\n",
              "// Max number of bytes which will be uploaded at a time.\n",
              "const MAX_PAYLOAD_SIZE = 100 * 1024;\n",
              "\n",
              "function _uploadFiles(inputId, outputId) {\n",
              "  const steps = uploadFilesStep(inputId, outputId);\n",
              "  const outputElement = document.getElementById(outputId);\n",
              "  // Cache steps on the outputElement to make it available for the next call\n",
              "  // to uploadFilesContinue from Python.\n",
              "  outputElement.steps = steps;\n",
              "\n",
              "  return _uploadFilesContinue(outputId);\n",
              "}\n",
              "\n",
              "// This is roughly an async generator (not supported in the browser yet),\n",
              "// where there are multiple asynchronous steps and the Python side is going\n",
              "// to poll for completion of each step.\n",
              "// This uses a Promise to block the python side on completion of each step,\n",
              "// then passes the result of the previous step as the input to the next step.\n",
              "function _uploadFilesContinue(outputId) {\n",
              "  const outputElement = document.getElementById(outputId);\n",
              "  const steps = outputElement.steps;\n",
              "\n",
              "  const next = steps.next(outputElement.lastPromiseValue);\n",
              "  return Promise.resolve(next.value.promise).then((value) => {\n",
              "    // Cache the last promise value to make it available to the next\n",
              "    // step of the generator.\n",
              "    outputElement.lastPromiseValue = value;\n",
              "    return next.value.response;\n",
              "  });\n",
              "}\n",
              "\n",
              "/**\n",
              " * Generator function which is called between each async step of the upload\n",
              " * process.\n",
              " * @param {string} inputId Element ID of the input file picker element.\n",
              " * @param {string} outputId Element ID of the output display.\n",
              " * @return {!Iterable<!Object>} Iterable of next steps.\n",
              " */\n",
              "function* uploadFilesStep(inputId, outputId) {\n",
              "  const inputElement = document.getElementById(inputId);\n",
              "  inputElement.disabled = false;\n",
              "\n",
              "  const outputElement = document.getElementById(outputId);\n",
              "  outputElement.innerHTML = '';\n",
              "\n",
              "  const pickedPromise = new Promise((resolve) => {\n",
              "    inputElement.addEventListener('change', (e) => {\n",
              "      resolve(e.target.files);\n",
              "    });\n",
              "  });\n",
              "\n",
              "  const cancel = document.createElement('button');\n",
              "  inputElement.parentElement.appendChild(cancel);\n",
              "  cancel.textContent = 'Cancel upload';\n",
              "  const cancelPromise = new Promise((resolve) => {\n",
              "    cancel.onclick = () => {\n",
              "      resolve(null);\n",
              "    };\n",
              "  });\n",
              "\n",
              "  // Wait for the user to pick the files.\n",
              "  const files = yield {\n",
              "    promise: Promise.race([pickedPromise, cancelPromise]),\n",
              "    response: {\n",
              "      action: 'starting',\n",
              "    }\n",
              "  };\n",
              "\n",
              "  cancel.remove();\n",
              "\n",
              "  // Disable the input element since further picks are not allowed.\n",
              "  inputElement.disabled = true;\n",
              "\n",
              "  if (!files) {\n",
              "    return {\n",
              "      response: {\n",
              "        action: 'complete',\n",
              "      }\n",
              "    };\n",
              "  }\n",
              "\n",
              "  for (const file of files) {\n",
              "    const li = document.createElement('li');\n",
              "    li.append(span(file.name, {fontWeight: 'bold'}));\n",
              "    li.append(span(\n",
              "        `(${file.type || 'n/a'}) - ${file.size} bytes, ` +\n",
              "        `last modified: ${\n",
              "            file.lastModifiedDate ? file.lastModifiedDate.toLocaleDateString() :\n",
              "                                    'n/a'} - `));\n",
              "    const percent = span('0% done');\n",
              "    li.appendChild(percent);\n",
              "\n",
              "    outputElement.appendChild(li);\n",
              "\n",
              "    const fileDataPromise = new Promise((resolve) => {\n",
              "      const reader = new FileReader();\n",
              "      reader.onload = (e) => {\n",
              "        resolve(e.target.result);\n",
              "      };\n",
              "      reader.readAsArrayBuffer(file);\n",
              "    });\n",
              "    // Wait for the data to be ready.\n",
              "    let fileData = yield {\n",
              "      promise: fileDataPromise,\n",
              "      response: {\n",
              "        action: 'continue',\n",
              "      }\n",
              "    };\n",
              "\n",
              "    // Use a chunked sending to avoid message size limits. See b/62115660.\n",
              "    let position = 0;\n",
              "    do {\n",
              "      const length = Math.min(fileData.byteLength - position, MAX_PAYLOAD_SIZE);\n",
              "      const chunk = new Uint8Array(fileData, position, length);\n",
              "      position += length;\n",
              "\n",
              "      const base64 = btoa(String.fromCharCode.apply(null, chunk));\n",
              "      yield {\n",
              "        response: {\n",
              "          action: 'append',\n",
              "          file: file.name,\n",
              "          data: base64,\n",
              "        },\n",
              "      };\n",
              "\n",
              "      let percentDone = fileData.byteLength === 0 ?\n",
              "          100 :\n",
              "          Math.round((position / fileData.byteLength) * 100);\n",
              "      percent.textContent = `${percentDone}% done`;\n",
              "\n",
              "    } while (position < fileData.byteLength);\n",
              "  }\n",
              "\n",
              "  // All done.\n",
              "  yield {\n",
              "    response: {\n",
              "      action: 'complete',\n",
              "    }\n",
              "  };\n",
              "}\n",
              "\n",
              "scope.google = scope.google || {};\n",
              "scope.google.colab = scope.google.colab || {};\n",
              "scope.google.colab._files = {\n",
              "  _uploadFiles,\n",
              "  _uploadFilesContinue,\n",
              "};\n",
              "})(self);\n",
              "</script> "
            ]
          },
          "metadata": {}
        },
        {
          "output_type": "stream",
          "name": "stdout",
          "text": [
            "Saving kaggle (1).json to kaggle (1).json\n"
          ]
        },
        {
          "output_type": "execute_result",
          "data": {
            "text/plain": [
              "{'kaggle (1).json': b'{\"username\":\"galinanana\",\"key\":\"cbb73354e6a4418bcb42b7b2ca579b64\"}'}"
            ]
          },
          "metadata": {},
          "execution_count": 1
        }
      ],
      "source": [
        "from google.colab import files\n",
        "files.upload()"
      ]
    },
    {
      "cell_type": "code",
      "execution_count": null,
      "metadata": {
        "id": "MuB3ho_wJMJY"
      },
      "outputs": [],
      "source": [
        "!mkdir ~/.kaggle\n",
        "!touch ~/.kaggle/kaggle.json\n",
        "\n",
        "api_token = {\"username\":\"galinanana\",\"key\":\"cbb73354e6a4418bcb42b7b2ca579b64\"}\n",
        "import json\n",
        "\n",
        "with open('/root/.kaggle/kaggle.json', 'w') as file:\n",
        "    json.dump(api_token, file)\n",
        "\n",
        "!chmod 600 ~/.kaggle/kaggle.json"
      ]
    },
    {
      "cell_type": "code",
      "execution_count": null,
      "metadata": {
        "colab": {
          "base_uri": "https://localhost:8080/"
        },
        "id": "fe-faN_7JOPx",
        "outputId": "1537ac99-ef82-4b43-a5f5-064730ace365"
      },
      "outputs": [
        {
          "output_type": "stream",
          "name": "stdout",
          "text": [
            "Downloading bookcrossing-dataset.zip to /content\n",
            " 71% 12.0M/16.8M [00:00<00:00, 21.2MB/s]\n",
            "100% 16.8M/16.8M [00:00<00:00, 28.4MB/s]\n",
            "Cloning into 'galinanana_ml'...\n",
            "remote: Enumerating objects: 374, done.\u001b[K\n",
            "remote: Counting objects: 100% (134/134), done.\u001b[K\n",
            "remote: Compressing objects: 100% (118/118), done.\u001b[K\n",
            "remote: Total 374 (delta 54), reused 14 (delta 4), pack-reused 240\u001b[K\n",
            "Receiving objects: 100% (374/374), 21.95 MiB | 19.78 MiB/s, done.\n",
            "Resolving deltas: 100% (93/93), done.\n"
          ]
        }
      ],
      "source": [
        "!kaggle datasets download -d somnambwl/bookcrossing-dataset\n",
        "! git clone https://github.com/G544/galinanana_ml.git\n"
      ]
    },
    {
      "cell_type": "code",
      "source": [
        "import warnings\n",
        "warnings.filterwarnings('ignore')"
      ],
      "metadata": {
        "id": "vkK1m1FHV-cD"
      },
      "execution_count": null,
      "outputs": []
    },
    {
      "cell_type": "markdown",
      "source": [
        "### Import libraries\n"
      ],
      "metadata": {
        "id": "BAbgNMiwSjo0"
      }
    },
    {
      "cell_type": "code",
      "source": [
        "# For data reading and preproccessing\n",
        "import io\n",
        "import pandas as pd\n",
        "import zipfile\n",
        "from pathlib import Path\n",
        "from galinanana_ml.happy_whale import fit_model\n",
        "\n",
        "# For creating model and trainig it\n",
        "import torch\n",
        "from torch.utils.data import DataLoader\n",
        "import tqdm\n",
        "import numpy as np\n",
        "from sklearn.model_selection import train_test_split\n",
        "from torch.utils.data import WeightedRandomSampler\n",
        "from sklearn.metrics import mean_absolute_error\n",
        "\n",
        "from torch.optim import lr_scheduler"
      ],
      "metadata": {
        "id": "vK8c4P7OSo9V"
      },
      "execution_count": null,
      "outputs": []
    },
    {
      "cell_type": "markdown",
      "source": [
        "### Data reading and preproccessing\n",
        "\n",
        "\n"
      ],
      "metadata": {
        "id": "g_zv0GfsSO3U"
      }
    },
    {
      "cell_type": "code",
      "execution_count": null,
      "metadata": {
        "id": "MaFECWhCKga5"
      },
      "outputs": [],
      "source": [
        "zip_data = zipfile.ZipFile('/content/bookcrossing-dataset.zip')\n",
        "names = (zip_data.namelist())\n",
        "books = pd.read_csv(io.BytesIO(zip_data.read(names[0])), sep=';', encoding='latin-1')\n",
        "ratings = pd.read_csv(io.BytesIO(zip_data.read(names[1])), sep=';', encoding='latin-1')\n",
        "users = pd.read_csv(io.BytesIO(zip_data.read(names[2])), sep=';', encoding='latin-1')"
      ]
    },
    {
      "cell_type": "code",
      "source": [
        "books.sample(3)"
      ],
      "metadata": {
        "colab": {
          "base_uri": "https://localhost:8080/",
          "height": 143
        },
        "id": "ETzJPySbflst",
        "outputId": "285d6fd5-802a-4cbc-a5d7-bc9b7c24587f"
      },
      "execution_count": null,
      "outputs": [
        {
          "output_type": "execute_result",
          "data": {
            "text/plain": [
              "              ISBN                                              Title  \\\n",
              "55219   0140422102                     John Keats: The Complete Poems   \n",
              "216117  0917102754  Elegant meals with inexpensive meats (Ortho bo...   \n",
              "176810  1585421006  Living With Feeling: The Art of Emotional Expr...   \n",
              "\n",
              "                   Author  Year       Publisher  \n",
              "55219          John Keats  1977   Penguin Books  \n",
              "216117     Cynthia Scheer  1978     Ortho Books  \n",
              "176810  Lucia Capacchione  2001  Penguin Putnam  "
            ],
            "text/html": [
              "\n",
              "  <div id=\"df-0384a6e3-85a1-4792-8b04-950b1ee4a344\">\n",
              "    <div class=\"colab-df-container\">\n",
              "      <div>\n",
              "<style scoped>\n",
              "    .dataframe tbody tr th:only-of-type {\n",
              "        vertical-align: middle;\n",
              "    }\n",
              "\n",
              "    .dataframe tbody tr th {\n",
              "        vertical-align: top;\n",
              "    }\n",
              "\n",
              "    .dataframe thead th {\n",
              "        text-align: right;\n",
              "    }\n",
              "</style>\n",
              "<table border=\"1\" class=\"dataframe\">\n",
              "  <thead>\n",
              "    <tr style=\"text-align: right;\">\n",
              "      <th></th>\n",
              "      <th>ISBN</th>\n",
              "      <th>Title</th>\n",
              "      <th>Author</th>\n",
              "      <th>Year</th>\n",
              "      <th>Publisher</th>\n",
              "    </tr>\n",
              "  </thead>\n",
              "  <tbody>\n",
              "    <tr>\n",
              "      <th>55219</th>\n",
              "      <td>0140422102</td>\n",
              "      <td>John Keats: The Complete Poems</td>\n",
              "      <td>John Keats</td>\n",
              "      <td>1977</td>\n",
              "      <td>Penguin Books</td>\n",
              "    </tr>\n",
              "    <tr>\n",
              "      <th>216117</th>\n",
              "      <td>0917102754</td>\n",
              "      <td>Elegant meals with inexpensive meats (Ortho bo...</td>\n",
              "      <td>Cynthia Scheer</td>\n",
              "      <td>1978</td>\n",
              "      <td>Ortho Books</td>\n",
              "    </tr>\n",
              "    <tr>\n",
              "      <th>176810</th>\n",
              "      <td>1585421006</td>\n",
              "      <td>Living With Feeling: The Art of Emotional Expr...</td>\n",
              "      <td>Lucia Capacchione</td>\n",
              "      <td>2001</td>\n",
              "      <td>Penguin Putnam</td>\n",
              "    </tr>\n",
              "  </tbody>\n",
              "</table>\n",
              "</div>\n",
              "      <button class=\"colab-df-convert\" onclick=\"convertToInteractive('df-0384a6e3-85a1-4792-8b04-950b1ee4a344')\"\n",
              "              title=\"Convert this dataframe to an interactive table.\"\n",
              "              style=\"display:none;\">\n",
              "        \n",
              "  <svg xmlns=\"http://www.w3.org/2000/svg\" height=\"24px\"viewBox=\"0 0 24 24\"\n",
              "       width=\"24px\">\n",
              "    <path d=\"M0 0h24v24H0V0z\" fill=\"none\"/>\n",
              "    <path d=\"M18.56 5.44l.94 2.06.94-2.06 2.06-.94-2.06-.94-.94-2.06-.94 2.06-2.06.94zm-11 1L8.5 8.5l.94-2.06 2.06-.94-2.06-.94L8.5 2.5l-.94 2.06-2.06.94zm10 10l.94 2.06.94-2.06 2.06-.94-2.06-.94-.94-2.06-.94 2.06-2.06.94z\"/><path d=\"M17.41 7.96l-1.37-1.37c-.4-.4-.92-.59-1.43-.59-.52 0-1.04.2-1.43.59L10.3 9.45l-7.72 7.72c-.78.78-.78 2.05 0 2.83L4 21.41c.39.39.9.59 1.41.59.51 0 1.02-.2 1.41-.59l7.78-7.78 2.81-2.81c.8-.78.8-2.07 0-2.86zM5.41 20L4 18.59l7.72-7.72 1.47 1.35L5.41 20z\"/>\n",
              "  </svg>\n",
              "      </button>\n",
              "      \n",
              "  <style>\n",
              "    .colab-df-container {\n",
              "      display:flex;\n",
              "      flex-wrap:wrap;\n",
              "      gap: 12px;\n",
              "    }\n",
              "\n",
              "    .colab-df-convert {\n",
              "      background-color: #E8F0FE;\n",
              "      border: none;\n",
              "      border-radius: 50%;\n",
              "      cursor: pointer;\n",
              "      display: none;\n",
              "      fill: #1967D2;\n",
              "      height: 32px;\n",
              "      padding: 0 0 0 0;\n",
              "      width: 32px;\n",
              "    }\n",
              "\n",
              "    .colab-df-convert:hover {\n",
              "      background-color: #E2EBFA;\n",
              "      box-shadow: 0px 1px 2px rgba(60, 64, 67, 0.3), 0px 1px 3px 1px rgba(60, 64, 67, 0.15);\n",
              "      fill: #174EA6;\n",
              "    }\n",
              "\n",
              "    [theme=dark] .colab-df-convert {\n",
              "      background-color: #3B4455;\n",
              "      fill: #D2E3FC;\n",
              "    }\n",
              "\n",
              "    [theme=dark] .colab-df-convert:hover {\n",
              "      background-color: #434B5C;\n",
              "      box-shadow: 0px 1px 3px 1px rgba(0, 0, 0, 0.15);\n",
              "      filter: drop-shadow(0px 1px 2px rgba(0, 0, 0, 0.3));\n",
              "      fill: #FFFFFF;\n",
              "    }\n",
              "  </style>\n",
              "\n",
              "      <script>\n",
              "        const buttonEl =\n",
              "          document.querySelector('#df-0384a6e3-85a1-4792-8b04-950b1ee4a344 button.colab-df-convert');\n",
              "        buttonEl.style.display =\n",
              "          google.colab.kernel.accessAllowed ? 'block' : 'none';\n",
              "\n",
              "        async function convertToInteractive(key) {\n",
              "          const element = document.querySelector('#df-0384a6e3-85a1-4792-8b04-950b1ee4a344');\n",
              "          const dataTable =\n",
              "            await google.colab.kernel.invokeFunction('convertToInteractive',\n",
              "                                                     [key], {});\n",
              "          if (!dataTable) return;\n",
              "\n",
              "          const docLinkHtml = 'Like what you see? Visit the ' +\n",
              "            '<a target=\"_blank\" href=https://colab.research.google.com/notebooks/data_table.ipynb>data table notebook</a>'\n",
              "            + ' to learn more about interactive tables.';\n",
              "          element.innerHTML = '';\n",
              "          dataTable['output_type'] = 'display_data';\n",
              "          await google.colab.output.renderOutput(dataTable, element);\n",
              "          const docLink = document.createElement('div');\n",
              "          docLink.innerHTML = docLinkHtml;\n",
              "          element.appendChild(docLink);\n",
              "        }\n",
              "      </script>\n",
              "    </div>\n",
              "  </div>\n",
              "  "
            ]
          },
          "metadata": {},
          "execution_count": 7
        }
      ]
    },
    {
      "cell_type": "code",
      "source": [
        "users.sample(3)"
      ],
      "metadata": {
        "colab": {
          "base_uri": "https://localhost:8080/",
          "height": 143
        },
        "id": "Ruk7VLjIgI5R",
        "outputId": "0c93663f-e1ba-4e73-f82b-5f00a831d012"
      },
      "execution_count": null,
      "outputs": [
        {
          "output_type": "execute_result",
          "data": {
            "text/plain": [
              "       User-ID Age\n",
              "76036    76037  63\n",
              "212270  212271  44\n",
              "218492  218493  36"
            ],
            "text/html": [
              "\n",
              "  <div id=\"df-c4713b22-e507-4c46-ab72-df73216929da\">\n",
              "    <div class=\"colab-df-container\">\n",
              "      <div>\n",
              "<style scoped>\n",
              "    .dataframe tbody tr th:only-of-type {\n",
              "        vertical-align: middle;\n",
              "    }\n",
              "\n",
              "    .dataframe tbody tr th {\n",
              "        vertical-align: top;\n",
              "    }\n",
              "\n",
              "    .dataframe thead th {\n",
              "        text-align: right;\n",
              "    }\n",
              "</style>\n",
              "<table border=\"1\" class=\"dataframe\">\n",
              "  <thead>\n",
              "    <tr style=\"text-align: right;\">\n",
              "      <th></th>\n",
              "      <th>User-ID</th>\n",
              "      <th>Age</th>\n",
              "    </tr>\n",
              "  </thead>\n",
              "  <tbody>\n",
              "    <tr>\n",
              "      <th>76036</th>\n",
              "      <td>76037</td>\n",
              "      <td>63</td>\n",
              "    </tr>\n",
              "    <tr>\n",
              "      <th>212270</th>\n",
              "      <td>212271</td>\n",
              "      <td>44</td>\n",
              "    </tr>\n",
              "    <tr>\n",
              "      <th>218492</th>\n",
              "      <td>218493</td>\n",
              "      <td>36</td>\n",
              "    </tr>\n",
              "  </tbody>\n",
              "</table>\n",
              "</div>\n",
              "      <button class=\"colab-df-convert\" onclick=\"convertToInteractive('df-c4713b22-e507-4c46-ab72-df73216929da')\"\n",
              "              title=\"Convert this dataframe to an interactive table.\"\n",
              "              style=\"display:none;\">\n",
              "        \n",
              "  <svg xmlns=\"http://www.w3.org/2000/svg\" height=\"24px\"viewBox=\"0 0 24 24\"\n",
              "       width=\"24px\">\n",
              "    <path d=\"M0 0h24v24H0V0z\" fill=\"none\"/>\n",
              "    <path d=\"M18.56 5.44l.94 2.06.94-2.06 2.06-.94-2.06-.94-.94-2.06-.94 2.06-2.06.94zm-11 1L8.5 8.5l.94-2.06 2.06-.94-2.06-.94L8.5 2.5l-.94 2.06-2.06.94zm10 10l.94 2.06.94-2.06 2.06-.94-2.06-.94-.94-2.06-.94 2.06-2.06.94z\"/><path d=\"M17.41 7.96l-1.37-1.37c-.4-.4-.92-.59-1.43-.59-.52 0-1.04.2-1.43.59L10.3 9.45l-7.72 7.72c-.78.78-.78 2.05 0 2.83L4 21.41c.39.39.9.59 1.41.59.51 0 1.02-.2 1.41-.59l7.78-7.78 2.81-2.81c.8-.78.8-2.07 0-2.86zM5.41 20L4 18.59l7.72-7.72 1.47 1.35L5.41 20z\"/>\n",
              "  </svg>\n",
              "      </button>\n",
              "      \n",
              "  <style>\n",
              "    .colab-df-container {\n",
              "      display:flex;\n",
              "      flex-wrap:wrap;\n",
              "      gap: 12px;\n",
              "    }\n",
              "\n",
              "    .colab-df-convert {\n",
              "      background-color: #E8F0FE;\n",
              "      border: none;\n",
              "      border-radius: 50%;\n",
              "      cursor: pointer;\n",
              "      display: none;\n",
              "      fill: #1967D2;\n",
              "      height: 32px;\n",
              "      padding: 0 0 0 0;\n",
              "      width: 32px;\n",
              "    }\n",
              "\n",
              "    .colab-df-convert:hover {\n",
              "      background-color: #E2EBFA;\n",
              "      box-shadow: 0px 1px 2px rgba(60, 64, 67, 0.3), 0px 1px 3px 1px rgba(60, 64, 67, 0.15);\n",
              "      fill: #174EA6;\n",
              "    }\n",
              "\n",
              "    [theme=dark] .colab-df-convert {\n",
              "      background-color: #3B4455;\n",
              "      fill: #D2E3FC;\n",
              "    }\n",
              "\n",
              "    [theme=dark] .colab-df-convert:hover {\n",
              "      background-color: #434B5C;\n",
              "      box-shadow: 0px 1px 3px 1px rgba(0, 0, 0, 0.15);\n",
              "      filter: drop-shadow(0px 1px 2px rgba(0, 0, 0, 0.3));\n",
              "      fill: #FFFFFF;\n",
              "    }\n",
              "  </style>\n",
              "\n",
              "      <script>\n",
              "        const buttonEl =\n",
              "          document.querySelector('#df-c4713b22-e507-4c46-ab72-df73216929da button.colab-df-convert');\n",
              "        buttonEl.style.display =\n",
              "          google.colab.kernel.accessAllowed ? 'block' : 'none';\n",
              "\n",
              "        async function convertToInteractive(key) {\n",
              "          const element = document.querySelector('#df-c4713b22-e507-4c46-ab72-df73216929da');\n",
              "          const dataTable =\n",
              "            await google.colab.kernel.invokeFunction('convertToInteractive',\n",
              "                                                     [key], {});\n",
              "          if (!dataTable) return;\n",
              "\n",
              "          const docLinkHtml = 'Like what you see? Visit the ' +\n",
              "            '<a target=\"_blank\" href=https://colab.research.google.com/notebooks/data_table.ipynb>data table notebook</a>'\n",
              "            + ' to learn more about interactive tables.';\n",
              "          element.innerHTML = '';\n",
              "          dataTable['output_type'] = 'display_data';\n",
              "          await google.colab.output.renderOutput(dataTable, element);\n",
              "          const docLink = document.createElement('div');\n",
              "          docLink.innerHTML = docLinkHtml;\n",
              "          element.appendChild(docLink);\n",
              "        }\n",
              "      </script>\n",
              "    </div>\n",
              "  </div>\n",
              "  "
            ]
          },
          "metadata": {},
          "execution_count": 8
        }
      ]
    },
    {
      "cell_type": "code",
      "source": [
        "ratings.sample(3)"
      ],
      "metadata": {
        "colab": {
          "base_uri": "https://localhost:8080/",
          "height": 143
        },
        "id": "u_NAeULygOZl",
        "outputId": "a707b0dc-c75c-4acc-cecc-ae6a144068b3"
      },
      "execution_count": null,
      "outputs": [
        {
          "output_type": "execute_result",
          "data": {
            "text/plain": [
              "         User-ID        ISBN  Rating\n",
              "6157      278418  0425137562       0\n",
              "1146793   275970  0425172945       0\n",
              "1073957   256844  0553579754       7"
            ],
            "text/html": [
              "\n",
              "  <div id=\"df-856abdf9-bc75-4da2-8a79-b40bbdb0a8c3\">\n",
              "    <div class=\"colab-df-container\">\n",
              "      <div>\n",
              "<style scoped>\n",
              "    .dataframe tbody tr th:only-of-type {\n",
              "        vertical-align: middle;\n",
              "    }\n",
              "\n",
              "    .dataframe tbody tr th {\n",
              "        vertical-align: top;\n",
              "    }\n",
              "\n",
              "    .dataframe thead th {\n",
              "        text-align: right;\n",
              "    }\n",
              "</style>\n",
              "<table border=\"1\" class=\"dataframe\">\n",
              "  <thead>\n",
              "    <tr style=\"text-align: right;\">\n",
              "      <th></th>\n",
              "      <th>User-ID</th>\n",
              "      <th>ISBN</th>\n",
              "      <th>Rating</th>\n",
              "    </tr>\n",
              "  </thead>\n",
              "  <tbody>\n",
              "    <tr>\n",
              "      <th>6157</th>\n",
              "      <td>278418</td>\n",
              "      <td>0425137562</td>\n",
              "      <td>0</td>\n",
              "    </tr>\n",
              "    <tr>\n",
              "      <th>1146793</th>\n",
              "      <td>275970</td>\n",
              "      <td>0425172945</td>\n",
              "      <td>0</td>\n",
              "    </tr>\n",
              "    <tr>\n",
              "      <th>1073957</th>\n",
              "      <td>256844</td>\n",
              "      <td>0553579754</td>\n",
              "      <td>7</td>\n",
              "    </tr>\n",
              "  </tbody>\n",
              "</table>\n",
              "</div>\n",
              "      <button class=\"colab-df-convert\" onclick=\"convertToInteractive('df-856abdf9-bc75-4da2-8a79-b40bbdb0a8c3')\"\n",
              "              title=\"Convert this dataframe to an interactive table.\"\n",
              "              style=\"display:none;\">\n",
              "        \n",
              "  <svg xmlns=\"http://www.w3.org/2000/svg\" height=\"24px\"viewBox=\"0 0 24 24\"\n",
              "       width=\"24px\">\n",
              "    <path d=\"M0 0h24v24H0V0z\" fill=\"none\"/>\n",
              "    <path d=\"M18.56 5.44l.94 2.06.94-2.06 2.06-.94-2.06-.94-.94-2.06-.94 2.06-2.06.94zm-11 1L8.5 8.5l.94-2.06 2.06-.94-2.06-.94L8.5 2.5l-.94 2.06-2.06.94zm10 10l.94 2.06.94-2.06 2.06-.94-2.06-.94-.94-2.06-.94 2.06-2.06.94z\"/><path d=\"M17.41 7.96l-1.37-1.37c-.4-.4-.92-.59-1.43-.59-.52 0-1.04.2-1.43.59L10.3 9.45l-7.72 7.72c-.78.78-.78 2.05 0 2.83L4 21.41c.39.39.9.59 1.41.59.51 0 1.02-.2 1.41-.59l7.78-7.78 2.81-2.81c.8-.78.8-2.07 0-2.86zM5.41 20L4 18.59l7.72-7.72 1.47 1.35L5.41 20z\"/>\n",
              "  </svg>\n",
              "      </button>\n",
              "      \n",
              "  <style>\n",
              "    .colab-df-container {\n",
              "      display:flex;\n",
              "      flex-wrap:wrap;\n",
              "      gap: 12px;\n",
              "    }\n",
              "\n",
              "    .colab-df-convert {\n",
              "      background-color: #E8F0FE;\n",
              "      border: none;\n",
              "      border-radius: 50%;\n",
              "      cursor: pointer;\n",
              "      display: none;\n",
              "      fill: #1967D2;\n",
              "      height: 32px;\n",
              "      padding: 0 0 0 0;\n",
              "      width: 32px;\n",
              "    }\n",
              "\n",
              "    .colab-df-convert:hover {\n",
              "      background-color: #E2EBFA;\n",
              "      box-shadow: 0px 1px 2px rgba(60, 64, 67, 0.3), 0px 1px 3px 1px rgba(60, 64, 67, 0.15);\n",
              "      fill: #174EA6;\n",
              "    }\n",
              "\n",
              "    [theme=dark] .colab-df-convert {\n",
              "      background-color: #3B4455;\n",
              "      fill: #D2E3FC;\n",
              "    }\n",
              "\n",
              "    [theme=dark] .colab-df-convert:hover {\n",
              "      background-color: #434B5C;\n",
              "      box-shadow: 0px 1px 3px 1px rgba(0, 0, 0, 0.15);\n",
              "      filter: drop-shadow(0px 1px 2px rgba(0, 0, 0, 0.3));\n",
              "      fill: #FFFFFF;\n",
              "    }\n",
              "  </style>\n",
              "\n",
              "      <script>\n",
              "        const buttonEl =\n",
              "          document.querySelector('#df-856abdf9-bc75-4da2-8a79-b40bbdb0a8c3 button.colab-df-convert');\n",
              "        buttonEl.style.display =\n",
              "          google.colab.kernel.accessAllowed ? 'block' : 'none';\n",
              "\n",
              "        async function convertToInteractive(key) {\n",
              "          const element = document.querySelector('#df-856abdf9-bc75-4da2-8a79-b40bbdb0a8c3');\n",
              "          const dataTable =\n",
              "            await google.colab.kernel.invokeFunction('convertToInteractive',\n",
              "                                                     [key], {});\n",
              "          if (!dataTable) return;\n",
              "\n",
              "          const docLinkHtml = 'Like what you see? Visit the ' +\n",
              "            '<a target=\"_blank\" href=https://colab.research.google.com/notebooks/data_table.ipynb>data table notebook</a>'\n",
              "            + ' to learn more about interactive tables.';\n",
              "          element.innerHTML = '';\n",
              "          dataTable['output_type'] = 'display_data';\n",
              "          await google.colab.output.renderOutput(dataTable, element);\n",
              "          const docLink = document.createElement('div');\n",
              "          docLink.innerHTML = docLinkHtml;\n",
              "          element.appendChild(docLink);\n",
              "        }\n",
              "      </script>\n",
              "    </div>\n",
              "  </div>\n",
              "  "
            ]
          },
          "metadata": {},
          "execution_count": 9
        }
      ]
    },
    {
      "cell_type": "markdown",
      "source": [
        "\"User-ID\" and \"ISBN\" are foreign keys for users and books. For intesections model needs only these data. There some duplications through the books and users dataframe. Here we will remove duplicates and Nan values."
      ],
      "metadata": {
        "id": "QODX7Wgahsgg"
      }
    },
    {
      "cell_type": "code",
      "execution_count": null,
      "metadata": {
        "id": "4q9bK_5pGYCe"
      },
      "outputs": [],
      "source": [
        "# remove duplicates from books dataframe\n",
        "books.drop_duplicates(inplace=True)\n",
        "books1 = books.copy()\n",
        "books1.reset_index( inplace= True )\n",
        "ratings_df = ratings.merge(books1[['index','ISBN']],\n",
        "                           how = 'left', on='ISBN').drop('ISBN', axis=1)\n",
        "ratings_df.rename(columns={'index':'ISBN'}, inplace=True)\n",
        "\n",
        "# remove duplicates from users dataframe\n",
        "users.drop_duplicates(inplace=True)\n",
        "users1 = users.copy()\n",
        "users1.reset_index( inplace= True )\n",
        "users1['User-ID']=users1['User-ID'].astype(str)\n",
        "ratings_df['User-ID']=ratings['User-ID'].astype(str)\n",
        "ratings_df = ratings_df.merge(users1[['index','User-ID']],\n",
        "                           how = 'left', on='User-ID').drop('User-ID', axis=1)\n",
        "ratings_df.rename(columns={'index':'User-ID'}, inplace=True)\n",
        "\n",
        "# remove Nan values\n",
        "ratings_df.dropna(inplace=True)"
      ]
    },
    {
      "cell_type": "code",
      "source": [
        "ratings_df.sample(3)"
      ],
      "metadata": {
        "colab": {
          "base_uri": "https://localhost:8080/",
          "height": 143
        },
        "id": "_M-4rkcUlcwg",
        "outputId": "2b553716-4bdf-4352-c445-fe9a38e9155c"
      },
      "execution_count": null,
      "outputs": [
        {
          "output_type": "execute_result",
          "data": {
            "text/plain": [
              "         Rating      ISBN  User-ID\n",
              "566032       10  251250.0   135987\n",
              "1127796       0   38933.0   270712\n",
              "73795         9     302.0    15882"
            ],
            "text/html": [
              "\n",
              "  <div id=\"df-359a32b7-0383-41ca-a007-8db54d8f5777\">\n",
              "    <div class=\"colab-df-container\">\n",
              "      <div>\n",
              "<style scoped>\n",
              "    .dataframe tbody tr th:only-of-type {\n",
              "        vertical-align: middle;\n",
              "    }\n",
              "\n",
              "    .dataframe tbody tr th {\n",
              "        vertical-align: top;\n",
              "    }\n",
              "\n",
              "    .dataframe thead th {\n",
              "        text-align: right;\n",
              "    }\n",
              "</style>\n",
              "<table border=\"1\" class=\"dataframe\">\n",
              "  <thead>\n",
              "    <tr style=\"text-align: right;\">\n",
              "      <th></th>\n",
              "      <th>Rating</th>\n",
              "      <th>ISBN</th>\n",
              "      <th>User-ID</th>\n",
              "    </tr>\n",
              "  </thead>\n",
              "  <tbody>\n",
              "    <tr>\n",
              "      <th>566032</th>\n",
              "      <td>10</td>\n",
              "      <td>251250.0</td>\n",
              "      <td>135987</td>\n",
              "    </tr>\n",
              "    <tr>\n",
              "      <th>1127796</th>\n",
              "      <td>0</td>\n",
              "      <td>38933.0</td>\n",
              "      <td>270712</td>\n",
              "    </tr>\n",
              "    <tr>\n",
              "      <th>73795</th>\n",
              "      <td>9</td>\n",
              "      <td>302.0</td>\n",
              "      <td>15882</td>\n",
              "    </tr>\n",
              "  </tbody>\n",
              "</table>\n",
              "</div>\n",
              "      <button class=\"colab-df-convert\" onclick=\"convertToInteractive('df-359a32b7-0383-41ca-a007-8db54d8f5777')\"\n",
              "              title=\"Convert this dataframe to an interactive table.\"\n",
              "              style=\"display:none;\">\n",
              "        \n",
              "  <svg xmlns=\"http://www.w3.org/2000/svg\" height=\"24px\"viewBox=\"0 0 24 24\"\n",
              "       width=\"24px\">\n",
              "    <path d=\"M0 0h24v24H0V0z\" fill=\"none\"/>\n",
              "    <path d=\"M18.56 5.44l.94 2.06.94-2.06 2.06-.94-2.06-.94-.94-2.06-.94 2.06-2.06.94zm-11 1L8.5 8.5l.94-2.06 2.06-.94-2.06-.94L8.5 2.5l-.94 2.06-2.06.94zm10 10l.94 2.06.94-2.06 2.06-.94-2.06-.94-.94-2.06-.94 2.06-2.06.94z\"/><path d=\"M17.41 7.96l-1.37-1.37c-.4-.4-.92-.59-1.43-.59-.52 0-1.04.2-1.43.59L10.3 9.45l-7.72 7.72c-.78.78-.78 2.05 0 2.83L4 21.41c.39.39.9.59 1.41.59.51 0 1.02-.2 1.41-.59l7.78-7.78 2.81-2.81c.8-.78.8-2.07 0-2.86zM5.41 20L4 18.59l7.72-7.72 1.47 1.35L5.41 20z\"/>\n",
              "  </svg>\n",
              "      </button>\n",
              "      \n",
              "  <style>\n",
              "    .colab-df-container {\n",
              "      display:flex;\n",
              "      flex-wrap:wrap;\n",
              "      gap: 12px;\n",
              "    }\n",
              "\n",
              "    .colab-df-convert {\n",
              "      background-color: #E8F0FE;\n",
              "      border: none;\n",
              "      border-radius: 50%;\n",
              "      cursor: pointer;\n",
              "      display: none;\n",
              "      fill: #1967D2;\n",
              "      height: 32px;\n",
              "      padding: 0 0 0 0;\n",
              "      width: 32px;\n",
              "    }\n",
              "\n",
              "    .colab-df-convert:hover {\n",
              "      background-color: #E2EBFA;\n",
              "      box-shadow: 0px 1px 2px rgba(60, 64, 67, 0.3), 0px 1px 3px 1px rgba(60, 64, 67, 0.15);\n",
              "      fill: #174EA6;\n",
              "    }\n",
              "\n",
              "    [theme=dark] .colab-df-convert {\n",
              "      background-color: #3B4455;\n",
              "      fill: #D2E3FC;\n",
              "    }\n",
              "\n",
              "    [theme=dark] .colab-df-convert:hover {\n",
              "      background-color: #434B5C;\n",
              "      box-shadow: 0px 1px 3px 1px rgba(0, 0, 0, 0.15);\n",
              "      filter: drop-shadow(0px 1px 2px rgba(0, 0, 0, 0.3));\n",
              "      fill: #FFFFFF;\n",
              "    }\n",
              "  </style>\n",
              "\n",
              "      <script>\n",
              "        const buttonEl =\n",
              "          document.querySelector('#df-359a32b7-0383-41ca-a007-8db54d8f5777 button.colab-df-convert');\n",
              "        buttonEl.style.display =\n",
              "          google.colab.kernel.accessAllowed ? 'block' : 'none';\n",
              "\n",
              "        async function convertToInteractive(key) {\n",
              "          const element = document.querySelector('#df-359a32b7-0383-41ca-a007-8db54d8f5777');\n",
              "          const dataTable =\n",
              "            await google.colab.kernel.invokeFunction('convertToInteractive',\n",
              "                                                     [key], {});\n",
              "          if (!dataTable) return;\n",
              "\n",
              "          const docLinkHtml = 'Like what you see? Visit the ' +\n",
              "            '<a target=\"_blank\" href=https://colab.research.google.com/notebooks/data_table.ipynb>data table notebook</a>'\n",
              "            + ' to learn more about interactive tables.';\n",
              "          element.innerHTML = '';\n",
              "          dataTable['output_type'] = 'display_data';\n",
              "          await google.colab.output.renderOutput(dataTable, element);\n",
              "          const docLink = document.createElement('div');\n",
              "          docLink.innerHTML = docLinkHtml;\n",
              "          element.appendChild(docLink);\n",
              "        }\n",
              "      </script>\n",
              "    </div>\n",
              "  </div>\n",
              "  "
            ]
          },
          "metadata": {},
          "execution_count": 11
        }
      ]
    },
    {
      "cell_type": "code",
      "source": [
        "import matplotlib.pyplot as plt\n",
        "plt.hist(ratings_df['Rating'], bins = np.unique(ratings_df['Rating']))\n",
        "plt.title('Ratings distribution')\n",
        "plt.grid(visible = True)\n",
        "plt.xlabel('Ratings')\n",
        "plt.xticks(np.unique(ratings_df['Rating']))\n",
        "plt.show()"
      ],
      "metadata": {
        "colab": {
          "base_uri": "https://localhost:8080/",
          "height": 472
        },
        "id": "IsMjX8airc4I",
        "outputId": "4a13342d-534c-4061-8f92-1b141733912c"
      },
      "execution_count": null,
      "outputs": [
        {
          "output_type": "display_data",
          "data": {
            "text/plain": [
              "<Figure size 640x480 with 1 Axes>"
            ],
            "image/png": "[encoded data removed]"
          },
          "metadata": {}
        }
      ]
    },
    {
      "cell_type": "code",
      "execution_count": null,
      "metadata": {
        "id": "mssOzvsZMyiL"
      },
      "outputs": [],
      "source": [
        "class BookCrossingDataset(torch.utils.data.Dataset):\n",
        "    \"\"\"\n",
        "    Book Crossing Dataset\n",
        "    Data preparation\n",
        "        rating 0 is 0 (0 means implicit rating, not negative)\n",
        "        ratings less than 4 and more than 1 treat as 1\n",
        "        ratings 5 and 6 treat than 2\n",
        "        rating 7 is 7\n",
        "        rating 8 is 8\n",
        "        rating 9 is 9\n",
        "        rating 10 is 10\n",
        "    \"\"\"\n",
        "    def __init__(self, ratings):\n",
        "        data = ratings.copy().to_numpy()\n",
        "        self.items = data[:,1:3].astype(np.int32)\n",
        "        self.targets = torch.from_numpy(self.__preprocess_target(data[:, 0])).type(torch.LongTensor)\n",
        "        self.field_dims = np.max(self.items, axis=0) + 1\n",
        "        self.user_field_idx = np.array((1, ), dtype=np.int64)\n",
        "        self.item_field_idx = np.array((0,), dtype=np.int64)\n",
        "        self.class_info = dict((classi, number) for classi, number in zip(np.unique(self.targets, return_counts=True)[0],np.unique(self.targets, return_counts=True)[1]))\n",
        "        self.class_weights = [] # we count class weights for class balance during the train\n",
        "        for item in self.targets:\n",
        "          self.class_weights.append(1/self.class_info[int(item)]*10000)\n",
        "\n",
        "\n",
        "    def __len__(self):\n",
        "        return self.targets.shape[0]\n",
        "\n",
        "    def __getitem__(self, index):\n",
        "        return self.items[index], self.targets[index]\n",
        "\n",
        "    def __preprocess_target(self, target):\n",
        "        target[(target <= 4) & (target>=1)] = 1\n",
        "        target[(target == 5) | (target == 6)] = 2\n",
        "        return target\n",
        "    @property\n",
        "    def weights_(self ):\n",
        "      return self.class_weights"
      ]
    },
    {
      "cell_type": "markdown",
      "source": [
        "## Defining Model\n"
      ],
      "metadata": {
        "id": "pMlwUNbmntY7"
      }
    },
    {
      "cell_type": "code",
      "execution_count": null,
      "metadata": {
        "id": "q45SHBbTZPs4"
      },
      "outputs": [],
      "source": [
        "\n",
        "class NeuralCollaborativeFiltering(torch.nn.Module):\n",
        "    \"\"\"\n",
        "    A pytorch implementation of Neural Collaborative Filtering.\n",
        "\n",
        "    \"\"\"\n",
        "\n",
        "    def __init__(self, field_dims, user_field_idx, item_field_idx, embed_dim, mlp_dims, dropout):\n",
        "        super().__init__()\n",
        "        self.user_field_idx = user_field_idx\n",
        "        self.item_field_idx = item_field_idx\n",
        "        self.embedding = torch.nn.Embedding(sum(field_dims), embed_dim)\n",
        "        self.embed_output_dim = len(field_dims) * embed_dim\n",
        "        self.mlp = torch.nn.Sequential(torch.nn.Linear(self.embed_output_dim, 128),\n",
        "                            torch.nn.BatchNorm1d(128),\n",
        "                            torch.nn.ReLU(),\n",
        "                            torch.nn.Dropout(p=dropout),\n",
        "                            torch.nn.Linear(128, 64),\n",
        "                            torch.nn.BatchNorm1d(64),\n",
        "                            torch.nn.ReLU(),\n",
        "                            torch.nn.Dropout(p=dropout),\n",
        "                            torch.nn.Linear(64, 32),\n",
        "                            torch.nn.Linear(32, 16),\n",
        "                            torch.nn.ReLU())\n",
        "        self.fc = torch.nn.Linear(16 + embed_dim, 11)\n",
        "        self.out = torch.nn.Softmax()\n",
        "\n",
        "    def forward(self, x):\n",
        "        \"\"\"\n",
        "        :param x: Long tensor of size ``(batch_size, num_user_fields)``\n",
        "        \"\"\"\n",
        "\n",
        "        x = self.embedding(x)\n",
        "        user_x = x[:, self.user_field_idx].squeeze(1)\n",
        "        item_x = x[:, self.item_field_idx].squeeze(1)\n",
        "        x = self.mlp(x.view(-1, self.embed_output_dim))\n",
        "        gmf = user_x * item_x\n",
        "        x = torch.cat([gmf, x], dim=1)\n",
        "        x = self.fc(x).squeeze(1)\n",
        "        return self.out(x)"
      ]
    },
    {
      "cell_type": "markdown",
      "source": [
        "## Defining training pipeline"
      ],
      "metadata": {
        "id": "wI7vTGBVn4Ap"
      }
    },
    {
      "cell_type": "code",
      "execution_count": null,
      "metadata": {
        "id": "lesNtwEqg8Ln"
      },
      "outputs": [],
      "source": [
        "def train(model, optimizer, data_loader, criterion, device, log_interval=100):\n",
        "    model.train()\n",
        "    total_loss = 0\n",
        "    tk0 = tqdm.tqdm(data_loader, smoothing=0, mininterval=1.0)\n",
        "    for i, (fields, target) in enumerate(tk0):\n",
        "        optimizer.zero_grad()\n",
        "        fields, target = fields.to(device), target.type(torch.LongTensor).to(device)\n",
        "        y_prob = model(fields)\n",
        "        loss = criterion(y_prob, target)\n",
        "        loss.backward()\n",
        "        optimizer.step()\n",
        "        total_loss += loss.item()\n",
        "        if (i + 1) % log_interval == 0:\n",
        "            tk0.set_postfix(loss=total_loss / log_interval)\n",
        "            total_loss = 0\n",
        "    return total_loss"
      ]
    },
    {
      "cell_type": "code",
      "execution_count": null,
      "metadata": {
        "id": "XJ7hglAlBuYA"
      },
      "outputs": [],
      "source": [
        "def test(model, data_loader, device):\n",
        "    model.eval()\n",
        "    targets, predicts = list(), list()\n",
        "    with torch.no_grad():\n",
        "        for fields, target in tqdm.tqdm(data_loader, smoothing=0, mininterval=1.0):\n",
        "            fields, target = fields.to(device), target.to(device)\n",
        "            y_prob = model(fields)\n",
        "            y = torch.argmax(y_prob,-1)\n",
        "            targets.extend(target.tolist())\n",
        "            predicts.extend(y.tolist())\n",
        "    return round(mean_absolute_error(targets, predicts), 6)"
      ]
    },
    {
      "cell_type": "markdown",
      "source": [
        "## Splitting the data, setting weighted sampler and creating the dataloaders."
      ],
      "metadata": {
        "id": "QFSzybLposd1"
      }
    },
    {
      "cell_type": "code",
      "execution_count": null,
      "metadata": {
        "id": "psps38IT52L5"
      },
      "outputs": [],
      "source": [
        "batch_size = 64\n",
        "dataset =  BookCrossingDataset(ratings_df)\n",
        "data = ratings_df\n",
        "train_dataset, test_valid = train_test_split(data, train_size = 0.8, test_size = 0.2)\n",
        "test_dataset, valid_dataset =  train_test_split(test_valid, train_size = 0.5, test_size = 0.5)\n",
        "\n",
        "train_dataset = BookCrossingDataset(train_dataset)\n",
        "test_dataset = BookCrossingDataset(test_dataset)\n",
        "valid_dataset = BookCrossingDataset(valid_dataset)\n",
        "\n",
        "sampler = WeightedRandomSampler(weights = train_dataset.weights_, num_samples = len(train_dataset))\n",
        "train_data_loader = DataLoader((train_dataset), sampler=sampler, batch_size=batch_size) #\n",
        "valid_data_loader = DataLoader(valid_dataset, batch_size=batch_size)\n",
        "test_data_loader = DataLoader(test_dataset, batch_size=batch_size)"
      ]
    },
    {
      "cell_type": "markdown",
      "source": [
        "## Setting parameters for model"
      ],
      "metadata": {
        "id": "Q5aN67UDoA5v"
      }
    },
    {
      "cell_type": "code",
      "execution_count": null,
      "metadata": {
        "id": "4FuzyDu-hx3V"
      },
      "outputs": [],
      "source": [
        "device_cpu = torch.device(\"cuda\") if torch.cuda.is_available() else torch.device(\"cpu\")\n",
        "learning_rate = 1e-4\n",
        "weight_decay = 1e-5\n",
        "epochs = 45\n",
        "device = torch.device(device_cpu)"
      ]
    },
    {
      "cell_type": "code",
      "execution_count": null,
      "metadata": {
        "id": "mmpaRZmOiVbb"
      },
      "outputs": [],
      "source": [
        "field_dims = dataset.field_dims\n",
        "model = NeuralCollaborativeFiltering(field_dims, embed_dim=64, mlp_dims=(32, 32), dropout=0.2,\n",
        "                                       user_field_idx=dataset.user_field_idx,\n",
        "                                       item_field_idx=dataset.item_field_idx)\n",
        "model.to(device)\n",
        "criterion = torch.nn.CrossEntropyLoss()\n",
        "optimizer = torch.optim.Adam(params=model.parameters(), lr=learning_rate, weight_decay=weight_decay)\n",
        "exp_lr_scheduler = lr_scheduler.StepLR(optimizer, step_size=35, gamma=0.1)"
      ]
    },
    {
      "cell_type": "markdown",
      "source": [
        "## Fit model"
      ],
      "metadata": {
        "id": "aIV8yTHYpwgL"
      }
    },
    {
      "cell_type": "code",
      "execution_count": null,
      "metadata": {
        "colab": {
          "base_uri": "https://localhost:8080/"
        },
        "id": "E0cRCdHFi7N4",
        "outputId": "8e70dab0-3050-44f0-87c8-30da8d6a0f85"
      },
      "outputs": [
        {
          "output_type": "stream",
          "name": "stderr",
          "text": [
            "100%|██████████| 12890/12890 [03:47<00:00, 56.69it/s, loss=2.28]\n",
            "100%|██████████| 1612/1612 [00:02<00:00, 779.74it/s]\n"
          ]
        },
        {
          "output_type": "stream",
          "name": "stdout",
          "text": [
            "epoch: 0 validation: mae: 3.545841\n"
          ]
        },
        {
          "output_type": "stream",
          "name": "stderr",
          "text": [
            "100%|██████████| 12890/12890 [03:44<00:00, 57.42it/s, loss=2.22]\n",
            "100%|██████████| 1612/1612 [00:02<00:00, 794.07it/s]\n"
          ]
        },
        {
          "output_type": "stream",
          "name": "stdout",
          "text": [
            "epoch: 1 validation: mae: 3.571084\n"
          ]
        },
        {
          "output_type": "stream",
          "name": "stderr",
          "text": [
            "100%|██████████| 12890/12890 [03:44<00:00, 57.45it/s, loss=2.21]\n",
            "100%|██████████| 1612/1612 [00:02<00:00, 618.24it/s]\n"
          ]
        },
        {
          "output_type": "stream",
          "name": "stdout",
          "text": [
            "epoch: 2 validation: mae: 3.580122\n"
          ]
        },
        {
          "output_type": "stream",
          "name": "stderr",
          "text": [
            "100%|██████████| 12890/12890 [03:43<00:00, 57.58it/s, loss=2.17]\n",
            "100%|██████████| 1612/1612 [00:01<00:00, 819.07it/s]\n"
          ]
        },
        {
          "output_type": "stream",
          "name": "stdout",
          "text": [
            "epoch: 3 validation: mae: 3.562627\n"
          ]
        },
        {
          "output_type": "stream",
          "name": "stderr",
          "text": [
            "100%|██████████| 12890/12890 [03:43<00:00, 57.57it/s, loss=2.16]\n",
            "100%|██████████| 1612/1612 [00:02<00:00, 777.23it/s]\n"
          ]
        },
        {
          "output_type": "stream",
          "name": "stdout",
          "text": [
            "epoch: 4 validation: mae: 3.62186\n"
          ]
        },
        {
          "output_type": "stream",
          "name": "stderr",
          "text": [
            "100%|██████████| 12890/12890 [03:43<00:00, 57.56it/s, loss=2.14]\n",
            "100%|██████████| 1612/1612 [00:01<00:00, 828.72it/s]\n"
          ]
        },
        {
          "output_type": "stream",
          "name": "stdout",
          "text": [
            "epoch: 5 validation: mae: 3.686582\n"
          ]
        },
        {
          "output_type": "stream",
          "name": "stderr",
          "text": [
            "100%|██████████| 12890/12890 [03:43<00:00, 57.60it/s, loss=2.12]\n",
            "100%|██████████| 1612/1612 [00:02<00:00, 796.49it/s]\n"
          ]
        },
        {
          "output_type": "stream",
          "name": "stdout",
          "text": [
            "epoch: 6 validation: mae: 3.657945\n"
          ]
        },
        {
          "output_type": "stream",
          "name": "stderr",
          "text": [
            "100%|██████████| 12890/12890 [03:43<00:00, 57.59it/s, loss=2.13]\n",
            "100%|██████████| 1612/1612 [00:02<00:00, 599.80it/s]\n"
          ]
        },
        {
          "output_type": "stream",
          "name": "stdout",
          "text": [
            "epoch: 7 validation: mae: 3.601234\n"
          ]
        },
        {
          "output_type": "stream",
          "name": "stderr",
          "text": [
            "100%|██████████| 12890/12890 [03:43<00:00, 57.62it/s, loss=2.1]\n",
            "100%|██████████| 1612/1612 [00:01<00:00, 816.44it/s]\n"
          ]
        },
        {
          "output_type": "stream",
          "name": "stdout",
          "text": [
            "epoch: 8 validation: mae: 3.701972\n"
          ]
        },
        {
          "output_type": "stream",
          "name": "stderr",
          "text": [
            "100%|██████████| 12890/12890 [03:43<00:00, 57.65it/s, loss=2.09]\n",
            "100%|██████████| 1612/1612 [00:02<00:00, 751.74it/s]\n"
          ]
        },
        {
          "output_type": "stream",
          "name": "stdout",
          "text": [
            "epoch: 9 validation: mae: 3.713988\n"
          ]
        },
        {
          "output_type": "stream",
          "name": "stderr",
          "text": [
            "100%|██████████| 12890/12890 [03:44<00:00, 57.50it/s, loss=2.11]\n",
            "100%|██████████| 1612/1612 [00:01<00:00, 818.41it/s]\n"
          ]
        },
        {
          "output_type": "stream",
          "name": "stdout",
          "text": [
            "epoch: 10 validation: mae: 3.640305\n"
          ]
        },
        {
          "output_type": "stream",
          "name": "stderr",
          "text": [
            "100%|██████████| 12890/12890 [03:43<00:00, 57.60it/s, loss=2.09]\n",
            "100%|██████████| 1612/1612 [00:01<00:00, 827.82it/s]\n"
          ]
        },
        {
          "output_type": "stream",
          "name": "stdout",
          "text": [
            "epoch: 11 validation: mae: 3.642342\n"
          ]
        },
        {
          "output_type": "stream",
          "name": "stderr",
          "text": [
            "100%|██████████| 12890/12890 [03:43<00:00, 57.63it/s, loss=2.08]\n",
            "100%|██████████| 1612/1612 [00:02<00:00, 685.63it/s]\n"
          ]
        },
        {
          "output_type": "stream",
          "name": "stdout",
          "text": [
            "epoch: 12 validation: mae: 3.641149\n"
          ]
        },
        {
          "output_type": "stream",
          "name": "stderr",
          "text": [
            "100%|██████████| 12890/12890 [03:43<00:00, 57.59it/s, loss=2.08]\n",
            "100%|██████████| 1612/1612 [00:01<00:00, 827.09it/s]\n"
          ]
        },
        {
          "output_type": "stream",
          "name": "stdout",
          "text": [
            "epoch: 13 validation: mae: 3.69659\n"
          ]
        },
        {
          "output_type": "stream",
          "name": "stderr",
          "text": [
            "100%|██████████| 12890/12890 [03:44<00:00, 57.41it/s, loss=2.07]\n",
            "100%|██████████| 1612/1612 [00:01<00:00, 813.66it/s]\n"
          ]
        },
        {
          "output_type": "stream",
          "name": "stdout",
          "text": [
            "epoch: 14 validation: mae: 3.663647\n"
          ]
        },
        {
          "output_type": "stream",
          "name": "stderr",
          "text": [
            "100%|██████████| 12890/12890 [03:45<00:00, 57.18it/s, loss=2.07]\n",
            "100%|██████████| 1612/1612 [00:02<00:00, 797.53it/s]\n"
          ]
        },
        {
          "output_type": "stream",
          "name": "stdout",
          "text": [
            "epoch: 15 validation: mae: 3.617797\n"
          ]
        },
        {
          "output_type": "stream",
          "name": "stderr",
          "text": [
            "100%|██████████| 12890/12890 [03:44<00:00, 57.47it/s, loss=2.07]\n",
            "100%|██████████| 1612/1612 [00:01<00:00, 817.82it/s]\n"
          ]
        },
        {
          "output_type": "stream",
          "name": "stdout",
          "text": [
            "epoch: 16 validation: mae: 3.683023\n"
          ]
        },
        {
          "output_type": "stream",
          "name": "stderr",
          "text": [
            "100%|██████████| 12890/12890 [03:44<00:00, 57.49it/s, loss=2.07]\n",
            "100%|██████████| 1612/1612 [00:02<00:00, 632.34it/s]\n"
          ]
        },
        {
          "output_type": "stream",
          "name": "stdout",
          "text": [
            "epoch: 17 validation: mae: 3.615828\n"
          ]
        },
        {
          "output_type": "stream",
          "name": "stderr",
          "text": [
            "100%|██████████| 12890/12890 [03:45<00:00, 57.10it/s, loss=2.07]\n",
            "100%|██████████| 1612/1612 [00:02<00:00, 803.58it/s]\n"
          ]
        },
        {
          "output_type": "stream",
          "name": "stdout",
          "text": [
            "epoch: 18 validation: mae: 3.559747\n"
          ]
        },
        {
          "output_type": "stream",
          "name": "stderr",
          "text": [
            "100%|██████████| 12890/12890 [03:44<00:00, 57.38it/s, loss=2.06]\n",
            "100%|██████████| 1612/1612 [00:02<00:00, 613.07it/s]\n"
          ]
        },
        {
          "output_type": "stream",
          "name": "stdout",
          "text": [
            "epoch: 19 validation: mae: 3.657567\n"
          ]
        },
        {
          "output_type": "stream",
          "name": "stderr",
          "text": [
            "100%|██████████| 12890/12890 [03:45<00:00, 57.23it/s, loss=2.06]\n",
            "100%|██████████| 1612/1612 [00:02<00:00, 801.82it/s]\n"
          ]
        },
        {
          "output_type": "stream",
          "name": "stdout",
          "text": [
            "epoch: 20 validation: mae: 3.63663\n"
          ]
        },
        {
          "output_type": "stream",
          "name": "stderr",
          "text": [
            "100%|██████████| 12890/12890 [03:44<00:00, 57.36it/s, loss=2.04]\n",
            "100%|██████████| 1612/1612 [00:02<00:00, 588.95it/s]\n"
          ]
        },
        {
          "output_type": "stream",
          "name": "stdout",
          "text": [
            "epoch: 21 validation: mae: 3.522382\n"
          ]
        },
        {
          "output_type": "stream",
          "name": "stderr",
          "text": [
            "100%|██████████| 12890/12890 [03:45<00:00, 57.22it/s, loss=2.06]\n",
            "100%|██████████| 1612/1612 [00:02<00:00, 805.63it/s]\n"
          ]
        },
        {
          "output_type": "stream",
          "name": "stdout",
          "text": [
            "epoch: 22 validation: mae: 3.533321\n"
          ]
        },
        {
          "output_type": "stream",
          "name": "stderr",
          "text": [
            "100%|██████████| 12890/12890 [03:45<00:00, 57.18it/s, loss=2.05]\n",
            "100%|██████████| 1612/1612 [00:02<00:00, 668.40it/s]\n"
          ]
        },
        {
          "output_type": "stream",
          "name": "stdout",
          "text": [
            "epoch: 23 validation: mae: 3.491815\n"
          ]
        },
        {
          "output_type": "stream",
          "name": "stderr",
          "text": [
            "100%|██████████| 12890/12890 [03:45<00:00, 57.17it/s, loss=2.05]\n",
            "100%|██████████| 1612/1612 [00:01<00:00, 809.04it/s]\n"
          ]
        },
        {
          "output_type": "stream",
          "name": "stdout",
          "text": [
            "epoch: 24 validation: mae: 3.543601\n"
          ]
        },
        {
          "output_type": "stream",
          "name": "stderr",
          "text": [
            "100%|██████████| 12890/12890 [03:45<00:00, 57.07it/s, loss=2.05]\n",
            "100%|██████████| 1612/1612 [00:02<00:00, 611.57it/s]\n"
          ]
        },
        {
          "output_type": "stream",
          "name": "stdout",
          "text": [
            "epoch: 25 validation: mae: 3.492193\n"
          ]
        },
        {
          "output_type": "stream",
          "name": "stderr",
          "text": [
            "100%|██████████| 12890/12890 [03:45<00:00, 57.06it/s, loss=2.05]\n",
            "100%|██████████| 1612/1612 [00:02<00:00, 781.64it/s]\n"
          ]
        },
        {
          "output_type": "stream",
          "name": "stdout",
          "text": [
            "epoch: 26 validation: mae: 3.499738\n"
          ]
        },
        {
          "output_type": "stream",
          "name": "stderr",
          "text": [
            "100%|██████████| 12890/12890 [03:46<00:00, 56.90it/s, loss=2.04]\n",
            "100%|██████████| 1612/1612 [00:02<00:00, 612.83it/s]\n"
          ]
        },
        {
          "output_type": "stream",
          "name": "stdout",
          "text": [
            "epoch: 27 validation: mae: 3.4737\n"
          ]
        },
        {
          "output_type": "stream",
          "name": "stderr",
          "text": [
            "100%|██████████| 12890/12890 [03:46<00:00, 56.88it/s, loss=2.05]\n",
            "100%|██████████| 1612/1612 [00:02<00:00, 789.56it/s]\n"
          ]
        },
        {
          "output_type": "stream",
          "name": "stdout",
          "text": [
            "epoch: 28 validation: mae: 3.523643\n"
          ]
        },
        {
          "output_type": "stream",
          "name": "stderr",
          "text": [
            "100%|██████████| 12890/12890 [03:46<00:00, 56.92it/s, loss=2.04]\n",
            "100%|██████████| 1612/1612 [00:02<00:00, 704.62it/s]\n"
          ]
        },
        {
          "output_type": "stream",
          "name": "stdout",
          "text": [
            "epoch: 29 validation: mae: 3.459852\n"
          ]
        },
        {
          "output_type": "stream",
          "name": "stderr",
          "text": [
            "100%|██████████| 12890/12890 [03:46<00:00, 57.02it/s, loss=2.04]\n",
            "100%|██████████| 1612/1612 [00:02<00:00, 799.20it/s]\n"
          ]
        },
        {
          "output_type": "stream",
          "name": "stdout",
          "text": [
            "epoch: 30 validation: mae: 3.523274\n"
          ]
        },
        {
          "output_type": "stream",
          "name": "stderr",
          "text": [
            "100%|██████████| 12890/12890 [03:46<00:00, 56.96it/s, loss=2.05]\n",
            "100%|██████████| 1612/1612 [00:02<00:00, 779.72it/s]\n"
          ]
        },
        {
          "output_type": "stream",
          "name": "stdout",
          "text": [
            "epoch: 31 validation: mae: 3.483931\n"
          ]
        },
        {
          "output_type": "stream",
          "name": "stderr",
          "text": [
            "100%|██████████| 12890/12890 [03:45<00:00, 57.04it/s, loss=2.04]\n",
            "100%|██████████| 1612/1612 [00:02<00:00, 697.97it/s]\n"
          ]
        },
        {
          "output_type": "stream",
          "name": "stdout",
          "text": [
            "epoch: 32 validation: mae: 3.469724\n"
          ]
        },
        {
          "output_type": "stream",
          "name": "stderr",
          "text": [
            "100%|██████████| 12890/12890 [03:45<00:00, 57.06it/s, loss=2.03]\n",
            "100%|██████████| 1612/1612 [00:02<00:00, 798.27it/s]\n"
          ]
        },
        {
          "output_type": "stream",
          "name": "stdout",
          "text": [
            "epoch: 33 validation: mae: 3.486278\n"
          ]
        },
        {
          "output_type": "stream",
          "name": "stderr",
          "text": [
            "100%|██████████| 12890/12890 [03:45<00:00, 57.18it/s, loss=2.03]\n",
            "100%|██████████| 1612/1612 [00:02<00:00, 739.19it/s]\n"
          ]
        },
        {
          "output_type": "stream",
          "name": "stdout",
          "text": [
            "epoch: 34 validation: mae: 3.438275\n"
          ]
        },
        {
          "output_type": "stream",
          "name": "stderr",
          "text": [
            "100%|██████████| 12890/12890 [03:45<00:00, 57.20it/s, loss=2.02]\n",
            "100%|██████████| 1612/1612 [00:02<00:00, 803.39it/s]\n"
          ]
        },
        {
          "output_type": "stream",
          "name": "stdout",
          "text": [
            "epoch: 35 validation: mae: 3.460211\n"
          ]
        },
        {
          "output_type": "stream",
          "name": "stderr",
          "text": [
            "100%|██████████| 12890/12890 [03:45<00:00, 57.13it/s, loss=2.01]\n",
            "100%|██████████| 1612/1612 [00:02<00:00, 687.98it/s]\n"
          ]
        },
        {
          "output_type": "stream",
          "name": "stdout",
          "text": [
            "epoch: 36 validation: mae: 3.38069\n"
          ]
        },
        {
          "output_type": "stream",
          "name": "stderr",
          "text": [
            "100%|██████████| 12890/12890 [03:45<00:00, 57.15it/s, loss=2.01]\n",
            "100%|██████████| 1612/1612 [00:02<00:00, 790.52it/s]\n"
          ]
        },
        {
          "output_type": "stream",
          "name": "stdout",
          "text": [
            "epoch: 37 validation: mae: 3.426007\n"
          ]
        },
        {
          "output_type": "stream",
          "name": "stderr",
          "text": [
            "100%|██████████| 12890/12890 [03:45<00:00, 57.21it/s, loss=2.02]\n",
            "100%|██████████| 1612/1612 [00:02<00:00, 619.80it/s]\n"
          ]
        },
        {
          "output_type": "stream",
          "name": "stdout",
          "text": [
            "epoch: 38 validation: mae: 3.434143\n"
          ]
        },
        {
          "output_type": "stream",
          "name": "stderr",
          "text": [
            "100%|██████████| 12890/12890 [03:45<00:00, 57.21it/s, loss=2.01]\n",
            "100%|██████████| 1612/1612 [00:02<00:00, 597.40it/s]\n"
          ]
        },
        {
          "output_type": "stream",
          "name": "stdout",
          "text": [
            "epoch: 39 validation: mae: 3.420809\n"
          ]
        },
        {
          "output_type": "stream",
          "name": "stderr",
          "text": [
            "100%|██████████| 12890/12890 [03:46<00:00, 56.97it/s, loss=2.01]\n",
            "100%|██████████| 1612/1612 [00:02<00:00, 605.69it/s]\n"
          ]
        },
        {
          "output_type": "stream",
          "name": "stdout",
          "text": [
            "epoch: 40 validation: mae: 3.428761\n"
          ]
        },
        {
          "output_type": "stream",
          "name": "stderr",
          "text": [
            "100%|██████████| 12890/12890 [03:49<00:00, 56.20it/s, loss=2.01]\n",
            "100%|██████████| 1612/1612 [00:02<00:00, 747.41it/s]\n"
          ]
        },
        {
          "output_type": "stream",
          "name": "stdout",
          "text": [
            "epoch: 41 validation: mae: 3.483679\n"
          ]
        },
        {
          "output_type": "stream",
          "name": "stderr",
          "text": [
            "100%|██████████| 12890/12890 [03:49<00:00, 56.14it/s, loss=2]\n",
            "100%|██████████| 1612/1612 [00:02<00:00, 704.62it/s]\n"
          ]
        },
        {
          "output_type": "stream",
          "name": "stdout",
          "text": [
            "epoch: 42 validation: mae: 3.495879\n"
          ]
        },
        {
          "output_type": "stream",
          "name": "stderr",
          "text": [
            "100%|██████████| 12890/12890 [03:47<00:00, 56.75it/s, loss=2]\n",
            "100%|██████████| 1612/1612 [00:02<00:00, 764.69it/s]\n"
          ]
        },
        {
          "output_type": "stream",
          "name": "stdout",
          "text": [
            "epoch: 43 validation: mae: 3.41534\n"
          ]
        },
        {
          "output_type": "stream",
          "name": "stderr",
          "text": [
            "100%|██████████| 12890/12890 [03:44<00:00, 57.33it/s, loss=2.01]\n",
            "100%|██████████| 1612/1612 [00:02<00:00, 674.85it/s]"
          ]
        },
        {
          "output_type": "stream",
          "name": "stdout",
          "text": [
            "epoch: 44 validation: mae: 3.450212\n"
          ]
        },
        {
          "output_type": "stream",
          "name": "stderr",
          "text": [
            "\n"
          ]
        }
      ],
      "source": [
        "loss_list =  []\n",
        "valid_mae = []\n",
        "for epoch_i in range(epochs):\n",
        "    loss_list.append(train(model, optimizer, train_data_loader, criterion, device)/100)\n",
        "    mae = test(model, valid_data_loader, device)\n",
        "    valid_mae.append(mae)\n",
        "    exp_lr_scheduler.step()\n",
        "    print('epoch:', epoch_i, 'validation: mae:', mae)"
      ]
    },
    {
      "cell_type": "code",
      "source": [
        "torch.save(model, 'new_model_3_45.pt')"
      ],
      "metadata": {
        "id": "_N6v-DMNeQ2C"
      },
      "execution_count": null,
      "outputs": []
    },
    {
      "cell_type": "code",
      "source": [
        "from matplotlib import pyplot as plt\n",
        "\n",
        "f, ax = plt.subplots(2,1, figsize=(8,8))\n",
        "ax[0].plot(loss_list, label=\"train loss\")\n",
        "ax[0].legend()\n",
        "ax[0].grid(linestyle=\"-\")\n",
        "ax[0].set_title('Train Loss')\n",
        "ax[1].plot(valid_mae, label=\"validation mae\")\n",
        "ax[1].legend()\n",
        "ax[1].grid(linestyle=\"-\")\n",
        "ax[1].set_title('Validation MAE')\n",
        "plt.show()"
      ],
      "metadata": {
        "id": "r_C5g9VdzLJ4",
        "colab": {
          "base_uri": "https://localhost:8080/",
          "height": 699
        },
        "outputId": "80d99322-4a20-4255-e179-2ebdff70f0ac"
      },
      "execution_count": null,
      "outputs": [
        {
          "output_type": "display_data",
          "data": {
            "text/plain": [
              "<Figure size 800x800 with 2 Axes>"
            ],
            "image/png": "[encoded data removed]"
          },
          "metadata": {}
        }
      ]
    },
    {
      "cell_type": "code",
      "source": [
        "test_mae =  test(model, test_data_loader, device)\n",
        "print(' ')\n",
        "print(f'Test MAE: {test_mae}')"
      ],
      "metadata": {
        "id": "vDKYGoGz39R7",
        "colab": {
          "base_uri": "https://localhost:8080/"
        },
        "outputId": "a5302903-1e3a-41fa-eef9-84c55a514753"
      },
      "execution_count": null,
      "outputs": [
        {
          "output_type": "stream",
          "name": "stderr",
          "text": [
            "100%|██████████| 1612/1612 [00:02<00:00, 786.15it/s]"
          ]
        },
        {
          "output_type": "stream",
          "name": "stdout",
          "text": [
            " \n",
            "Test MAE: 3.437348\n"
          ]
        },
        {
          "output_type": "stream",
          "name": "stderr",
          "text": [
            "\n"
          ]
        }
      ]
    }
  ],
  "metadata": {
    "accelerator": "GPU",
    "colab": {
      "provenance": [],
      "gpuType": "T4",
      "include_colab_link": true
    },
    "kernelspec": {
      "display_name": "Python 3",
      "name": "python3"
    },
    "language_info": {
      "name": "python"
    }
  },
  "nbformat": 4,
  "nbformat_minor": 0
}