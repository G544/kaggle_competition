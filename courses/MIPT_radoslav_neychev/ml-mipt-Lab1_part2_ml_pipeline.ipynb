{
 "cells": [
  {
   "cell_type": "markdown",
   "metadata": {
    "nbgrader": {
     "grade": false,
     "grade_id": "cell-86e0de040aac317a",
     "locked": true,
     "schema_version": 2,
     "solution": false
    }
   },
   "source": [
    "# Lab assignment №1, part 2\n",
    "\n",
    "This lab assignment consists of several parts. You are supposed to make some transformations, train some models, estimate the quality of the models and explain your results.\n",
    "\n",
    "Several comments:\n",
    "* Don't hesitate to ask questions, it's a good practice.\n",
    "* No private/public sharing, please. The copied assignments will be graded with 0 points.\n",
    "* Blocks of this lab will be graded separately."
   ]
  },
  {
   "cell_type": "markdown",
   "metadata": {},
   "source": [
    "__*This is the second part of the assignment. First and third parts are waiting for you in the same directory.*__"
   ]
  },
  {
   "cell_type": "markdown",
   "metadata": {
    "nbgrader": {
     "grade": false,
     "grade_id": "cell-512ba712fc0fc065",
     "locked": true,
     "schema_version": 2,
     "solution": false
    }
   },
   "source": [
    "## Part 2. Data preprocessing, model training and evaluation."
   ]
  },
  {
   "cell_type": "markdown",
   "metadata": {
    "nbgrader": {
     "grade": false,
     "grade_id": "cell-b656a4266174b009",
     "locked": true,
     "schema_version": 2,
     "solution": false
    }
   },
   "source": [
    "### 1. Reading the data\n",
    "Today we work with the [dataset](https://archive.ics.uci.edu/ml/datasets/Statlog+%28Vehicle+Silhouettes%29), describing different cars for multiclass ($k=4$) classification problem. The data is available below."
   ]
  },
  {
   "cell_type": "code",
   "execution_count": 1,
   "metadata": {},
   "outputs": [],
   "source": [
    "# If on colab, uncomment the following lines\n",
    "\n",
    "# ! wget https://raw.githubusercontent.com/girafe-ai/ml-mipt/basic_f20/homeworks_basic/Lab1_ML_pipeline_and_SVM/car_data.csv"
   ]
  },
  {
   "cell_type": "code",
   "execution_count": 1,
   "metadata": {
    "nbgrader": {
     "grade": false,
     "grade_id": "cell-eebac6bfdf73d0bc",
     "locked": true,
     "schema_version": 2,
     "solution": false
    }
   },
   "outputs": [
    {
     "name": "stdout",
     "output_type": "stream",
     "text": [
      "(846, 19) (846,)\n",
      "(549, 19) (549,) (297, 19) (297,)\n"
     ]
    }
   ],
   "source": [
    "import pandas as pd\n",
    "import numpy as np\n",
    "from sklearn.model_selection import train_test_split\n",
    "\n",
    "dataset = pd.read_csv('car_data.csv', delimiter=',', header=None).values\n",
    "data = dataset[:, :-1].astype(int)\n",
    "target = dataset[:, -1]\n",
    "\n",
    "print(data.shape, target.shape)\n",
    "\n",
    "X_train, X_test, y_train, y_test = train_test_split(data, target, test_size=0.35)\n",
    "print(X_train.shape, y_train.shape, X_test.shape, y_test.shape)"
   ]
  },
  {
   "cell_type": "markdown",
   "metadata": {
    "nbgrader": {
     "grade": false,
     "grade_id": "cell-88b1a0f688568f2c",
     "locked": true,
     "schema_version": 2,
     "solution": false
    }
   },
   "source": [
    "To get some insights about the dataset, `pandas` might be used. The `train` part is transformed to `pd.DataFrame` below."
   ]
  },
  {
   "cell_type": "code",
   "execution_count": 2,
   "metadata": {},
   "outputs": [
    {
     "data": {
      "text/html": [
       "<div>\n",
       "<style scoped>\n",
       "    .dataframe tbody tr th:only-of-type {\n",
       "        vertical-align: middle;\n",
       "    }\n",
       "\n",
       "    .dataframe tbody tr th {\n",
       "        vertical-align: top;\n",
       "    }\n",
       "\n",
       "    .dataframe thead th {\n",
       "        text-align: right;\n",
       "    }\n",
       "</style>\n",
       "<table border=\"1\" class=\"dataframe\">\n",
       "  <thead>\n",
       "    <tr style=\"text-align: right;\">\n",
       "      <th></th>\n",
       "      <th>0</th>\n",
       "      <th>1</th>\n",
       "      <th>2</th>\n",
       "      <th>3</th>\n",
       "      <th>4</th>\n",
       "      <th>5</th>\n",
       "      <th>6</th>\n",
       "      <th>7</th>\n",
       "      <th>8</th>\n",
       "      <th>9</th>\n",
       "      <th>10</th>\n",
       "      <th>11</th>\n",
       "      <th>12</th>\n",
       "      <th>13</th>\n",
       "      <th>14</th>\n",
       "      <th>15</th>\n",
       "      <th>16</th>\n",
       "      <th>17</th>\n",
       "      <th>18</th>\n",
       "    </tr>\n",
       "  </thead>\n",
       "  <tbody>\n",
       "    <tr>\n",
       "      <td>0</td>\n",
       "      <td>465</td>\n",
       "      <td>82</td>\n",
       "      <td>43</td>\n",
       "      <td>71</td>\n",
       "      <td>154</td>\n",
       "      <td>68</td>\n",
       "      <td>7</td>\n",
       "      <td>150</td>\n",
       "      <td>45</td>\n",
       "      <td>19</td>\n",
       "      <td>143</td>\n",
       "      <td>171</td>\n",
       "      <td>330</td>\n",
       "      <td>173</td>\n",
       "      <td>78</td>\n",
       "      <td>7</td>\n",
       "      <td>11</td>\n",
       "      <td>181</td>\n",
       "      <td>186</td>\n",
       "    </tr>\n",
       "    <tr>\n",
       "      <td>1</td>\n",
       "      <td>55</td>\n",
       "      <td>94</td>\n",
       "      <td>36</td>\n",
       "      <td>66</td>\n",
       "      <td>151</td>\n",
       "      <td>61</td>\n",
       "      <td>8</td>\n",
       "      <td>133</td>\n",
       "      <td>50</td>\n",
       "      <td>18</td>\n",
       "      <td>135</td>\n",
       "      <td>154</td>\n",
       "      <td>265</td>\n",
       "      <td>119</td>\n",
       "      <td>62</td>\n",
       "      <td>9</td>\n",
       "      <td>3</td>\n",
       "      <td>201</td>\n",
       "      <td>208</td>\n",
       "    </tr>\n",
       "    <tr>\n",
       "      <td>2</td>\n",
       "      <td>653</td>\n",
       "      <td>97</td>\n",
       "      <td>41</td>\n",
       "      <td>92</td>\n",
       "      <td>197</td>\n",
       "      <td>63</td>\n",
       "      <td>10</td>\n",
       "      <td>179</td>\n",
       "      <td>37</td>\n",
       "      <td>21</td>\n",
       "      <td>140</td>\n",
       "      <td>197</td>\n",
       "      <td>481</td>\n",
       "      <td>136</td>\n",
       "      <td>63</td>\n",
       "      <td>4</td>\n",
       "      <td>3</td>\n",
       "      <td>197</td>\n",
       "      <td>204</td>\n",
       "    </tr>\n",
       "    <tr>\n",
       "      <td>3</td>\n",
       "      <td>12</td>\n",
       "      <td>88</td>\n",
       "      <td>46</td>\n",
       "      <td>74</td>\n",
       "      <td>171</td>\n",
       "      <td>68</td>\n",
       "      <td>6</td>\n",
       "      <td>152</td>\n",
       "      <td>43</td>\n",
       "      <td>19</td>\n",
       "      <td>148</td>\n",
       "      <td>180</td>\n",
       "      <td>349</td>\n",
       "      <td>192</td>\n",
       "      <td>71</td>\n",
       "      <td>5</td>\n",
       "      <td>11</td>\n",
       "      <td>189</td>\n",
       "      <td>195</td>\n",
       "    </tr>\n",
       "    <tr>\n",
       "      <td>4</td>\n",
       "      <td>505</td>\n",
       "      <td>115</td>\n",
       "      <td>53</td>\n",
       "      <td>100</td>\n",
       "      <td>205</td>\n",
       "      <td>64</td>\n",
       "      <td>11</td>\n",
       "      <td>220</td>\n",
       "      <td>30</td>\n",
       "      <td>25</td>\n",
       "      <td>166</td>\n",
       "      <td>229</td>\n",
       "      <td>710</td>\n",
       "      <td>214</td>\n",
       "      <td>71</td>\n",
       "      <td>21</td>\n",
       "      <td>11</td>\n",
       "      <td>189</td>\n",
       "      <td>199</td>\n",
       "    </tr>\n",
       "    <tr>\n",
       "      <td>5</td>\n",
       "      <td>330</td>\n",
       "      <td>98</td>\n",
       "      <td>44</td>\n",
       "      <td>78</td>\n",
       "      <td>160</td>\n",
       "      <td>63</td>\n",
       "      <td>8</td>\n",
       "      <td>142</td>\n",
       "      <td>47</td>\n",
       "      <td>18</td>\n",
       "      <td>148</td>\n",
       "      <td>160</td>\n",
       "      <td>300</td>\n",
       "      <td>171</td>\n",
       "      <td>63</td>\n",
       "      <td>19</td>\n",
       "      <td>2</td>\n",
       "      <td>201</td>\n",
       "      <td>207</td>\n",
       "    </tr>\n",
       "    <tr>\n",
       "      <td>6</td>\n",
       "      <td>772</td>\n",
       "      <td>92</td>\n",
       "      <td>52</td>\n",
       "      <td>93</td>\n",
       "      <td>204</td>\n",
       "      <td>67</td>\n",
       "      <td>9</td>\n",
       "      <td>189</td>\n",
       "      <td>35</td>\n",
       "      <td>22</td>\n",
       "      <td>161</td>\n",
       "      <td>214</td>\n",
       "      <td>536</td>\n",
       "      <td>240</td>\n",
       "      <td>72</td>\n",
       "      <td>2</td>\n",
       "      <td>5</td>\n",
       "      <td>188</td>\n",
       "      <td>195</td>\n",
       "    </tr>\n",
       "    <tr>\n",
       "      <td>7</td>\n",
       "      <td>806</td>\n",
       "      <td>88</td>\n",
       "      <td>45</td>\n",
       "      <td>82</td>\n",
       "      <td>155</td>\n",
       "      <td>56</td>\n",
       "      <td>8</td>\n",
       "      <td>154</td>\n",
       "      <td>43</td>\n",
       "      <td>19</td>\n",
       "      <td>149</td>\n",
       "      <td>180</td>\n",
       "      <td>357</td>\n",
       "      <td>170</td>\n",
       "      <td>69</td>\n",
       "      <td>3</td>\n",
       "      <td>0</td>\n",
       "      <td>188</td>\n",
       "      <td>193</td>\n",
       "    </tr>\n",
       "    <tr>\n",
       "      <td>8</td>\n",
       "      <td>538</td>\n",
       "      <td>101</td>\n",
       "      <td>49</td>\n",
       "      <td>103</td>\n",
       "      <td>212</td>\n",
       "      <td>67</td>\n",
       "      <td>10</td>\n",
       "      <td>201</td>\n",
       "      <td>33</td>\n",
       "      <td>23</td>\n",
       "      <td>156</td>\n",
       "      <td>215</td>\n",
       "      <td>601</td>\n",
       "      <td>174</td>\n",
       "      <td>69</td>\n",
       "      <td>4</td>\n",
       "      <td>11</td>\n",
       "      <td>189</td>\n",
       "      <td>196</td>\n",
       "    </tr>\n",
       "    <tr>\n",
       "      <td>9</td>\n",
       "      <td>368</td>\n",
       "      <td>84</td>\n",
       "      <td>45</td>\n",
       "      <td>68</td>\n",
       "      <td>148</td>\n",
       "      <td>64</td>\n",
       "      <td>6</td>\n",
       "      <td>146</td>\n",
       "      <td>46</td>\n",
       "      <td>19</td>\n",
       "      <td>142</td>\n",
       "      <td>168</td>\n",
       "      <td>317</td>\n",
       "      <td>180</td>\n",
       "      <td>75</td>\n",
       "      <td>5</td>\n",
       "      <td>1</td>\n",
       "      <td>183</td>\n",
       "      <td>187</td>\n",
       "    </tr>\n",
       "    <tr>\n",
       "      <td>10</td>\n",
       "      <td>475</td>\n",
       "      <td>97</td>\n",
       "      <td>55</td>\n",
       "      <td>104</td>\n",
       "      <td>219</td>\n",
       "      <td>71</td>\n",
       "      <td>9</td>\n",
       "      <td>211</td>\n",
       "      <td>32</td>\n",
       "      <td>24</td>\n",
       "      <td>171</td>\n",
       "      <td>222</td>\n",
       "      <td>658</td>\n",
       "      <td>223</td>\n",
       "      <td>74</td>\n",
       "      <td>1</td>\n",
       "      <td>24</td>\n",
       "      <td>186</td>\n",
       "      <td>196</td>\n",
       "    </tr>\n",
       "    <tr>\n",
       "      <td>11</td>\n",
       "      <td>329</td>\n",
       "      <td>89</td>\n",
       "      <td>38</td>\n",
       "      <td>80</td>\n",
       "      <td>169</td>\n",
       "      <td>59</td>\n",
       "      <td>7</td>\n",
       "      <td>161</td>\n",
       "      <td>41</td>\n",
       "      <td>20</td>\n",
       "      <td>131</td>\n",
       "      <td>186</td>\n",
       "      <td>389</td>\n",
       "      <td>137</td>\n",
       "      <td>68</td>\n",
       "      <td>5</td>\n",
       "      <td>15</td>\n",
       "      <td>192</td>\n",
       "      <td>197</td>\n",
       "    </tr>\n",
       "    <tr>\n",
       "      <td>12</td>\n",
       "      <td>152</td>\n",
       "      <td>93</td>\n",
       "      <td>35</td>\n",
       "      <td>72</td>\n",
       "      <td>172</td>\n",
       "      <td>62</td>\n",
       "      <td>7</td>\n",
       "      <td>149</td>\n",
       "      <td>44</td>\n",
       "      <td>19</td>\n",
       "      <td>124</td>\n",
       "      <td>169</td>\n",
       "      <td>334</td>\n",
       "      <td>125</td>\n",
       "      <td>62</td>\n",
       "      <td>5</td>\n",
       "      <td>30</td>\n",
       "      <td>203</td>\n",
       "      <td>210</td>\n",
       "    </tr>\n",
       "    <tr>\n",
       "      <td>13</td>\n",
       "      <td>284</td>\n",
       "      <td>89</td>\n",
       "      <td>46</td>\n",
       "      <td>77</td>\n",
       "      <td>125</td>\n",
       "      <td>52</td>\n",
       "      <td>10</td>\n",
       "      <td>156</td>\n",
       "      <td>44</td>\n",
       "      <td>20</td>\n",
       "      <td>160</td>\n",
       "      <td>171</td>\n",
       "      <td>351</td>\n",
       "      <td>177</td>\n",
       "      <td>78</td>\n",
       "      <td>7</td>\n",
       "      <td>17</td>\n",
       "      <td>183</td>\n",
       "      <td>191</td>\n",
       "    </tr>\n",
       "    <tr>\n",
       "      <td>14</td>\n",
       "      <td>753</td>\n",
       "      <td>91</td>\n",
       "      <td>36</td>\n",
       "      <td>72</td>\n",
       "      <td>162</td>\n",
       "      <td>60</td>\n",
       "      <td>8</td>\n",
       "      <td>150</td>\n",
       "      <td>44</td>\n",
       "      <td>19</td>\n",
       "      <td>133</td>\n",
       "      <td>166</td>\n",
       "      <td>334</td>\n",
       "      <td>121</td>\n",
       "      <td>63</td>\n",
       "      <td>2</td>\n",
       "      <td>22</td>\n",
       "      <td>196</td>\n",
       "      <td>205</td>\n",
       "    </tr>\n",
       "  </tbody>\n",
       "</table>\n",
       "</div>"
      ],
      "text/plain": [
       "      0    1   2    3    4   5   6    7   8   9   10   11   12   13  14  15  \\\n",
       "0   465   82  43   71  154  68   7  150  45  19  143  171  330  173  78   7   \n",
       "1    55   94  36   66  151  61   8  133  50  18  135  154  265  119  62   9   \n",
       "2   653   97  41   92  197  63  10  179  37  21  140  197  481  136  63   4   \n",
       "3    12   88  46   74  171  68   6  152  43  19  148  180  349  192  71   5   \n",
       "4   505  115  53  100  205  64  11  220  30  25  166  229  710  214  71  21   \n",
       "5   330   98  44   78  160  63   8  142  47  18  148  160  300  171  63  19   \n",
       "6   772   92  52   93  204  67   9  189  35  22  161  214  536  240  72   2   \n",
       "7   806   88  45   82  155  56   8  154  43  19  149  180  357  170  69   3   \n",
       "8   538  101  49  103  212  67  10  201  33  23  156  215  601  174  69   4   \n",
       "9   368   84  45   68  148  64   6  146  46  19  142  168  317  180  75   5   \n",
       "10  475   97  55  104  219  71   9  211  32  24  171  222  658  223  74   1   \n",
       "11  329   89  38   80  169  59   7  161  41  20  131  186  389  137  68   5   \n",
       "12  152   93  35   72  172  62   7  149  44  19  124  169  334  125  62   5   \n",
       "13  284   89  46   77  125  52  10  156  44  20  160  171  351  177  78   7   \n",
       "14  753   91  36   72  162  60   8  150  44  19  133  166  334  121  63   2   \n",
       "\n",
       "    16   17   18  \n",
       "0   11  181  186  \n",
       "1    3  201  208  \n",
       "2    3  197  204  \n",
       "3   11  189  195  \n",
       "4   11  189  199  \n",
       "5    2  201  207  \n",
       "6    5  188  195  \n",
       "7    0  188  193  \n",
       "8   11  189  196  \n",
       "9    1  183  187  \n",
       "10  24  186  196  \n",
       "11  15  192  197  \n",
       "12  30  203  210  \n",
       "13  17  183  191  \n",
       "14  22  196  205  "
      ]
     },
     "execution_count": 2,
     "metadata": {},
     "output_type": "execute_result"
    }
   ],
   "source": [
    "X_train_pd = pd.DataFrame(X_train)\n",
    "\n",
    "# First 15 rows of our dataset.\n",
    "X_train_pd.head(15)"
   ]
  },
  {
   "cell_type": "markdown",
   "metadata": {
    "nbgrader": {
     "grade": false,
     "grade_id": "cell-98e7d91d77d65fcf",
     "locked": true,
     "schema_version": 2,
     "solution": false
    }
   },
   "source": [
    "Methods `describe` and `info` deliver some useful information."
   ]
  },
  {
   "cell_type": "code",
   "execution_count": 3,
   "metadata": {},
   "outputs": [
    {
     "data": {
      "text/html": [
       "<div>\n",
       "<style scoped>\n",
       "    .dataframe tbody tr th:only-of-type {\n",
       "        vertical-align: middle;\n",
       "    }\n",
       "\n",
       "    .dataframe tbody tr th {\n",
       "        vertical-align: top;\n",
       "    }\n",
       "\n",
       "    .dataframe thead th {\n",
       "        text-align: right;\n",
       "    }\n",
       "</style>\n",
       "<table border=\"1\" class=\"dataframe\">\n",
       "  <thead>\n",
       "    <tr style=\"text-align: right;\">\n",
       "      <th></th>\n",
       "      <th>0</th>\n",
       "      <th>1</th>\n",
       "      <th>2</th>\n",
       "      <th>3</th>\n",
       "      <th>4</th>\n",
       "      <th>5</th>\n",
       "      <th>6</th>\n",
       "      <th>7</th>\n",
       "      <th>8</th>\n",
       "      <th>9</th>\n",
       "      <th>10</th>\n",
       "      <th>11</th>\n",
       "      <th>12</th>\n",
       "      <th>13</th>\n",
       "      <th>14</th>\n",
       "      <th>15</th>\n",
       "      <th>16</th>\n",
       "      <th>17</th>\n",
       "      <th>18</th>\n",
       "    </tr>\n",
       "  </thead>\n",
       "  <tbody>\n",
       "    <tr>\n",
       "      <td>count</td>\n",
       "      <td>549.000000</td>\n",
       "      <td>549.000000</td>\n",
       "      <td>549.000000</td>\n",
       "      <td>549.000000</td>\n",
       "      <td>549.000000</td>\n",
       "      <td>549.000000</td>\n",
       "      <td>549.000000</td>\n",
       "      <td>549.000000</td>\n",
       "      <td>549.000000</td>\n",
       "      <td>549.000000</td>\n",
       "      <td>549.000000</td>\n",
       "      <td>549.000000</td>\n",
       "      <td>549.000000</td>\n",
       "      <td>549.000000</td>\n",
       "      <td>549.000000</td>\n",
       "      <td>549.000000</td>\n",
       "      <td>549.000000</td>\n",
       "      <td>549.000000</td>\n",
       "      <td>549.000000</td>\n",
       "    </tr>\n",
       "    <tr>\n",
       "      <td>mean</td>\n",
       "      <td>423.759563</td>\n",
       "      <td>94.081967</td>\n",
       "      <td>45.030965</td>\n",
       "      <td>82.806922</td>\n",
       "      <td>170.034608</td>\n",
       "      <td>61.677596</td>\n",
       "      <td>8.573770</td>\n",
       "      <td>170.495446</td>\n",
       "      <td>40.561020</td>\n",
       "      <td>20.712204</td>\n",
       "      <td>148.313297</td>\n",
       "      <td>190.014572</td>\n",
       "      <td>448.628415</td>\n",
       "      <td>175.579235</td>\n",
       "      <td>72.466302</td>\n",
       "      <td>6.371585</td>\n",
       "      <td>12.752277</td>\n",
       "      <td>188.892532</td>\n",
       "      <td>195.542805</td>\n",
       "    </tr>\n",
       "    <tr>\n",
       "      <td>std</td>\n",
       "      <td>245.197307</td>\n",
       "      <td>8.299735</td>\n",
       "      <td>6.210492</td>\n",
       "      <td>16.049395</td>\n",
       "      <td>33.415170</td>\n",
       "      <td>7.582146</td>\n",
       "      <td>4.521696</td>\n",
       "      <td>33.633578</td>\n",
       "      <td>7.846521</td>\n",
       "      <td>2.623076</td>\n",
       "      <td>14.590525</td>\n",
       "      <td>31.007118</td>\n",
       "      <td>178.964225</td>\n",
       "      <td>32.935011</td>\n",
       "      <td>6.877264</td>\n",
       "      <td>4.893053</td>\n",
       "      <td>9.030192</td>\n",
       "      <td>6.056103</td>\n",
       "      <td>7.405394</td>\n",
       "    </tr>\n",
       "    <tr>\n",
       "      <td>min</td>\n",
       "      <td>0.000000</td>\n",
       "      <td>73.000000</td>\n",
       "      <td>33.000000</td>\n",
       "      <td>40.000000</td>\n",
       "      <td>105.000000</td>\n",
       "      <td>47.000000</td>\n",
       "      <td>2.000000</td>\n",
       "      <td>112.000000</td>\n",
       "      <td>26.000000</td>\n",
       "      <td>17.000000</td>\n",
       "      <td>118.000000</td>\n",
       "      <td>130.000000</td>\n",
       "      <td>184.000000</td>\n",
       "      <td>112.000000</td>\n",
       "      <td>61.000000</td>\n",
       "      <td>0.000000</td>\n",
       "      <td>0.000000</td>\n",
       "      <td>176.000000</td>\n",
       "      <td>181.000000</td>\n",
       "    </tr>\n",
       "    <tr>\n",
       "      <td>25%</td>\n",
       "      <td>211.000000</td>\n",
       "      <td>88.000000</td>\n",
       "      <td>40.000000</td>\n",
       "      <td>70.000000</td>\n",
       "      <td>144.000000</td>\n",
       "      <td>57.000000</td>\n",
       "      <td>7.000000</td>\n",
       "      <td>147.000000</td>\n",
       "      <td>33.000000</td>\n",
       "      <td>19.000000</td>\n",
       "      <td>137.000000</td>\n",
       "      <td>168.000000</td>\n",
       "      <td>321.000000</td>\n",
       "      <td>151.000000</td>\n",
       "      <td>68.000000</td>\n",
       "      <td>2.000000</td>\n",
       "      <td>5.000000</td>\n",
       "      <td>185.000000</td>\n",
       "      <td>191.000000</td>\n",
       "    </tr>\n",
       "    <tr>\n",
       "      <td>50%</td>\n",
       "      <td>421.000000</td>\n",
       "      <td>93.000000</td>\n",
       "      <td>44.000000</td>\n",
       "      <td>80.000000</td>\n",
       "      <td>170.000000</td>\n",
       "      <td>62.000000</td>\n",
       "      <td>8.000000</td>\n",
       "      <td>157.000000</td>\n",
       "      <td>42.000000</td>\n",
       "      <td>20.000000</td>\n",
       "      <td>146.000000</td>\n",
       "      <td>180.000000</td>\n",
       "      <td>367.000000</td>\n",
       "      <td>173.000000</td>\n",
       "      <td>71.000000</td>\n",
       "      <td>6.000000</td>\n",
       "      <td>11.000000</td>\n",
       "      <td>188.000000</td>\n",
       "      <td>197.000000</td>\n",
       "    </tr>\n",
       "    <tr>\n",
       "      <td>75%</td>\n",
       "      <td>640.000000</td>\n",
       "      <td>100.000000</td>\n",
       "      <td>50.000000</td>\n",
       "      <td>98.000000</td>\n",
       "      <td>197.000000</td>\n",
       "      <td>65.000000</td>\n",
       "      <td>10.000000</td>\n",
       "      <td>201.000000</td>\n",
       "      <td>46.000000</td>\n",
       "      <td>23.000000</td>\n",
       "      <td>160.000000</td>\n",
       "      <td>218.000000</td>\n",
       "      <td>607.000000</td>\n",
       "      <td>200.000000</td>\n",
       "      <td>75.000000</td>\n",
       "      <td>9.000000</td>\n",
       "      <td>19.000000</td>\n",
       "      <td>193.000000</td>\n",
       "      <td>201.000000</td>\n",
       "    </tr>\n",
       "    <tr>\n",
       "      <td>max</td>\n",
       "      <td>843.000000</td>\n",
       "      <td>117.000000</td>\n",
       "      <td>58.000000</td>\n",
       "      <td>112.000000</td>\n",
       "      <td>322.000000</td>\n",
       "      <td>133.000000</td>\n",
       "      <td>55.000000</td>\n",
       "      <td>262.000000</td>\n",
       "      <td>61.000000</td>\n",
       "      <td>28.000000</td>\n",
       "      <td>188.000000</td>\n",
       "      <td>285.000000</td>\n",
       "      <td>998.000000</td>\n",
       "      <td>268.000000</td>\n",
       "      <td>119.000000</td>\n",
       "      <td>22.000000</td>\n",
       "      <td>41.000000</td>\n",
       "      <td>206.000000</td>\n",
       "      <td>211.000000</td>\n",
       "    </tr>\n",
       "  </tbody>\n",
       "</table>\n",
       "</div>"
      ],
      "text/plain": [
       "               0           1           2           3           4           5   \\\n",
       "count  549.000000  549.000000  549.000000  549.000000  549.000000  549.000000   \n",
       "mean   423.759563   94.081967   45.030965   82.806922  170.034608   61.677596   \n",
       "std    245.197307    8.299735    6.210492   16.049395   33.415170    7.582146   \n",
       "min      0.000000   73.000000   33.000000   40.000000  105.000000   47.000000   \n",
       "25%    211.000000   88.000000   40.000000   70.000000  144.000000   57.000000   \n",
       "50%    421.000000   93.000000   44.000000   80.000000  170.000000   62.000000   \n",
       "75%    640.000000  100.000000   50.000000   98.000000  197.000000   65.000000   \n",
       "max    843.000000  117.000000   58.000000  112.000000  322.000000  133.000000   \n",
       "\n",
       "               6           7           8           9           10          11  \\\n",
       "count  549.000000  549.000000  549.000000  549.000000  549.000000  549.000000   \n",
       "mean     8.573770  170.495446   40.561020   20.712204  148.313297  190.014572   \n",
       "std      4.521696   33.633578    7.846521    2.623076   14.590525   31.007118   \n",
       "min      2.000000  112.000000   26.000000   17.000000  118.000000  130.000000   \n",
       "25%      7.000000  147.000000   33.000000   19.000000  137.000000  168.000000   \n",
       "50%      8.000000  157.000000   42.000000   20.000000  146.000000  180.000000   \n",
       "75%     10.000000  201.000000   46.000000   23.000000  160.000000  218.000000   \n",
       "max     55.000000  262.000000   61.000000   28.000000  188.000000  285.000000   \n",
       "\n",
       "               12          13          14          15          16          17  \\\n",
       "count  549.000000  549.000000  549.000000  549.000000  549.000000  549.000000   \n",
       "mean   448.628415  175.579235   72.466302    6.371585   12.752277  188.892532   \n",
       "std    178.964225   32.935011    6.877264    4.893053    9.030192    6.056103   \n",
       "min    184.000000  112.000000   61.000000    0.000000    0.000000  176.000000   \n",
       "25%    321.000000  151.000000   68.000000    2.000000    5.000000  185.000000   \n",
       "50%    367.000000  173.000000   71.000000    6.000000   11.000000  188.000000   \n",
       "75%    607.000000  200.000000   75.000000    9.000000   19.000000  193.000000   \n",
       "max    998.000000  268.000000  119.000000   22.000000   41.000000  206.000000   \n",
       "\n",
       "               18  \n",
       "count  549.000000  \n",
       "mean   195.542805  \n",
       "std      7.405394  \n",
       "min    181.000000  \n",
       "25%    191.000000  \n",
       "50%    197.000000  \n",
       "75%    201.000000  \n",
       "max    211.000000  "
      ]
     },
     "execution_count": 3,
     "metadata": {},
     "output_type": "execute_result"
    }
   ],
   "source": [
    "X_train_pd.describe()"
   ]
  },
  {
   "cell_type": "code",
   "execution_count": 4,
   "metadata": {},
   "outputs": [
    {
     "name": "stdout",
     "output_type": "stream",
     "text": [
      "<class 'pandas.core.frame.DataFrame'>\n",
      "RangeIndex: 549 entries, 0 to 548\n",
      "Data columns (total 19 columns):\n",
      "0     549 non-null int32\n",
      "1     549 non-null int32\n",
      "2     549 non-null int32\n",
      "3     549 non-null int32\n",
      "4     549 non-null int32\n",
      "5     549 non-null int32\n",
      "6     549 non-null int32\n",
      "7     549 non-null int32\n",
      "8     549 non-null int32\n",
      "9     549 non-null int32\n",
      "10    549 non-null int32\n",
      "11    549 non-null int32\n",
      "12    549 non-null int32\n",
      "13    549 non-null int32\n",
      "14    549 non-null int32\n",
      "15    549 non-null int32\n",
      "16    549 non-null int32\n",
      "17    549 non-null int32\n",
      "18    549 non-null int32\n",
      "dtypes: int32(19)\n",
      "memory usage: 40.9 KB\n"
     ]
    }
   ],
   "source": [
    "X_train_pd.info()"
   ]
  },
  {
   "cell_type": "markdown",
   "metadata": {
    "nbgrader": {
     "grade": false,
     "grade_id": "cell-be844269be69c387",
     "locked": true,
     "schema_version": 2,
     "solution": false
    }
   },
   "source": [
    "### 2. Machine Learning pipeline\n",
    "Here you are supposed to perform the desired transformations. Please, explain your results briefly after each task."
   ]
  },
  {
   "cell_type": "markdown",
   "metadata": {},
   "source": [
    "#### 2.0. Data preprocessing\n",
    "* Make some transformations of the dataset (if necessary). Briefly explain the transformations"
   ]
  },
  {
   "cell_type": "code",
   "execution_count": 5,
   "metadata": {
    "nbgrader": {
     "grade": true,
     "grade_id": "cell-a1514aa189a49fca",
     "locked": false,
     "points": 15,
     "schema_version": 2,
     "solution": true
    }
   },
   "outputs": [],
   "source": [
    "means=X_train_pd.mean() # Найдем мат. ожидание### YOUR CODE HERE\n",
    "stds=X_train_pd.std() # Найдем стандартное отклонение\n",
    "cols=X_train_pd.columns\n",
    "for col, mean, std in zip(cols,means, stds):\n",
    "    X_train_pd[col]= (X_train_pd[col]-mean)/std #вычтем среднее и разделим на стандартное отклонение"
   ]
  },
  {
   "cell_type": "code",
   "execution_count": 6,
   "metadata": {},
   "outputs": [
    {
     "data": {
      "text/html": [
       "<div>\n",
       "<style scoped>\n",
       "    .dataframe tbody tr th:only-of-type {\n",
       "        vertical-align: middle;\n",
       "    }\n",
       "\n",
       "    .dataframe tbody tr th {\n",
       "        vertical-align: top;\n",
       "    }\n",
       "\n",
       "    .dataframe thead th {\n",
       "        text-align: right;\n",
       "    }\n",
       "</style>\n",
       "<table border=\"1\" class=\"dataframe\">\n",
       "  <thead>\n",
       "    <tr style=\"text-align: right;\">\n",
       "      <th></th>\n",
       "      <th>0</th>\n",
       "      <th>1</th>\n",
       "      <th>2</th>\n",
       "      <th>3</th>\n",
       "      <th>4</th>\n",
       "      <th>5</th>\n",
       "      <th>6</th>\n",
       "      <th>7</th>\n",
       "      <th>8</th>\n",
       "      <th>9</th>\n",
       "      <th>10</th>\n",
       "      <th>11</th>\n",
       "      <th>12</th>\n",
       "      <th>13</th>\n",
       "      <th>14</th>\n",
       "      <th>15</th>\n",
       "      <th>16</th>\n",
       "      <th>17</th>\n",
       "      <th>18</th>\n",
       "    </tr>\n",
       "  </thead>\n",
       "  <tbody>\n",
       "    <tr>\n",
       "      <td>0</td>\n",
       "      <td>0.168193</td>\n",
       "      <td>-1.455705</td>\n",
       "      <td>-0.327022</td>\n",
       "      <td>-0.735661</td>\n",
       "      <td>-0.479860</td>\n",
       "      <td>0.833854</td>\n",
       "      <td>-0.348049</td>\n",
       "      <td>-0.609375</td>\n",
       "      <td>0.565726</td>\n",
       "      <td>-0.652747</td>\n",
       "      <td>-0.364161</td>\n",
       "      <td>-0.613232</td>\n",
       "      <td>-0.662861</td>\n",
       "      <td>-0.078313</td>\n",
       "      <td>0.804636</td>\n",
       "      <td>0.128430</td>\n",
       "      <td>-0.194046</td>\n",
       "      <td>-1.303236</td>\n",
       "      <td>-1.288629</td>\n",
       "    </tr>\n",
       "    <tr>\n",
       "      <td>1</td>\n",
       "      <td>-1.503930</td>\n",
       "      <td>-0.009876</td>\n",
       "      <td>-1.454147</td>\n",
       "      <td>-1.047200</td>\n",
       "      <td>-0.569640</td>\n",
       "      <td>-0.089367</td>\n",
       "      <td>-0.126893</td>\n",
       "      <td>-1.114822</td>\n",
       "      <td>1.202951</td>\n",
       "      <td>-1.033979</td>\n",
       "      <td>-0.912462</td>\n",
       "      <td>-1.161494</td>\n",
       "      <td>-1.026062</td>\n",
       "      <td>-1.717905</td>\n",
       "      <td>-1.521870</td>\n",
       "      <td>0.537173</td>\n",
       "      <td>-1.079963</td>\n",
       "      <td>1.999218</td>\n",
       "      <td>1.682179</td>\n",
       "    </tr>\n",
       "    <tr>\n",
       "      <td>2</td>\n",
       "      <td>0.934922</td>\n",
       "      <td>0.351581</td>\n",
       "      <td>-0.649057</td>\n",
       "      <td>0.572799</td>\n",
       "      <td>0.806981</td>\n",
       "      <td>0.174410</td>\n",
       "      <td>0.315419</td>\n",
       "      <td>0.252859</td>\n",
       "      <td>-0.453834</td>\n",
       "      <td>0.109717</td>\n",
       "      <td>-0.569774</td>\n",
       "      <td>0.225285</td>\n",
       "      <td>0.180883</td>\n",
       "      <td>-1.201737</td>\n",
       "      <td>-1.376463</td>\n",
       "      <td>-0.484684</td>\n",
       "      <td>-1.079963</td>\n",
       "      <td>1.338727</td>\n",
       "      <td>1.142032</td>\n",
       "    </tr>\n",
       "    <tr>\n",
       "      <td>3</td>\n",
       "      <td>-1.679299</td>\n",
       "      <td>-0.732791</td>\n",
       "      <td>0.156032</td>\n",
       "      <td>-0.548739</td>\n",
       "      <td>0.028891</td>\n",
       "      <td>0.833854</td>\n",
       "      <td>-0.569205</td>\n",
       "      <td>-0.549910</td>\n",
       "      <td>0.310836</td>\n",
       "      <td>-0.652747</td>\n",
       "      <td>-0.021473</td>\n",
       "      <td>-0.322977</td>\n",
       "      <td>-0.556695</td>\n",
       "      <td>0.498581</td>\n",
       "      <td>-0.213210</td>\n",
       "      <td>-0.280313</td>\n",
       "      <td>-0.194046</td>\n",
       "      <td>0.017745</td>\n",
       "      <td>-0.073299</td>\n",
       "    </tr>\n",
       "    <tr>\n",
       "      <td>4</td>\n",
       "      <td>0.331327</td>\n",
       "      <td>2.520325</td>\n",
       "      <td>1.283157</td>\n",
       "      <td>1.071260</td>\n",
       "      <td>1.046393</td>\n",
       "      <td>0.306299</td>\n",
       "      <td>0.536575</td>\n",
       "      <td>1.471879</td>\n",
       "      <td>-1.345949</td>\n",
       "      <td>1.634644</td>\n",
       "      <td>1.212205</td>\n",
       "      <td>1.257306</td>\n",
       "      <td>1.460468</td>\n",
       "      <td>1.166563</td>\n",
       "      <td>-0.213210</td>\n",
       "      <td>2.989630</td>\n",
       "      <td>-0.194046</td>\n",
       "      <td>0.017745</td>\n",
       "      <td>0.466848</td>\n",
       "    </tr>\n",
       "  </tbody>\n",
       "</table>\n",
       "</div>"
      ],
      "text/plain": [
       "          0         1         2         3         4         5         6  \\\n",
       "0  0.168193 -1.455705 -0.327022 -0.735661 -0.479860  0.833854 -0.348049   \n",
       "1 -1.503930 -0.009876 -1.454147 -1.047200 -0.569640 -0.089367 -0.126893   \n",
       "2  0.934922  0.351581 -0.649057  0.572799  0.806981  0.174410  0.315419   \n",
       "3 -1.679299 -0.732791  0.156032 -0.548739  0.028891  0.833854 -0.569205   \n",
       "4  0.331327  2.520325  1.283157  1.071260  1.046393  0.306299  0.536575   \n",
       "\n",
       "          7         8         9        10        11        12        13  \\\n",
       "0 -0.609375  0.565726 -0.652747 -0.364161 -0.613232 -0.662861 -0.078313   \n",
       "1 -1.114822  1.202951 -1.033979 -0.912462 -1.161494 -1.026062 -1.717905   \n",
       "2  0.252859 -0.453834  0.109717 -0.569774  0.225285  0.180883 -1.201737   \n",
       "3 -0.549910  0.310836 -0.652747 -0.021473 -0.322977 -0.556695  0.498581   \n",
       "4  1.471879 -1.345949  1.634644  1.212205  1.257306  1.460468  1.166563   \n",
       "\n",
       "         14        15        16        17        18  \n",
       "0  0.804636  0.128430 -0.194046 -1.303236 -1.288629  \n",
       "1 -1.521870  0.537173 -1.079963  1.999218  1.682179  \n",
       "2 -1.376463 -0.484684 -1.079963  1.338727  1.142032  \n",
       "3 -0.213210 -0.280313 -0.194046  0.017745 -0.073299  \n",
       "4 -0.213210  2.989630 -0.194046  0.017745  0.466848  "
      ]
     },
     "execution_count": 6,
     "metadata": {},
     "output_type": "execute_result"
    }
   ],
   "source": [
    "X_train_pd.head(5)"
   ]
  },
  {
   "cell_type": "markdown",
   "metadata": {},
   "source": [
    "#### 2.1. Basic logistic regression\n",
    "* Find optimal hyperparameters for logistic regression with cross-validation on the `train` data (small grid/random search is enough, no need to find the *best* parameters).\n",
    "\n",
    "* Estimate the model quality with `f1` and `accuracy` scores.\n",
    "* Plot a ROC-curve for the trained model. For the multiclass case you might use `scikitplot` library (e.g. `scikitplot.metrics.plot_roc(test_labels, predicted_proba)`).\n",
    "\n",
    "*Note: please, use the following hyperparameters for logistic regression: `multi_class='multinomial'`, `solver='saga'` `tol=1e-3` and ` max_iter=500`.*"
   ]
  },
  {
   "cell_type": "code",
   "execution_count": 7,
   "metadata": {
    "nbgrader": {
     "grade": true,
     "grade_id": "cell-1dd5ad5d0845cbbb",
     "locked": false,
     "points": 5,
     "schema_version": 2,
     "solution": true
    }
   },
   "outputs": [
    {
     "data": {
      "text/plain": [
       "GridSearchCV(cv=3, error_score='raise-deprecating',\n",
       "             estimator=LogisticRegression(C=1.0, class_weight=None, dual=False,\n",
       "                                          fit_intercept=True,\n",
       "                                          intercept_scaling=1, l1_ratio=None,\n",
       "                                          max_iter=500,\n",
       "                                          multi_class='multinomial',\n",
       "                                          n_jobs=None, penalty='l2',\n",
       "                                          random_state=None, solver='saga',\n",
       "                                          tol=0.001, verbose=0,\n",
       "                                          warm_start=False),\n",
       "             iid='warn', n_jobs=None,\n",
       "             param_grid={'C': (1e-05, 0.0001, 0.001, 0.01, 0.1, 1),\n",
       "                         'penalty': ('l1', 'l2')},\n",
       "             pre_dispatch='2*n_jobs', refit=True, return_train_score=False,\n",
       "             scoring=None, verbose=0)"
      ]
     },
     "execution_count": 7,
     "metadata": {},
     "output_type": "execute_result"
    }
   ],
   "source": [
    "from sklearn.linear_model import LogisticRegression\n",
    "from sklearn.model_selection import GridSearchCV\n",
    "\n",
    "lr=LogisticRegression(multi_class='multinomial', solver='saga', tol=1e-3, max_iter=500)### YOUR CODE HERE\n",
    "params={'C':(0.00001,0.0001,0.001,0.01,0.1,1), 'penalty':('l1','l2')}\n",
    "lrg=GridSearchCV(lr, params, cv=3)\n",
    "lrg.fit(X_train_pd,y_train)"
   ]
  },
  {
   "cell_type": "code",
   "execution_count": 8,
   "metadata": {},
   "outputs": [
    {
     "data": {
      "text/plain": [
       "{'C': 1, 'penalty': 'l2'}"
      ]
     },
     "execution_count": 8,
     "metadata": {},
     "output_type": "execute_result"
    }
   ],
   "source": [
    "lrg.best_params_"
   ]
  },
  {
   "cell_type": "code",
   "execution_count": 9,
   "metadata": {},
   "outputs": [
    {
     "data": {
      "text/plain": [
       "RandomizedSearchCV(cv=3, error_score='raise-deprecating',\n",
       "                   estimator=LogisticRegression(C=1.0, class_weight=None,\n",
       "                                                dual=False, fit_intercept=True,\n",
       "                                                intercept_scaling=1,\n",
       "                                                l1_ratio=None, max_iter=500,\n",
       "                                                multi_class='multinomial',\n",
       "                                                n_jobs=None, penalty='l2',\n",
       "                                                random_state=None,\n",
       "                                                solver='saga', tol=0.001,\n",
       "                                                verbose=0, warm_start=False),\n",
       "                   iid='warn', n_iter=10, n_jobs=None,\n",
       "                   param_distributions={'C': (1e-05, 0.0001, 0.001, 0.01, 0.1,\n",
       "                                              1),\n",
       "                                        'penalty': ('l1', 'l2')},\n",
       "                   pre_dispatch='2*n_jobs', random_state=None, refit=True,\n",
       "                   return_train_score=False, scoring=None, verbose=0)"
      ]
     },
     "execution_count": 9,
     "metadata": {},
     "output_type": "execute_result"
    }
   ],
   "source": [
    "from sklearn.model_selection import RandomizedSearchCV\n",
    "lrrs=RandomizedSearchCV(lr, params, cv=3)\n",
    "lrrs.fit(X_train_pd,y_train)"
   ]
  },
  {
   "cell_type": "code",
   "execution_count": 10,
   "metadata": {},
   "outputs": [
    {
     "data": {
      "text/plain": [
       "{'penalty': 'l2', 'C': 1}"
      ]
     },
     "execution_count": 10,
     "metadata": {},
     "output_type": "execute_result"
    }
   ],
   "source": [
    "lrrs.best_params_"
   ]
  },
  {
   "cell_type": "code",
   "execution_count": 65,
   "metadata": {},
   "outputs": [
    {
     "ename": "ModuleNotFoundError",
     "evalue": "No module named 'scikitplot'",
     "output_type": "error",
     "traceback": [
      "\u001b[1;31m---------------------------------------------------------------------------\u001b[0m",
      "\u001b[1;31mModuleNotFoundError\u001b[0m                       Traceback (most recent call last)",
      "\u001b[1;32m<ipython-input-65-acf5c0e03dfb>\u001b[0m in \u001b[0;36m<module>\u001b[1;34m\u001b[0m\n\u001b[0;32m      4\u001b[0m \u001b[1;33m\u001b[0m\u001b[0m\n\u001b[0;32m      5\u001b[0m \u001b[1;31m# ! pip install scikit-plot\u001b[0m\u001b[1;33m\u001b[0m\u001b[1;33m\u001b[0m\u001b[1;33m\u001b[0m\u001b[0m\n\u001b[1;32m----> 6\u001b[1;33m \u001b[1;32mimport\u001b[0m \u001b[0mscikitplot\u001b[0m\u001b[1;33m\u001b[0m\u001b[1;33m\u001b[0m\u001b[0m\n\u001b[0m",
      "\u001b[1;31mModuleNotFoundError\u001b[0m: No module named 'scikitplot'"
     ]
    }
   ],
   "source": [
    "# You might use this command to install scikit-plot. \n",
    "# Warning, if you a running locally, don't call pip from within jupyter, call it from terminal in the corresponding \n",
    "# virtual environment instead\n",
    "\n",
    "# ! pip install scikit-plot\n",
    "import scikitplot\n"
   ]
  },
  {
   "cell_type": "markdown",
   "metadata": {},
   "source": [
    "#### 2.2. PCA: explained variance plot\n",
    "* Apply the PCA to the train part of the data. Build the explaided variance plot. "
   ]
  },
  {
   "cell_type": "code",
   "execution_count": 11,
   "metadata": {
    "nbgrader": {
     "grade": true,
     "grade_id": "cell-c6c614740bce090e",
     "locked": false,
     "points": 10,
     "schema_version": 2,
     "solution": true
    }
   },
   "outputs": [],
   "source": [
    "### YOUR CODE HERE\n",
    "from sklearn.decomposition import PCA\n",
    "\n",
    "variance=[]\n",
    "n_components=np.arange(1,19)\n",
    "for i in range((X_train_pd.shape[1]-1)):\n",
    "    pc=PCA(n_components=i+1)\n",
    "    pc.fit(X_train)\n",
    "    variance.append(1-pc.explained_variance_ratio_.sum())"
   ]
  },
  {
   "cell_type": "code",
   "execution_count": 12,
   "metadata": {},
   "outputs": [
    {
     "name": "stdout",
     "output_type": "stream",
     "text": [
      "Populating the interactive namespace from numpy and matplotlib\n"
     ]
    },
    {
     "name": "stderr",
     "output_type": "stream",
     "text": [
      "C:\\Users\\User\\Anaconda3\\lib\\site-packages\\IPython\\core\\magics\\pylab.py:160: UserWarning: pylab import has clobbered these variables: ['plt', 'std', 'mean']\n",
      "`%matplotlib` prevents importing * from pylab and numpy\n",
      "  \"\\n`%matplotlib` prevents importing * from pylab and numpy\"\n"
     ]
    },
    {
     "data": {
      "image/png": "[encoded data removed]",
      "text/plain": [
       "<Figure size 648x216 with 1 Axes>"
      ]
     },
     "metadata": {
      "needs_background": "light"
     },
     "output_type": "display_data"
    }
   ],
   "source": [
    "import matplotlib as plt\n",
    "%pylab inline\n",
    "plt.figure(figsize=(9, 3))\n",
    "plt.title('')\n",
    "plt.ylabel('$Not Explained Variance$')\n",
    "plt.xlabel('$n components$')\n",
    "plt.xlim(0, 19)\n",
    "plt.ylim(min(variance)-0.1, max(variance)+0.1)\n",
    "plt.scatter(n_components,np.array(variance), c='g')\n",
    "plt.plot(n_components,np.array(variance), c='g', dash_joinstyle='round')\n",
    "\n",
    "plt.grid()\n",
    "plt.show()"
   ]
  },
  {
   "cell_type": "markdown",
   "metadata": {
    "nbgrader": {
     "grade": false,
     "grade_id": "cell-0c1fe666f52fe53c",
     "locked": true,
     "schema_version": 2,
     "solution": false
    }
   },
   "source": [
    "#### 2.3. PCA trasformation\n",
    "* Select the appropriate number of components. Briefly explain your choice. Should you normalize the data?\n",
    "\n",
    "*Use `fit` and `transform` methods to transform the `train` and `test` parts.*"
   ]
  },
  {
   "cell_type": "code",
   "execution_count": 13,
   "metadata": {
    "nbgrader": {
     "grade": true,
     "grade_id": "cell-96ab18d96473ef71",
     "locked": false,
     "points": 5,
     "schema_version": 2,
     "solution": true
    }
   },
   "outputs": [],
   "source": [
    "### YOUR CODE HERE\n",
    "# Выбираем 2 компоненты, поскольку процент необъясненной дисперсии у них почти равен нуолю и следовательно они макисмально \n",
    "# передают информативность исходных признаков, при этом сильно понижая размерность\n",
    "pc_opt=PCA(n_components=2)\n",
    "pc_opt.fit(X_train)\n",
    "X_train_2=pc_opt.fit_transform(X_train)\n",
    "X_test_2=pc_opt.fit_transform(X_test)"
   ]
  },
  {
   "cell_type": "markdown",
   "metadata": {},
   "source": [
    "**Note: From this point `sklearn` [Pipeline](https://scikit-learn.org/stable/modules/compose.html) might be useful to perform transformations on the data. Refer to the [docs](https://scikit-learn.org/stable/modules/generated/sklearn.pipeline.Pipeline.html) for more information.**"
   ]
  },
  {
   "cell_type": "markdown",
   "metadata": {
    "nbgrader": {
     "grade": false,
     "grade_id": "cell-d28b58a35c94e988",
     "locked": true,
     "schema_version": 2,
     "solution": false
    }
   },
   "source": [
    "#### 2.4. Logistic regression on PCA-preprocessed data.\n",
    "* Find optimal hyperparameters for logistic regression with cross-validation on the transformed by PCA `train` data.\n",
    "\n",
    "* Estimate the model quality with `f1` and `accuracy` scores.\n",
    "* Plot a ROC-curve for the trained model. For the multiclass case you might use `scikitplot` library (e.g. `scikitplot.metrics.plot_roc(test_labels, predicted_proba)`).\n",
    "\n",
    "*Note: please, use the following hyperparameters for logistic regression: `multi_class='multinomial'`, `solver='saga'` and `tol=1e-3`*"
   ]
  },
  {
   "cell_type": "code",
   "execution_count": 14,
   "metadata": {
    "nbgrader": {
     "grade": true,
     "grade_id": "cell-12d53ea45258fa82",
     "locked": false,
     "points": 5,
     "schema_version": 2,
     "solution": true
    }
   },
   "outputs": [
    {
     "data": {
      "text/plain": [
       "GridSearchCV(cv=3, error_score='raise-deprecating',\n",
       "             estimator=LogisticRegression(C=1.0, class_weight=None, dual=False,\n",
       "                                          fit_intercept=True,\n",
       "                                          intercept_scaling=1, l1_ratio=None,\n",
       "                                          max_iter=500,\n",
       "                                          multi_class='multinomial',\n",
       "                                          n_jobs=None, penalty='l2',\n",
       "                                          random_state=None, solver='saga',\n",
       "                                          tol=0.001, verbose=0,\n",
       "                                          warm_start=False),\n",
       "             iid='warn', n_jobs=None,\n",
       "             param_grid={'C': (1e-05, 0.0001, 0.001, 0.01, 0.1, 1),\n",
       "                         'penalty': ('l1', 'l2')},\n",
       "             pre_dispatch='2*n_jobs', refit=True, return_train_score=False,\n",
       "             scoring=None, verbose=0)"
      ]
     },
     "execution_count": 14,
     "metadata": {},
     "output_type": "execute_result"
    }
   ],
   "source": [
    "### YOUR CODE HERE\n",
    "import warnings \n",
    "warnings.filterwarnings('ignore')\n",
    "from sklearn.metrics import f1_score, accuracy_score\n",
    "lr=LogisticRegression(multi_class='multinomial', solver='saga', tol=1e-3, max_iter=500)### YOUR CODE HERE\n",
    "params={'C':(0.00001,0.0001,0.001,0.01,0.1,1), 'penalty':('l1','l2')}\n",
    "lrg=GridSearchCV(lr, params,cv=3)\n",
    "lrg.fit(X_train_2,y_train)"
   ]
  },
  {
   "cell_type": "code",
   "execution_count": 15,
   "metadata": {},
   "outputs": [
    {
     "name": "stdout",
     "output_type": "stream",
     "text": [
      "optimal hyperparameters: {'C': 0.0001, 'penalty': 'l1'}\n",
      "best score: 0.3989071038251366\n"
     ]
    }
   ],
   "source": [
    "optimal_hyperparameters_lr=lrg.best_params_\n",
    "print('optimal hyperparameters: '+str(lrg.best_params_))\n",
    "print('best score: '+str(lrg.best_score_) )\n"
   ]
  },
  {
   "cell_type": "code",
   "execution_count": 16,
   "metadata": {},
   "outputs": [
    {
     "name": "stdout",
     "output_type": "stream",
     "text": [
      "f1_score: 0.23096652802535156\n",
      "accuracy: 0.36363636363636365\n"
     ]
    }
   ],
   "source": [
    "lr_opt=LogisticRegression(multi_class='multinomial', solver='saga', tol=1e-3, \n",
    "                          max_iter=500, C=optimal_hyperparameters_lr['C'], penalty=optimal_hyperparameters_lr['penalty'])\n",
    "lr_opt.fit(X_train_2,y_train)\n",
    "y_pred=lr_opt.predict(X_test_2)\n",
    "print('f1_score: ' + str(f1_score(y_test, y_pred, average='weighted')))\n",
    "print('accuracy: '+ str(accuracy_score(y_test, y_pred)))"
   ]
  },
  {
   "cell_type": "markdown",
   "metadata": {
    "nbgrader": {
     "grade": false,
     "grade_id": "cell-4fbf16c64076e139",
     "locked": true,
     "schema_version": 2,
     "solution": false
    }
   },
   "source": [
    "#### 2.5. Decision tree\n",
    "* Now train a desicion tree on the same data. Find optimal tree depth (`max_depth`) using cross-validation.\n",
    "\n",
    "* Measure the model quality using the same metrics you used above."
   ]
  },
  {
   "cell_type": "code",
   "execution_count": 17,
   "metadata": {
    "nbgrader": {
     "grade": true,
     "grade_id": "cell-748ed20b51c67fab",
     "locked": false,
     "points": 15,
     "schema_version": 2,
     "solution": true
    }
   },
   "outputs": [
    {
     "data": {
      "text/plain": [
       "GridSearchCV(cv=3, error_score='raise-deprecating',\n",
       "             estimator=DecisionTreeClassifier(class_weight=None,\n",
       "                                              criterion='gini', max_depth=None,\n",
       "                                              max_features=None,\n",
       "                                              max_leaf_nodes=None,\n",
       "                                              min_impurity_decrease=0.0,\n",
       "                                              min_impurity_split=None,\n",
       "                                              min_samples_leaf=1,\n",
       "                                              min_samples_split=2,\n",
       "                                              min_weight_fraction_leaf=0.0,\n",
       "                                              presort=False, random_state=None,\n",
       "                                              splitter='best'),\n",
       "             iid='warn', n_jobs=None,\n",
       "             param_grid={'max_depth': (1, 2, 3, 4, 5, 6, 7, 8, 9, 12, 14, 16)},\n",
       "             pre_dispatch='2*n_jobs', refit=True, return_train_score=False,\n",
       "             scoring=None, verbose=0)"
      ]
     },
     "execution_count": 17,
     "metadata": {},
     "output_type": "execute_result"
    }
   ],
   "source": [
    "from sklearn.tree import DecisionTreeClassifier\n",
    "\n",
    "# YOUR CODE HERE\n",
    "tree=DecisionTreeClassifier()\n",
    "params={'max_depth':(1,2,3,4,5,6,7,8,9,12,14,16)}\n",
    "tree_g=GridSearchCV(tree, params,cv=3)\n",
    "tree_g.fit(X_train_2,y_train)"
   ]
  },
  {
   "cell_type": "code",
   "execution_count": 18,
   "metadata": {},
   "outputs": [
    {
     "name": "stdout",
     "output_type": "stream",
     "text": [
      "optimal hyperparameters: {'max_depth': 2}\n",
      "best score: 0.5027322404371585\n"
     ]
    }
   ],
   "source": [
    "optimal_hyperparameters_tr=tree_g.best_params_ \n",
    "print('optimal hyperparameters: '+str(tree_g.best_params_))\n",
    "print('best score: '+str(tree_g.best_score_) )"
   ]
  },
  {
   "cell_type": "code",
   "execution_count": 19,
   "metadata": {},
   "outputs": [
    {
     "name": "stdout",
     "output_type": "stream",
     "text": [
      "f1_score: 0.32092949520175695\n",
      "accuracy: 0.3872053872053872\n"
     ]
    }
   ],
   "source": [
    "tree_opt=DecisionTreeClassifier(max_depth= optimal_hyperparameters_tr['max_depth'])\n",
    "tree_opt.fit(X_train_2,y_train)\n",
    "y_pred=tree_opt.predict(X_test_2)\n",
    "print('f1_score: ' + str(f1_score(y_test, y_pred, average='weighted')))\n",
    "print('accuracy: '+ str(accuracy_score(y_test, y_pred)))"
   ]
  },
  {
   "cell_type": "markdown",
   "metadata": {
    "nbgrader": {
     "grade": false,
     "grade_id": "cell-9eadd4d8a03ae67a",
     "locked": true,
     "schema_version": 2,
     "solution": false
    }
   },
   "source": [
    "#### 2.6. Bagging.\n",
    "Here starts the ensembling part.\n",
    "\n",
    "First we will use the __Bagging__ approach. Build an ensemble of $N$ algorithms varying N from $N_{min}=2$ to $N_{max}=100$ (with step 5).\n",
    "\n",
    "We will build two ensembles: of logistic regressions and of decision trees.\n",
    "\n",
    "*Comment: each ensemble should be constructed from models of the same family, so logistic regressions should not be mixed up with decision trees.*\n",
    "\n",
    "\n",
    "*Hint 1: To build a __Bagging__ ensebmle varying the ensemble size efficiently you might generate $N_{max}$ subsets of `train` data (of the same size as the original dataset) using bootstrap procedure once. Then you train a new instance of logistic regression/decision tree with optimal hyperparameters you estimated before on each subset (so you train it from scratch). Finally, to get an ensemble of $N$ models you average the $N$ out of $N_{max}$ models predictions.*\n",
    "\n",
    "*Hint 2: sklearn might help you with this taks. Some appropriate function/class might be out there.*\n",
    "\n",
    "* Plot `f1` and `accuracy` scores plots w.r.t. the size of the ensemble.\n",
    "\n",
    "* Briefly analyse the plot. What is the optimal number of algorithms? Explain your answer.\n",
    "\n",
    "* How do you think, are the hyperparameters for the decision trees you found in 2.5 optimal for trees used in ensemble? "
   ]
  },
  {
   "cell_type": "code",
   "execution_count": 20,
   "metadata": {
    "nbgrader": {
     "grade": true,
     "grade_id": "cell-8fc95a2b206bdae1",
     "locked": false,
     "points": 35,
     "schema_version": 2,
     "solution": true
    }
   },
   "outputs": [
    {
     "name": "stdout",
     "output_type": "stream",
     "text": [
      "optimal hyperparameters: {'n_estimators': 22}\n",
      "best score: 0.40619307832422585\n"
     ]
    }
   ],
   "source": [
    "# YOUR CODE HERE\n",
    "from sklearn.ensemble import BaggingClassifier\n",
    "baglr=BaggingClassifier(lr)\n",
    "n_est=list(np.arange(2,100,5))\n",
    "n_est.append(100)\n",
    "params={'n_estimators':n_est}\n",
    "baglr_gs=GridSearchCV(baglr, params, scoring='accuracy',cv=3)\n",
    "baglr_gs.fit(X_train_2,y_train)\n",
    "optimal_hyperparameters_bg_lr_ac=baglr_gs.best_params_\n",
    "print('optimal hyperparameters: '+str(baglr_gs.best_params_))\n",
    "print('best score: '+str(baglr_gs.best_score_) )"
   ]
  },
  {
   "cell_type": "code",
   "execution_count": 21,
   "metadata": {},
   "outputs": [
    {
     "data": {
      "image/png": "[encoded data removed]",
      "text/plain": [
       "<Figure size 648x216 with 1 Axes>"
      ]
     },
     "metadata": {
      "needs_background": "light"
     },
     "output_type": "display_data"
    }
   ],
   "source": [
    "plt.figure(figsize=(9, 3))\n",
    "plt.title('LRaccuracy')\n",
    "plt.ylabel('$accuracy$')\n",
    "plt.xlabel('$nestimator$')\n",
    "plt.xlim(0, 101)\n",
    "plt.ylim(min(baglr_gs.cv_results_['mean_test_score'])-0.1, max(baglr_gs.cv_results_['mean_test_score'])+0.1)\n",
    "plt.scatter(n_est,baglr_gs.cv_results_['mean_test_score'], c='g')\n",
    "plt.plot(n_est,baglr_gs.cv_results_['mean_test_score'], c='g', dash_joinstyle='round')\n",
    "\n",
    "plt.grid()\n",
    "plt.show()"
   ]
  },
  {
   "cell_type": "code",
   "execution_count": 22,
   "metadata": {},
   "outputs": [
    {
     "name": "stdout",
     "output_type": "stream",
     "text": [
      "optimal hyperparameters: {'n_estimators': 7}\n",
      "best score: 0.3160851944106511\n"
     ]
    }
   ],
   "source": [
    "baglr_gs=GridSearchCV(baglr, params, scoring='f1_weighted',cv=3)\n",
    "baglr_gs.fit(X_train_2,y_train)\n",
    "optimal_hyperparameters_bg_lr_f=baglr_gs.best_params_\n",
    "print('optimal hyperparameters: '+str(baglr_gs.best_params_))\n",
    "print('best score: '+str(baglr_gs.best_score_) )"
   ]
  },
  {
   "cell_type": "code",
   "execution_count": 23,
   "metadata": {},
   "outputs": [
    {
     "data": {
      "image/png": "[encoded data removed]",
      "text/plain": [
       "<Figure size 648x216 with 1 Axes>"
      ]
     },
     "metadata": {
      "needs_background": "light"
     },
     "output_type": "display_data"
    }
   ],
   "source": [
    "plt.figure(figsize=(9, 3))\n",
    "plt.title('LRf1')\n",
    "plt.ylabel('$f1$')\n",
    "plt.xlabel('$nestimator$')\n",
    "plt.xlim(0, 101)\n",
    "plt.ylim(min(baglr_gs.cv_results_['mean_test_score'])-0.1, max(baglr_gs.cv_results_['mean_test_score'])+0.1)\n",
    "plt.scatter(n_est,baglr_gs.cv_results_['mean_test_score'], c='g')\n",
    "plt.plot(n_est,baglr_gs.cv_results_['mean_test_score'], c='g', dash_joinstyle='round')\n",
    "\n",
    "plt.grid()\n",
    "plt.show()"
   ]
  },
  {
   "cell_type": "code",
   "execution_count": 24,
   "metadata": {},
   "outputs": [
    {
     "name": "stdout",
     "output_type": "stream",
     "text": [
      "optimal hyperparameters: {'n_estimators': 72}\n",
      "best score: 0.4517304189435337\n"
     ]
    }
   ],
   "source": [
    "bagtree=BaggingClassifier(tree)\n",
    "n_est=list(np.arange(2,100,5))\n",
    "n_est.append(100)\n",
    "params={'n_estimators':n_est}\n",
    "bagtree_gs=GridSearchCV(bagtree, params,scoring='accuracy',cv=3)\n",
    "bagtree_gs.fit(X_train_2,y_train)\n",
    "optimal_hyperparameters_bg_tree_ac=bagtree_gs.best_params_\n",
    "print('optimal hyperparameters: '+str(bagtree_gs.best_params_))\n",
    "print('best score: '+str(bagtree_gs.best_score_) )"
   ]
  },
  {
   "cell_type": "code",
   "execution_count": 25,
   "metadata": {},
   "outputs": [
    {
     "data": {
      "image/png": "[encoded data removed]",
      "text/plain": [
       "<Figure size 648x216 with 1 Axes>"
      ]
     },
     "metadata": {
      "needs_background": "light"
     },
     "output_type": "display_data"
    }
   ],
   "source": [
    "plt.figure(figsize=(9, 3))\n",
    "plt.title('TreeAccuracy')\n",
    "plt.ylabel('$accuracy$')\n",
    "plt.xlabel('$nestimator$')\n",
    "plt.xlim(0, 101)\n",
    "plt.ylim(min(bagtree_gs.cv_results_['mean_test_score'])-0.1, max(bagtree_gs.cv_results_['mean_test_score'])+0.1)\n",
    "plt.scatter(n_est,bagtree_gs.cv_results_['mean_test_score'], c='g')\n",
    "plt.plot(n_est,bagtree_gs.cv_results_['mean_test_score'], c='g', dash_joinstyle='round')\n",
    "\n",
    "plt.grid()\n",
    "plt.show()"
   ]
  },
  {
   "cell_type": "code",
   "execution_count": 26,
   "metadata": {},
   "outputs": [
    {
     "name": "stdout",
     "output_type": "stream",
     "text": [
      "optimal hyperparameters: {'n_estimators': 32}\n",
      "best score: 0.44936956349786583\n"
     ]
    }
   ],
   "source": [
    "bagtree_gs=GridSearchCV(bagtree, params,scoring='f1_weighted',cv=3)\n",
    "bagtree_gs.fit(X_train_2,y_train)\n",
    "optimal_hyperparameters_bg_tree_f=bagtree_gs.best_params_\n",
    "print('optimal hyperparameters: '+str(bagtree_gs.best_params_))\n",
    "print('best score: '+str(bagtree_gs.best_score_) )"
   ]
  },
  {
   "cell_type": "code",
   "execution_count": 27,
   "metadata": {},
   "outputs": [
    {
     "data": {
      "image/png": "[encoded data removed]",
      "text/plain": [
       "<Figure size 648x216 with 1 Axes>"
      ]
     },
     "metadata": {
      "needs_background": "light"
     },
     "output_type": "display_data"
    }
   ],
   "source": [
    "plt.figure(figsize=(9, 3))\n",
    "plt.title('TreeF1')\n",
    "plt.ylabel('$F1$')\n",
    "plt.xlabel('$nestimator$')\n",
    "plt.xlim(0, 101)\n",
    "plt.ylim(min(bagtree_gs.cv_results_['mean_test_score'])-0.1, max(bagtree_gs.cv_results_['mean_test_score'])+0.1)\n",
    "plt.scatter(n_est,bagtree_gs.cv_results_['mean_test_score'], c='g')\n",
    "plt.plot(n_est,bagtree_gs.cv_results_['mean_test_score'], c='g', dash_joinstyle='round')\n",
    "\n",
    "plt.grid()\n",
    "plt.show()"
   ]
  },
  {
   "cell_type": "markdown",
   "metadata": {
    "nbgrader": {
     "grade": false,
     "grade_id": "cell-241b7691ab44cbfb",
     "locked": true,
     "schema_version": 2,
     "solution": false
    }
   },
   "source": [
    "#### 2.7. Random Forest\n",
    "Now we will work with the Random Forest (its `sklearn` implementation).\n",
    "\n",
    "* * Plot `f1` and `accuracy` scores plots w.r.t. the number of trees in Random Forest.\n",
    "\n",
    "* What is the optimal number of trees you've got? Is it different from the optimal number of logistic regressions/decision trees in 2.6? Explain the results briefly."
   ]
  },
  {
   "cell_type": "code",
   "execution_count": 28,
   "metadata": {
    "nbgrader": {
     "grade": true,
     "grade_id": "cell-888755d0f3d91620",
     "locked": false,
     "points": 15,
     "schema_version": 2,
     "solution": true
    }
   },
   "outputs": [
    {
     "name": "stdout",
     "output_type": "stream",
     "text": [
      "optimal hyperparameters: {'n_estimators': 750}\n",
      "best score: 0.4426229508196721\n"
     ]
    }
   ],
   "source": [
    "from sklearn.ensemble import RandomForestClassifier\n",
    "\n",
    "# YOUR CODE HERE\n",
    "rf=RandomForestClassifier()\n",
    "n_est=list(np.arange(50,1000,50))\n",
    "params={'n_estimators':n_est}\n",
    "rf_gs=GridSearchCV(rf, params,scoring='accuracy',cv=3)\n",
    "rf_gs.fit(X_train_2,y_train)\n",
    "optimal_hyperparameters_rf_ac=rf_gs.best_params_\n",
    "print('optimal hyperparameters: '+str(rf_gs.best_params_))\n",
    "print('best score: '+str(rf_gs.best_score_) )"
   ]
  },
  {
   "cell_type": "code",
   "execution_count": 29,
   "metadata": {},
   "outputs": [
    {
     "data": {
      "image/png": "[encoded data removed]",
      "text/plain": [
       "<Figure size 648x216 with 1 Axes>"
      ]
     },
     "metadata": {
      "needs_background": "light"
     },
     "output_type": "display_data"
    }
   ],
   "source": [
    "plt.figure(figsize=(9, 3))\n",
    "plt.title('RFAccuracy')\n",
    "plt.ylabel('$accuracy$')\n",
    "plt.xlabel('$nestimator$')\n",
    "plt.xlim(0, 1050)\n",
    "plt.ylim(min(rf_gs.cv_results_['mean_test_score'])-0.1, max(rf_gs.cv_results_['mean_test_score'])+0.1)\n",
    "plt.scatter(n_est,rf_gs.cv_results_['mean_test_score'], c='g')\n",
    "plt.plot(n_est,rf_gs.cv_results_['mean_test_score'], c='g', dash_joinstyle='round')\n",
    "\n",
    "plt.grid()\n",
    "plt.show()"
   ]
  },
  {
   "cell_type": "code",
   "execution_count": 30,
   "metadata": {},
   "outputs": [
    {
     "name": "stdout",
     "output_type": "stream",
     "text": [
      "optimal hyperparameters: {'n_estimators': 200}\n",
      "best score: 0.44221476408336097\n"
     ]
    }
   ],
   "source": [
    "rf_gs=GridSearchCV(rf, params,scoring='f1_weighted',cv=3)\n",
    "rf_gs.fit(X_train_2,y_train)\n",
    "optimal_hyperparameters_rf_f=rf_gs.best_params_\n",
    "print('optimal hyperparameters: '+str(rf_gs.best_params_))\n",
    "print('best score: '+str(rf_gs.best_score_) )"
   ]
  },
  {
   "cell_type": "code",
   "execution_count": 31,
   "metadata": {},
   "outputs": [
    {
     "data": {
      "image/png": "[encoded data removed]",
      "text/plain": [
       "<Figure size 648x216 with 1 Axes>"
      ]
     },
     "metadata": {
      "needs_background": "light"
     },
     "output_type": "display_data"
    }
   ],
   "source": [
    "plt.figure(figsize=(9, 3))\n",
    "plt.title('RFf1')\n",
    "plt.ylabel('$f1$')\n",
    "plt.xlabel('$nestimator$')\n",
    "plt.xlim(0, 1050)\n",
    "plt.ylim(min(rf_gs.cv_results_['mean_test_score'])-0.1, max(rf_gs.cv_results_['mean_test_score'])+0.1)\n",
    "plt.scatter(n_est,rf_gs.cv_results_['mean_test_score'], c='g')\n",
    "plt.plot(n_est,rf_gs.cv_results_['mean_test_score'], c='g', dash_joinstyle='round')\n",
    "\n",
    "plt.grid()\n",
    "plt.show()"
   ]
  },
  {
   "cell_type": "markdown",
   "metadata": {
    "nbgrader": {
     "grade": false,
     "grade_id": "cell-99191c0852538d4d",
     "locked": true,
     "schema_version": 2,
     "solution": false
    }
   },
   "source": [
    "#### 2.8. Learning curve\n",
    "Your goal is to estimate, how does the model behaviour change with the increase of the `train` dataset size.\n",
    "\n",
    "* Split the training data into 10 equal (almost) parts. Then train the models from above (Logistic regression, Desicion Tree, Random Forest) with optimal hyperparameters you have selected on 1 part, 2 parts (combined, so the train size in increased by 2 times), 3 parts and so on.\n",
    "\n",
    "* Build a plot of `accuracy` and `f1` scores on `test` part, varying the `train` dataset size (so the axes will be score - dataset size.\n",
    "\n",
    "* Analyse the final plot. Can you make any conlusions using it? "
   ]
  },
  {
   "cell_type": "code",
   "execution_count": 34,
   "metadata": {
    "nbgrader": {
     "grade": true,
     "grade_id": "cell-e39bc7e7dff61ff9",
     "locked": false,
     "points": 15,
     "schema_version": 2,
     "solution": true
    }
   },
   "outputs": [],
   "source": [
    "# YOUR CODE HERE\n",
    "def score_models(score,data):\n",
    "    lr=LogisticRegression(multi_class='multinomial', solver='saga',\n",
    "                                 tol=1e-3, max_iter=500, C=optimal_hyperparameters_lr['C'], \n",
    "                                 penalty=optimal_hyperparameters_lr['penalty'])\n",
    "    tree=DecisionTreeClassifier(max_depth=optimal_hyperparameters_tr['max_depth']) \n",
    "    \n",
    "    \n",
    "    lr.fit(data[0],data[1])\n",
    "    y_pred_lr=lr.predict(data[2])\n",
    "    tree.fit(data[0],data[1])\n",
    "    y_pred_tr=tree.predict(data[2])\n",
    "    if (score=='f1'):       \n",
    "        f1_lr=f1_score(data[3], y_pred_lr, average='weighted')       \n",
    "        f1_tr=f1_score(data[3], y_pred_tr, average='weighted')\n",
    "        rf_f=RandomForestClassifier(n_estimators=optimal_hyperparameters_rf_f['n_estimators'])\n",
    "        rf_f.fit(data[0],data[1])\n",
    "        y_pred_rf=rf_f.predict(data[2])\n",
    "        f1_rf=f1_score(data[3], y_pred_rf, average='weighted')   \n",
    "        return f1_lr,f1_tr,f1_rf\n",
    "    if (score=='accuracy'):\n",
    "        ac_lr=accuracy_score(y_test, y_pred_lr)\n",
    "        ac_tr=accuracy_score(y_test, y_pred_tr)\n",
    "        rf_ac=RandomForestClassifier(n_estimators=optimal_hyperparameters_rf_ac['n_estimators'])\n",
    "        rf_ac.fit(data[0],data[1])\n",
    "        y_pred_rf=rf_ac.predict(data[2])\n",
    "        ac_rf=accuracy_score(y_test, y_pred_rf)\n",
    "        return ac_lr,ac_tr,ac_rf"
   ]
  },
  {
   "cell_type": "code",
   "execution_count": 51,
   "metadata": {},
   "outputs": [],
   "source": [
    "num=round(X_train.shape[0]/10)-1\n",
    "ac_lr_all=[]\n",
    "ac_tr_all=[]\n",
    "ac_rf_all=[]\n",
    "f_lr_all=[]\n",
    "f_tr_all=[]\n",
    "f_rf_all=[]\n",
    "for i in range(10):\n",
    "    data=[X_train[0:54+i*55],y_train[0:54+i*55],X_test,y_test]\n",
    "    ac_lr,ac_tr,ac_rf=score_models('accuracy',data)\n",
    "    ac_lr_all.append(ac_lr)\n",
    "    ac_tr_all.append(ac_tr)\n",
    "    ac_rf_all.append(ac_rf)\n",
    "    f_lr,f_tr,f_rf=score_models('f1',data)\n",
    "    f_lr_all.append(f_lr)\n",
    "    f_tr_all.append(f_tr)\n",
    "    f_rf_all.append(f_rf)\n",
    "    "
   ]
  },
  {
   "cell_type": "code",
   "execution_count": 90,
   "metadata": {},
   "outputs": [
    {
     "data": {
      "image/png": "[encoded data removed]",
      "text/plain": [
       "<Figure size 1440x432 with 6 Axes>"
      ]
     },
     "metadata": {
      "needs_background": "light"
     },
     "output_type": "display_data"
    }
   ],
   "source": [
    "parts=np.arange(1,11)\n",
    "\n",
    "fig,ax=plt.subplots(2,3,figsize=(20, 6))\n",
    "\n",
    "for i in range(3):\n",
    "    ax[0,i].grid()\n",
    "    ax[0,i].set_ylabel('$f1$')\n",
    "    ax[0,i].set_xlabel('$nestimator$')\n",
    "    ax[1,i].grid()\n",
    "    ax[1,i].set_ylabel('$accuracy$')\n",
    "    ax[1,i].set_xlabel('$nestimator$')\n",
    "ax[0,0].scatter(parts,f_lr_all, c='g')\n",
    "ax[0,0].plot(parts,f_lr_all, c='g')\n",
    "ax[0,0].set_title('lr')\n",
    "ax[0,1].scatter(parts,f_tr_all, c='g')\n",
    "ax[0,1].plot(parts,f_tr_all, c='g')\n",
    "ax[0,1].set_title('tree')\n",
    "ax[0,2].scatter(parts,f_rf_all, c='g')\n",
    "ax[0,2].plot(parts,f_rf_all, c='g')\n",
    "ax[0,2].set_title('RF')\n",
    "ax[1,0].scatter(parts,ac_lr_all, c='g')\n",
    "ax[1,0].plot(parts,ac_lr_all, c='g')\n",
    "ax[1,0].set_title('lr')\n",
    "ax[1,1].scatter(parts,ac_tr_all, c='g')\n",
    "ax[1,1].plot(parts,ac_tr_all, c='g')\n",
    "ax[1,1].set_title('tree')\n",
    "ax[1,2].scatter(parts,ac_rf_all, c='g')\n",
    "ax[1,2].plot(parts,ac_rf_all, c='g')\n",
    "ax[1,2].set_title('RF')\n",
    "plt.tight_layout()\n"
   ]
  }
 ],
 "metadata": {
  "celltoolbar": "Create Assignment",
  "kernelspec": {
   "display_name": "Python 3",
   "language": "python",
   "name": "python3"
  },
  "language_info": {
   "codemirror_mode": {
    "name": "ipython",
    "version": 3
   },
   "file_extension": ".py",
   "mimetype": "text/x-python",
   "name": "python",
   "nbconvert_exporter": "python",
   "pygments_lexer": "ipython3",
   "version": "3.7.4"
  },
  "toc": {
   "base_numbering": 1,
   "nav_menu": {},
   "number_sections": false,
   "sideBar": true,
   "skip_h1_title": false,
   "title_cell": "Table of Contents",
   "title_sidebar": "Contents",
   "toc_cell": false,
   "toc_position": {},
   "toc_section_display": true,
   "toc_window_display": false
  }
 },
 "nbformat": 4,
 "nbformat_minor": 2
}
