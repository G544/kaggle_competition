{
  "nbformat": 4,
  "nbformat_minor": 0,
  "metadata": {
    "colab": {
      "provenance": [],
      "authorship_tag": "ABX9TyOetSU0pqJqHX0phpvjP4Dw",
      "include_colab_link": true
    },
    "kernelspec": {
      "name": "python3",
      "display_name": "Python 3"
    },
    "language_info": {
      "name": "python"
    }
  },
  "cells": [
    {
      "cell_type": "markdown",
      "metadata": {
        "id": "view-in-github",
        "colab_type": "text"
      },
      "source": [
        "<a href=\"https://colab.research.google.com/github/G544/galinanana_ml/blob/main/kaggle/Titanic.ipynb\" target=\"_parent\"><img src=\"https://colab.research.google.com/assets/colab-badge.svg\" alt=\"Open In Colab\"/></a>"
      ]
    },
    {
      "cell_type": "code",
      "execution_count": 168,
      "metadata": {
        "colab": {
          "base_uri": "https://localhost:8080/",
          "height": 91
        },
        "id": "qKsYL9PkaEBq",
        "outputId": "cbf4bb93-21cf-4b8c-b0f9-c1a777437dd4"
      },
      "outputs": [
        {
          "output_type": "display_data",
          "data": {
            "text/plain": [
              "<IPython.core.display.HTML object>"
            ],
            "text/html": [
              "\n",
              "     <input type=\"file\" id=\"files-6f50639c-fda3-4179-9b81-05340a351bce\" name=\"files[]\" multiple disabled\n",
              "        style=\"border:none\" />\n",
              "     <output id=\"result-6f50639c-fda3-4179-9b81-05340a351bce\">\n",
              "      Upload widget is only available when the cell has been executed in the\n",
              "      current browser session. Please rerun this cell to enable.\n",
              "      </output>\n",
              "      <script>// Copyright 2017 Google LLC\n",
              "//\n",
              "// Licensed under the Apache License, Version 2.0 (the \"License\");\n",
              "// you may not use this file except in compliance with the License.\n",
              "// You may obtain a copy of the License at\n",
              "//\n",
              "//      http://www.apache.org/licenses/LICENSE-2.0\n",
              "//\n",
              "// Unless required by applicable law or agreed to in writing, software\n",
              "// distributed under the License is distributed on an \"AS IS\" BASIS,\n",
              "// WITHOUT WARRANTIES OR CONDITIONS OF ANY KIND, either express or implied.\n",
              "// See the License for the specific language governing permissions and\n",
              "// limitations under the License.\n",
              "\n",
              "/**\n",
              " * @fileoverview Helpers for google.colab Python module.\n",
              " */\n",
              "(function(scope) {\n",
              "function span(text, styleAttributes = {}) {\n",
              "  const element = document.createElement('span');\n",
              "  element.textContent = text;\n",
              "  for (const key of Object.keys(styleAttributes)) {\n",
              "    element.style[key] = styleAttributes[key];\n",
              "  }\n",
              "  return element;\n",
              "}\n",
              "\n",
              "// Max number of bytes which will be uploaded at a time.\n",
              "const MAX_PAYLOAD_SIZE = 100 * 1024;\n",
              "\n",
              "function _uploadFiles(inputId, outputId) {\n",
              "  const steps = uploadFilesStep(inputId, outputId);\n",
              "  const outputElement = document.getElementById(outputId);\n",
              "  // Cache steps on the outputElement to make it available for the next call\n",
              "  // to uploadFilesContinue from Python.\n",
              "  outputElement.steps = steps;\n",
              "\n",
              "  return _uploadFilesContinue(outputId);\n",
              "}\n",
              "\n",
              "// This is roughly an async generator (not supported in the browser yet),\n",
              "// where there are multiple asynchronous steps and the Python side is going\n",
              "// to poll for completion of each step.\n",
              "// This uses a Promise to block the python side on completion of each step,\n",
              "// then passes the result of the previous step as the input to the next step.\n",
              "function _uploadFilesContinue(outputId) {\n",
              "  const outputElement = document.getElementById(outputId);\n",
              "  const steps = outputElement.steps;\n",
              "\n",
              "  const next = steps.next(outputElement.lastPromiseValue);\n",
              "  return Promise.resolve(next.value.promise).then((value) => {\n",
              "    // Cache the last promise value to make it available to the next\n",
              "    // step of the generator.\n",
              "    outputElement.lastPromiseValue = value;\n",
              "    return next.value.response;\n",
              "  });\n",
              "}\n",
              "\n",
              "/**\n",
              " * Generator function which is called between each async step of the upload\n",
              " * process.\n",
              " * @param {string} inputId Element ID of the input file picker element.\n",
              " * @param {string} outputId Element ID of the output display.\n",
              " * @return {!Iterable<!Object>} Iterable of next steps.\n",
              " */\n",
              "function* uploadFilesStep(inputId, outputId) {\n",
              "  const inputElement = document.getElementById(inputId);\n",
              "  inputElement.disabled = false;\n",
              "\n",
              "  const outputElement = document.getElementById(outputId);\n",
              "  outputElement.innerHTML = '';\n",
              "\n",
              "  const pickedPromise = new Promise((resolve) => {\n",
              "    inputElement.addEventListener('change', (e) => {\n",
              "      resolve(e.target.files);\n",
              "    });\n",
              "  });\n",
              "\n",
              "  const cancel = document.createElement('button');\n",
              "  inputElement.parentElement.appendChild(cancel);\n",
              "  cancel.textContent = 'Cancel upload';\n",
              "  const cancelPromise = new Promise((resolve) => {\n",
              "    cancel.onclick = () => {\n",
              "      resolve(null);\n",
              "    };\n",
              "  });\n",
              "\n",
              "  // Wait for the user to pick the files.\n",
              "  const files = yield {\n",
              "    promise: Promise.race([pickedPromise, cancelPromise]),\n",
              "    response: {\n",
              "      action: 'starting',\n",
              "    }\n",
              "  };\n",
              "\n",
              "  cancel.remove();\n",
              "\n",
              "  // Disable the input element since further picks are not allowed.\n",
              "  inputElement.disabled = true;\n",
              "\n",
              "  if (!files) {\n",
              "    return {\n",
              "      response: {\n",
              "        action: 'complete',\n",
              "      }\n",
              "    };\n",
              "  }\n",
              "\n",
              "  for (const file of files) {\n",
              "    const li = document.createElement('li');\n",
              "    li.append(span(file.name, {fontWeight: 'bold'}));\n",
              "    li.append(span(\n",
              "        `(${file.type || 'n/a'}) - ${file.size} bytes, ` +\n",
              "        `last modified: ${\n",
              "            file.lastModifiedDate ? file.lastModifiedDate.toLocaleDateString() :\n",
              "                                    'n/a'} - `));\n",
              "    const percent = span('0% done');\n",
              "    li.appendChild(percent);\n",
              "\n",
              "    outputElement.appendChild(li);\n",
              "\n",
              "    const fileDataPromise = new Promise((resolve) => {\n",
              "      const reader = new FileReader();\n",
              "      reader.onload = (e) => {\n",
              "        resolve(e.target.result);\n",
              "      };\n",
              "      reader.readAsArrayBuffer(file);\n",
              "    });\n",
              "    // Wait for the data to be ready.\n",
              "    let fileData = yield {\n",
              "      promise: fileDataPromise,\n",
              "      response: {\n",
              "        action: 'continue',\n",
              "      }\n",
              "    };\n",
              "\n",
              "    // Use a chunked sending to avoid message size limits. See b/62115660.\n",
              "    let position = 0;\n",
              "    do {\n",
              "      const length = Math.min(fileData.byteLength - position, MAX_PAYLOAD_SIZE);\n",
              "      const chunk = new Uint8Array(fileData, position, length);\n",
              "      position += length;\n",
              "\n",
              "      const base64 = btoa(String.fromCharCode.apply(null, chunk));\n",
              "      yield {\n",
              "        response: {\n",
              "          action: 'append',\n",
              "          file: file.name,\n",
              "          data: base64,\n",
              "        },\n",
              "      };\n",
              "\n",
              "      let percentDone = fileData.byteLength === 0 ?\n",
              "          100 :\n",
              "          Math.round((position / fileData.byteLength) * 100);\n",
              "      percent.textContent = `${percentDone}% done`;\n",
              "\n",
              "    } while (position < fileData.byteLength);\n",
              "  }\n",
              "\n",
              "  // All done.\n",
              "  yield {\n",
              "    response: {\n",
              "      action: 'complete',\n",
              "    }\n",
              "  };\n",
              "}\n",
              "\n",
              "scope.google = scope.google || {};\n",
              "scope.google.colab = scope.google.colab || {};\n",
              "scope.google.colab._files = {\n",
              "  _uploadFiles,\n",
              "  _uploadFilesContinue,\n",
              "};\n",
              "})(self);\n",
              "</script> "
            ]
          },
          "metadata": {}
        },
        {
          "output_type": "stream",
          "name": "stdout",
          "text": [
            "Saving kaggle.json to kaggle (3).json\n"
          ]
        },
        {
          "output_type": "execute_result",
          "data": {
            "text/plain": [
              "{'kaggle.json': b'{\"username\":\"galinanana\",\"key\":\"8147c232cb591bab100fb9318cb5ce2d\"}'}"
            ]
          },
          "metadata": {},
          "execution_count": 168
        }
      ],
      "source": [
        "from google.colab import files\n",
        "files.upload()"
      ]
    },
    {
      "cell_type": "code",
      "source": [
        "! mkdir ~/.kaggle\n",
        "! cp kaggle.json ~/.kaggle/\n",
        "! chmod 600 ~/.kaggle/kaggle.json"
      ],
      "metadata": {
        "id": "X4BOK02yaQSn",
        "outputId": "948f67dd-82c8-4b6c-f62a-d655ef6b601d",
        "colab": {
          "base_uri": "https://localhost:8080/"
        }
      },
      "execution_count": 169,
      "outputs": [
        {
          "output_type": "stream",
          "name": "stdout",
          "text": [
            "mkdir: cannot create directory ‘/root/.kaggle’: File exists\n"
          ]
        }
      ]
    },
    {
      "cell_type": "code",
      "source": [
        "! kaggle competitions download -c titanic"
      ],
      "metadata": {
        "colab": {
          "base_uri": "https://localhost:8080/"
        },
        "id": "2iJL0CT8abjB",
        "outputId": "b5e5dcb0-eaea-452e-dbec-dc97056e2ce8"
      },
      "execution_count": 170,
      "outputs": [
        {
          "output_type": "stream",
          "name": "stdout",
          "text": [
            "titanic.zip: Skipping, found more recently modified local copy (use --force to force download)\n"
          ]
        }
      ]
    },
    {
      "cell_type": "code",
      "source": [
        "from zipfile import ZipFile\n",
        "import pandas as pd\n",
        "from sklearn.model_selection import train_test_split\n",
        "from sklearn.linear_model import LogisticRegression\n",
        "from sklearn.linear_model import LinearRegression\n",
        "from sklearn.linear_model import RidgeClassifier\n",
        "from sklearn.naive_bayes import GaussianNB\n",
        "from sklearn.ensemble import RandomForestClassifier\n",
        "from sklearn.preprocessing import StandardScaler\n",
        "from copy import deepcopy\n",
        "import numpy as np\n",
        "from imblearn.over_sampling import RandomOverSampler\n",
        "from sklearn.model_selection import GridSearchCV\n",
        "from sklearn.ensemble import BaggingClassifier\n",
        "\n",
        "import matplotlib.pyplot as plt\n",
        "import seaborn as sns\n",
        "\n",
        "%matplotlib inline\n",
        "import matplotlib as plt \n",
        "import matplotlib.pyplot as plt\n",
        "from matplotlib import pyplot\n",
        "\n",
        "import warnings\n",
        "warnings.filterwarnings(\"ignore\")"
      ],
      "metadata": {
        "id": "w_7gC23s7dMV"
      },
      "execution_count": 171,
      "outputs": []
    },
    {
      "cell_type": "markdown",
      "source": [
        "# Чтение данных\n"
      ],
      "metadata": {
        "id": "FoVRJxXO-B3o"
      }
    },
    {
      "cell_type": "code",
      "source": [
        "filezip = '/content/titanic.zip'\n",
        "\n",
        "z = ZipFile(filezip)\n",
        "print(z.infolist())\n",
        "with ZipFile(filezip, 'r') as zip_file:\n",
        "    zip_file.extract('train.csv', '.')\n",
        "    zip_file.extract('test.csv', '.')\n",
        "    zip_file.extract('gender_submission.csv', '.')"
      ],
      "metadata": {
        "colab": {
          "base_uri": "https://localhost:8080/"
        },
        "id": "gMjNNzP6bkh2",
        "outputId": "23bc3516-60c9-4b4b-abd7-5da01abf0bfe"
      },
      "execution_count": 172,
      "outputs": [
        {
          "output_type": "stream",
          "name": "stdout",
          "text": [
            "[<ZipInfo filename='gender_submission.csv' compress_type=deflate file_size=3258 compress_size=872>, <ZipInfo filename='test.csv' compress_type=deflate file_size=28629 compress_size=11171>, <ZipInfo filename='train.csv' compress_type=deflate file_size=61194 compress_size=22388>]\n"
          ]
        }
      ]
    },
    {
      "cell_type": "markdown",
      "source": [
        "# First View"
      ],
      "metadata": {
        "id": "i9sm-hiX-RlU"
      }
    },
    {
      "cell_type": "code",
      "source": [
        "data = pd.read_csv('/content/train.csv')\n",
        "data.sample(3)"
      ],
      "metadata": {
        "colab": {
          "base_uri": "https://localhost:8080/",
          "height": 143
        },
        "id": "JEtPbB-1bHs8",
        "outputId": "166d43fb-c951-4ae1-9672-9c34801204e7"
      },
      "execution_count": 257,
      "outputs": [
        {
          "output_type": "execute_result",
          "data": {
            "text/plain": [
              "     PassengerId  Survived  Pclass                            Name     Sex  \\\n",
              "463          464         0       2    Milling, Mr. Jacob Christian    male   \n",
              "502          503         0       3  O'Sullivan, Miss. Bridget Mary  female   \n",
              "520          521         1       1           Perreault, Miss. Anne  female   \n",
              "\n",
              "      Age  SibSp  Parch  Ticket     Fare Cabin Embarked  \n",
              "463  48.0      0      0  234360  13.0000   NaN        S  \n",
              "502   NaN      0      0  330909   7.6292   NaN        Q  \n",
              "520  30.0      0      0   12749  93.5000   B73        S  "
            ],
            "text/html": [
              "\n",
              "  <div id=\"df-6017ab7e-439a-46e1-9366-311ce7667859\">\n",
              "    <div class=\"colab-df-container\">\n",
              "      <div>\n",
              "<style scoped>\n",
              "    .dataframe tbody tr th:only-of-type {\n",
              "        vertical-align: middle;\n",
              "    }\n",
              "\n",
              "    .dataframe tbody tr th {\n",
              "        vertical-align: top;\n",
              "    }\n",
              "\n",
              "    .dataframe thead th {\n",
              "        text-align: right;\n",
              "    }\n",
              "</style>\n",
              "<table border=\"1\" class=\"dataframe\">\n",
              "  <thead>\n",
              "    <tr style=\"text-align: right;\">\n",
              "      <th></th>\n",
              "      <th>PassengerId</th>\n",
              "      <th>Survived</th>\n",
              "      <th>Pclass</th>\n",
              "      <th>Name</th>\n",
              "      <th>Sex</th>\n",
              "      <th>Age</th>\n",
              "      <th>SibSp</th>\n",
              "      <th>Parch</th>\n",
              "      <th>Ticket</th>\n",
              "      <th>Fare</th>\n",
              "      <th>Cabin</th>\n",
              "      <th>Embarked</th>\n",
              "    </tr>\n",
              "  </thead>\n",
              "  <tbody>\n",
              "    <tr>\n",
              "      <th>463</th>\n",
              "      <td>464</td>\n",
              "      <td>0</td>\n",
              "      <td>2</td>\n",
              "      <td>Milling, Mr. Jacob Christian</td>\n",
              "      <td>male</td>\n",
              "      <td>48.0</td>\n",
              "      <td>0</td>\n",
              "      <td>0</td>\n",
              "      <td>234360</td>\n",
              "      <td>13.0000</td>\n",
              "      <td>NaN</td>\n",
              "      <td>S</td>\n",
              "    </tr>\n",
              "    <tr>\n",
              "      <th>502</th>\n",
              "      <td>503</td>\n",
              "      <td>0</td>\n",
              "      <td>3</td>\n",
              "      <td>O'Sullivan, Miss. Bridget Mary</td>\n",
              "      <td>female</td>\n",
              "      <td>NaN</td>\n",
              "      <td>0</td>\n",
              "      <td>0</td>\n",
              "      <td>330909</td>\n",
              "      <td>7.6292</td>\n",
              "      <td>NaN</td>\n",
              "      <td>Q</td>\n",
              "    </tr>\n",
              "    <tr>\n",
              "      <th>520</th>\n",
              "      <td>521</td>\n",
              "      <td>1</td>\n",
              "      <td>1</td>\n",
              "      <td>Perreault, Miss. Anne</td>\n",
              "      <td>female</td>\n",
              "      <td>30.0</td>\n",
              "      <td>0</td>\n",
              "      <td>0</td>\n",
              "      <td>12749</td>\n",
              "      <td>93.5000</td>\n",
              "      <td>B73</td>\n",
              "      <td>S</td>\n",
              "    </tr>\n",
              "  </tbody>\n",
              "</table>\n",
              "</div>\n",
              "      <button class=\"colab-df-convert\" onclick=\"convertToInteractive('df-6017ab7e-439a-46e1-9366-311ce7667859')\"\n",
              "              title=\"Convert this dataframe to an interactive table.\"\n",
              "              style=\"display:none;\">\n",
              "        \n",
              "  <svg xmlns=\"http://www.w3.org/2000/svg\" height=\"24px\"viewBox=\"0 0 24 24\"\n",
              "       width=\"24px\">\n",
              "    <path d=\"M0 0h24v24H0V0z\" fill=\"none\"/>\n",
              "    <path d=\"M18.56 5.44l.94 2.06.94-2.06 2.06-.94-2.06-.94-.94-2.06-.94 2.06-2.06.94zm-11 1L8.5 8.5l.94-2.06 2.06-.94-2.06-.94L8.5 2.5l-.94 2.06-2.06.94zm10 10l.94 2.06.94-2.06 2.06-.94-2.06-.94-.94-2.06-.94 2.06-2.06.94z\"/><path d=\"M17.41 7.96l-1.37-1.37c-.4-.4-.92-.59-1.43-.59-.52 0-1.04.2-1.43.59L10.3 9.45l-7.72 7.72c-.78.78-.78 2.05 0 2.83L4 21.41c.39.39.9.59 1.41.59.51 0 1.02-.2 1.41-.59l7.78-7.78 2.81-2.81c.8-.78.8-2.07 0-2.86zM5.41 20L4 18.59l7.72-7.72 1.47 1.35L5.41 20z\"/>\n",
              "  </svg>\n",
              "      </button>\n",
              "      \n",
              "  <style>\n",
              "    .colab-df-container {\n",
              "      display:flex;\n",
              "      flex-wrap:wrap;\n",
              "      gap: 12px;\n",
              "    }\n",
              "\n",
              "    .colab-df-convert {\n",
              "      background-color: #E8F0FE;\n",
              "      border: none;\n",
              "      border-radius: 50%;\n",
              "      cursor: pointer;\n",
              "      display: none;\n",
              "      fill: #1967D2;\n",
              "      height: 32px;\n",
              "      padding: 0 0 0 0;\n",
              "      width: 32px;\n",
              "    }\n",
              "\n",
              "    .colab-df-convert:hover {\n",
              "      background-color: #E2EBFA;\n",
              "      box-shadow: 0px 1px 2px rgba(60, 64, 67, 0.3), 0px 1px 3px 1px rgba(60, 64, 67, 0.15);\n",
              "      fill: #174EA6;\n",
              "    }\n",
              "\n",
              "    [theme=dark] .colab-df-convert {\n",
              "      background-color: #3B4455;\n",
              "      fill: #D2E3FC;\n",
              "    }\n",
              "\n",
              "    [theme=dark] .colab-df-convert:hover {\n",
              "      background-color: #434B5C;\n",
              "      box-shadow: 0px 1px 3px 1px rgba(0, 0, 0, 0.15);\n",
              "      filter: drop-shadow(0px 1px 2px rgba(0, 0, 0, 0.3));\n",
              "      fill: #FFFFFF;\n",
              "    }\n",
              "  </style>\n",
              "\n",
              "      <script>\n",
              "        const buttonEl =\n",
              "          document.querySelector('#df-6017ab7e-439a-46e1-9366-311ce7667859 button.colab-df-convert');\n",
              "        buttonEl.style.display =\n",
              "          google.colab.kernel.accessAllowed ? 'block' : 'none';\n",
              "\n",
              "        async function convertToInteractive(key) {\n",
              "          const element = document.querySelector('#df-6017ab7e-439a-46e1-9366-311ce7667859');\n",
              "          const dataTable =\n",
              "            await google.colab.kernel.invokeFunction('convertToInteractive',\n",
              "                                                     [key], {});\n",
              "          if (!dataTable) return;\n",
              "\n",
              "          const docLinkHtml = 'Like what you see? Visit the ' +\n",
              "            '<a target=\"_blank\" href=https://colab.research.google.com/notebooks/data_table.ipynb>data table notebook</a>'\n",
              "            + ' to learn more about interactive tables.';\n",
              "          element.innerHTML = '';\n",
              "          dataTable['output_type'] = 'display_data';\n",
              "          await google.colab.output.renderOutput(dataTable, element);\n",
              "          const docLink = document.createElement('div');\n",
              "          docLink.innerHTML = docLinkHtml;\n",
              "          element.appendChild(docLink);\n",
              "        }\n",
              "      </script>\n",
              "    </div>\n",
              "  </div>\n",
              "  "
            ]
          },
          "metadata": {},
          "execution_count": 257
        }
      ]
    },
    {
      "cell_type": "markdown",
      "source": [
        "Вещественные признаки : Age, Fare  \n",
        "Категориальные : Sibsp, Cabin, Embarked, Sex, Parch, Pclass\n"
      ],
      "metadata": {
        "id": "l-N22HclAbXR"
      }
    },
    {
      "cell_type": "code",
      "source": [
        "data.info()"
      ],
      "metadata": {
        "colab": {
          "base_uri": "https://localhost:8080/"
        },
        "id": "hUz5oETzbO1R",
        "outputId": "bda77e87-5522-4039-8882-af8c168f57c9"
      },
      "execution_count": 174,
      "outputs": [
        {
          "output_type": "stream",
          "name": "stdout",
          "text": [
            "<class 'pandas.core.frame.DataFrame'>\n",
            "RangeIndex: 891 entries, 0 to 890\n",
            "Data columns (total 12 columns):\n",
            " #   Column       Non-Null Count  Dtype  \n",
            "---  ------       --------------  -----  \n",
            " 0   PassengerId  891 non-null    int64  \n",
            " 1   Survived     891 non-null    int64  \n",
            " 2   Pclass       891 non-null    int64  \n",
            " 3   Name         891 non-null    object \n",
            " 4   Sex          891 non-null    object \n",
            " 5   Age          714 non-null    float64\n",
            " 6   SibSp        891 non-null    int64  \n",
            " 7   Parch        891 non-null    int64  \n",
            " 8   Ticket       891 non-null    object \n",
            " 9   Fare         891 non-null    float64\n",
            " 10  Cabin        204 non-null    object \n",
            " 11  Embarked     889 non-null    object \n",
            "dtypes: float64(2), int64(5), object(5)\n",
            "memory usage: 83.7+ KB\n"
          ]
        }
      ]
    },
    {
      "cell_type": "code",
      "source": [
        "data.corr()"
      ],
      "metadata": {
        "colab": {
          "base_uri": "https://localhost:8080/",
          "height": 269
        },
        "id": "ulvfMYKs8y_m",
        "outputId": "fc292ba2-c6f1-45dd-f841-ef5f2faf84f7"
      },
      "execution_count": 23,
      "outputs": [
        {
          "output_type": "execute_result",
          "data": {
            "text/plain": [
              "             PassengerId  Survived    Pclass       Age     SibSp     Parch  \\\n",
              "PassengerId     1.000000 -0.005007 -0.035144  0.036847 -0.057527 -0.001652   \n",
              "Survived       -0.005007  1.000000 -0.338481 -0.077221 -0.035322  0.081629   \n",
              "Pclass         -0.035144 -0.338481  1.000000 -0.369226  0.083081  0.018443   \n",
              "Age             0.036847 -0.077221 -0.369226  1.000000 -0.308247 -0.189119   \n",
              "SibSp          -0.057527 -0.035322  0.083081 -0.308247  1.000000  0.414838   \n",
              "Parch          -0.001652  0.081629  0.018443 -0.189119  0.414838  1.000000   \n",
              "Fare            0.012658  0.257307 -0.549500  0.096067  0.159651  0.216225   \n",
              "\n",
              "                 Fare  \n",
              "PassengerId  0.012658  \n",
              "Survived     0.257307  \n",
              "Pclass      -0.549500  \n",
              "Age          0.096067  \n",
              "SibSp        0.159651  \n",
              "Parch        0.216225  \n",
              "Fare         1.000000  "
            ],
            "text/html": [
              "\n",
              "  <div id=\"df-dbbf645e-efd9-4bc7-9c60-6573e497a1c3\">\n",
              "    <div class=\"colab-df-container\">\n",
              "      <div>\n",
              "<style scoped>\n",
              "    .dataframe tbody tr th:only-of-type {\n",
              "        vertical-align: middle;\n",
              "    }\n",
              "\n",
              "    .dataframe tbody tr th {\n",
              "        vertical-align: top;\n",
              "    }\n",
              "\n",
              "    .dataframe thead th {\n",
              "        text-align: right;\n",
              "    }\n",
              "</style>\n",
              "<table border=\"1\" class=\"dataframe\">\n",
              "  <thead>\n",
              "    <tr style=\"text-align: right;\">\n",
              "      <th></th>\n",
              "      <th>PassengerId</th>\n",
              "      <th>Survived</th>\n",
              "      <th>Pclass</th>\n",
              "      <th>Age</th>\n",
              "      <th>SibSp</th>\n",
              "      <th>Parch</th>\n",
              "      <th>Fare</th>\n",
              "    </tr>\n",
              "  </thead>\n",
              "  <tbody>\n",
              "    <tr>\n",
              "      <th>PassengerId</th>\n",
              "      <td>1.000000</td>\n",
              "      <td>-0.005007</td>\n",
              "      <td>-0.035144</td>\n",
              "      <td>0.036847</td>\n",
              "      <td>-0.057527</td>\n",
              "      <td>-0.001652</td>\n",
              "      <td>0.012658</td>\n",
              "    </tr>\n",
              "    <tr>\n",
              "      <th>Survived</th>\n",
              "      <td>-0.005007</td>\n",
              "      <td>1.000000</td>\n",
              "      <td>-0.338481</td>\n",
              "      <td>-0.077221</td>\n",
              "      <td>-0.035322</td>\n",
              "      <td>0.081629</td>\n",
              "      <td>0.257307</td>\n",
              "    </tr>\n",
              "    <tr>\n",
              "      <th>Pclass</th>\n",
              "      <td>-0.035144</td>\n",
              "      <td>-0.338481</td>\n",
              "      <td>1.000000</td>\n",
              "      <td>-0.369226</td>\n",
              "      <td>0.083081</td>\n",
              "      <td>0.018443</td>\n",
              "      <td>-0.549500</td>\n",
              "    </tr>\n",
              "    <tr>\n",
              "      <th>Age</th>\n",
              "      <td>0.036847</td>\n",
              "      <td>-0.077221</td>\n",
              "      <td>-0.369226</td>\n",
              "      <td>1.000000</td>\n",
              "      <td>-0.308247</td>\n",
              "      <td>-0.189119</td>\n",
              "      <td>0.096067</td>\n",
              "    </tr>\n",
              "    <tr>\n",
              "      <th>SibSp</th>\n",
              "      <td>-0.057527</td>\n",
              "      <td>-0.035322</td>\n",
              "      <td>0.083081</td>\n",
              "      <td>-0.308247</td>\n",
              "      <td>1.000000</td>\n",
              "      <td>0.414838</td>\n",
              "      <td>0.159651</td>\n",
              "    </tr>\n",
              "    <tr>\n",
              "      <th>Parch</th>\n",
              "      <td>-0.001652</td>\n",
              "      <td>0.081629</td>\n",
              "      <td>0.018443</td>\n",
              "      <td>-0.189119</td>\n",
              "      <td>0.414838</td>\n",
              "      <td>1.000000</td>\n",
              "      <td>0.216225</td>\n",
              "    </tr>\n",
              "    <tr>\n",
              "      <th>Fare</th>\n",
              "      <td>0.012658</td>\n",
              "      <td>0.257307</td>\n",
              "      <td>-0.549500</td>\n",
              "      <td>0.096067</td>\n",
              "      <td>0.159651</td>\n",
              "      <td>0.216225</td>\n",
              "      <td>1.000000</td>\n",
              "    </tr>\n",
              "  </tbody>\n",
              "</table>\n",
              "</div>\n",
              "      <button class=\"colab-df-convert\" onclick=\"convertToInteractive('df-dbbf645e-efd9-4bc7-9c60-6573e497a1c3')\"\n",
              "              title=\"Convert this dataframe to an interactive table.\"\n",
              "              style=\"display:none;\">\n",
              "        \n",
              "  <svg xmlns=\"http://www.w3.org/2000/svg\" height=\"24px\"viewBox=\"0 0 24 24\"\n",
              "       width=\"24px\">\n",
              "    <path d=\"M0 0h24v24H0V0z\" fill=\"none\"/>\n",
              "    <path d=\"M18.56 5.44l.94 2.06.94-2.06 2.06-.94-2.06-.94-.94-2.06-.94 2.06-2.06.94zm-11 1L8.5 8.5l.94-2.06 2.06-.94-2.06-.94L8.5 2.5l-.94 2.06-2.06.94zm10 10l.94 2.06.94-2.06 2.06-.94-2.06-.94-.94-2.06-.94 2.06-2.06.94z\"/><path d=\"M17.41 7.96l-1.37-1.37c-.4-.4-.92-.59-1.43-.59-.52 0-1.04.2-1.43.59L10.3 9.45l-7.72 7.72c-.78.78-.78 2.05 0 2.83L4 21.41c.39.39.9.59 1.41.59.51 0 1.02-.2 1.41-.59l7.78-7.78 2.81-2.81c.8-.78.8-2.07 0-2.86zM5.41 20L4 18.59l7.72-7.72 1.47 1.35L5.41 20z\"/>\n",
              "  </svg>\n",
              "      </button>\n",
              "      \n",
              "  <style>\n",
              "    .colab-df-container {\n",
              "      display:flex;\n",
              "      flex-wrap:wrap;\n",
              "      gap: 12px;\n",
              "    }\n",
              "\n",
              "    .colab-df-convert {\n",
              "      background-color: #E8F0FE;\n",
              "      border: none;\n",
              "      border-radius: 50%;\n",
              "      cursor: pointer;\n",
              "      display: none;\n",
              "      fill: #1967D2;\n",
              "      height: 32px;\n",
              "      padding: 0 0 0 0;\n",
              "      width: 32px;\n",
              "    }\n",
              "\n",
              "    .colab-df-convert:hover {\n",
              "      background-color: #E2EBFA;\n",
              "      box-shadow: 0px 1px 2px rgba(60, 64, 67, 0.3), 0px 1px 3px 1px rgba(60, 64, 67, 0.15);\n",
              "      fill: #174EA6;\n",
              "    }\n",
              "\n",
              "    [theme=dark] .colab-df-convert {\n",
              "      background-color: #3B4455;\n",
              "      fill: #D2E3FC;\n",
              "    }\n",
              "\n",
              "    [theme=dark] .colab-df-convert:hover {\n",
              "      background-color: #434B5C;\n",
              "      box-shadow: 0px 1px 3px 1px rgba(0, 0, 0, 0.15);\n",
              "      filter: drop-shadow(0px 1px 2px rgba(0, 0, 0, 0.3));\n",
              "      fill: #FFFFFF;\n",
              "    }\n",
              "  </style>\n",
              "\n",
              "      <script>\n",
              "        const buttonEl =\n",
              "          document.querySelector('#df-dbbf645e-efd9-4bc7-9c60-6573e497a1c3 button.colab-df-convert');\n",
              "        buttonEl.style.display =\n",
              "          google.colab.kernel.accessAllowed ? 'block' : 'none';\n",
              "\n",
              "        async function convertToInteractive(key) {\n",
              "          const element = document.querySelector('#df-dbbf645e-efd9-4bc7-9c60-6573e497a1c3');\n",
              "          const dataTable =\n",
              "            await google.colab.kernel.invokeFunction('convertToInteractive',\n",
              "                                                     [key], {});\n",
              "          if (!dataTable) return;\n",
              "\n",
              "          const docLinkHtml = 'Like what you see? Visit the ' +\n",
              "            '<a target=\"_blank\" href=https://colab.research.google.com/notebooks/data_table.ipynb>data table notebook</a>'\n",
              "            + ' to learn more about interactive tables.';\n",
              "          element.innerHTML = '';\n",
              "          dataTable['output_type'] = 'display_data';\n",
              "          await google.colab.output.renderOutput(dataTable, element);\n",
              "          const docLink = document.createElement('div');\n",
              "          docLink.innerHTML = docLinkHtml;\n",
              "          element.appendChild(docLink);\n",
              "        }\n",
              "      </script>\n",
              "    </div>\n",
              "  </div>\n",
              "  "
            ]
          },
          "metadata": {},
          "execution_count": 23
        }
      ]
    },
    {
      "cell_type": "code",
      "source": [
        "sns.countplot(x='Survived',data=data)\n",
        "plt.show()"
      ],
      "metadata": {
        "id": "Mb9xoboN97Qh",
        "outputId": "08a5b68d-ba95-49ef-b8ca-7bc6fa4be718",
        "colab": {
          "base_uri": "https://localhost:8080/",
          "height": 279
        }
      },
      "execution_count": 24,
      "outputs": [
        {
          "output_type": "display_data",
          "data": {
            "text/plain": [
              "<Figure size 432x288 with 1 Axes>"
            ],
            "image/png": "[encoded data removed]"
          },
          "metadata": {
            "needs_background": "light"
          }
        }
      ]
    },
    {
      "cell_type": "code",
      "source": [
        "balance = {0:data['Survived'].value_counts()[0]/data.shape[0], 1:data['Survived'].value_counts()[1]/data.shape[0]}"
      ],
      "metadata": {
        "id": "w-GzkrCXDYsH"
      },
      "execution_count": 51,
      "outputs": []
    },
    {
      "cell_type": "markdown",
      "source": [
        "Классы несбалансированы"
      ],
      "metadata": {
        "id": "dkdGGtqh-2tu"
      }
    },
    {
      "cell_type": "code",
      "source": [
        "plt.figure(figsize=(10,5))\n",
        "sns.countplot(x='Pclass', hue='Survived', data=data);"
      ],
      "metadata": {
        "id": "ceya9j51A5di",
        "outputId": "75f9862c-b23d-480a-fc9a-10612a901488",
        "colab": {
          "base_uri": "https://localhost:8080/",
          "height": 334
        }
      },
      "execution_count": 25,
      "outputs": [
        {
          "output_type": "display_data",
          "data": {
            "text/plain": [
              "<Figure size 720x360 with 1 Axes>"
            ],
            "image/png": "[encoded data removed]"
          },
          "metadata": {
            "needs_background": "light"
          }
        }
      ]
    },
    {
      "cell_type": "code",
      "source": [
        "plt.figure(figsize=(10,5))\n",
        "sns.countplot(x='SibSp', hue='Survived', data=data);"
      ],
      "metadata": {
        "id": "G3zUHPzeBJYx",
        "outputId": "182b1aa0-fdc0-4dff-df3d-2f9a822de9d9",
        "colab": {
          "base_uri": "https://localhost:8080/",
          "height": 334
        }
      },
      "execution_count": 26,
      "outputs": [
        {
          "output_type": "display_data",
          "data": {
            "text/plain": [
              "<Figure size 720x360 with 1 Axes>"
            ],
            "image/png": "[encoded data removed]"
          },
          "metadata": {
            "needs_background": "light"
          }
        }
      ]
    },
    {
      "cell_type": "code",
      "source": [
        "plt.figure(figsize=(10,5))\n",
        "sns.countplot(x='Parch', hue='Survived', data=data)"
      ],
      "metadata": {
        "id": "xaxTQH31BUjO",
        "outputId": "c4520ab1-c23e-4f4b-bd78-3da22b29a071",
        "colab": {
          "base_uri": "https://localhost:8080/",
          "height": 351
        }
      },
      "execution_count": 27,
      "outputs": [
        {
          "output_type": "execute_result",
          "data": {
            "text/plain": [
              "<matplotlib.axes._subplots.AxesSubplot at 0x7f211158a1d0>"
            ]
          },
          "metadata": {},
          "execution_count": 27
        },
        {
          "output_type": "display_data",
          "data": {
            "text/plain": [
              "<Figure size 720x360 with 1 Axes>"
            ],
            "image/png": "[encoded data removed]"
          },
          "metadata": {
            "needs_background": "light"
          }
        }
      ]
    },
    {
      "cell_type": "markdown",
      "source": [
        "# Features extraction\n"
      ],
      "metadata": {
        "id": "uELW1_sv-HhP"
      }
    },
    {
      "cell_type": "code",
      "source": [
        "max_corr = abs(data.corr()['Age']).sort_values().index[-3:-1]\n",
        "corr_df = data[~data['Age'].isna()][max_corr]\n",
        "corr_target = data[~data['Age'].isna()]['Age']\n",
        "lr_corr = LinearRegression()\n",
        "lr_corr.fit(corr_df, corr_target)\n",
        "def preproc(data):\n",
        "  global lr_corr\n",
        "  data['Cabin_ffil'] =( ~data['Cabin'].isna()).astype(int)\n",
        "  data['Ticket_digit'] = [s[0].isdigit() for s in data['Ticket']]\n",
        "  data['Ticket_digit'] = data['Ticket_digit'].astype(int)\n",
        "  data['Embarked'].fillna('Nan', inplace=True)\n",
        " # data['Age'].fillna(24.0, inplace=True)\n",
        "  data['Age'].fillna(data['Age'].mean(), inplace=True)\n",
        " # data['Age'] = data['Age'].fillna(dict(zip(data.loc[data['Age'].isna()].index, list(lr_corr.predict(data[data['Age'].isna()][max_corr])))))\n",
        "  data.drop(['PassengerId', 'Name', 'Ticket', 'Cabin'], inplace=True, axis=1)\n",
        " # data['SibSp'] = data['SibSp'].astype(str)\n",
        "  #data['Parch'] = data['SibSp'].astype(str)\n",
        "  #data['Pclass'] = data['SibSp'].astype(str)\n",
        "  df = pd.concat([data,pd.get_dummies(data[['Sex', 'Embarked']])], axis=1)\n",
        "  #df = pd.concat([data,pd.get_dummies(data[['Sex', 'Embarked', 'Pclass', 'SibSp','Parch']])], axis=1)\n",
        "  df.drop(['Sex', 'Embarked','Pclass', 'SibSp','Parch'], axis=1, inplace=True)\n",
        "  if 'Embarked_Nan' in list(df.columns):\n",
        "    df.drop('Embarked_Nan', axis=1, inplace=True)\n",
        "  df.fillna(0, inplace=True)\n",
        "  sc = StandardScaler()\n",
        "  df = sc.fit_transform(df)\n",
        "  df = pd.DataFrame(columns = sc.get_feature_names_out(),data = df)\n",
        "  return df"
      ],
      "metadata": {
        "id": "RNQFxuz4-5sW"
      },
      "execution_count": 258,
      "outputs": []
    },
    {
      "cell_type": "code",
      "source": [
        "target = data['Survived']\n",
        "data.drop('Survived', axis=1, inplace = True)\n",
        "df = preproc(data)\n",
        "ros = RandomOverSampler(random_state=0)\n",
        "X_resampled, y_resampled = ros.fit_resample(df, target)\n",
        "X_train, X_test, y_train,  y_test = train_test_split(X_resampled, y_resampled, test_size=0.3)\n",
        "#X_train, X_test, y_train,  y_test = train_test_split(df, target, test_size=0.3)"
      ],
      "metadata": {
        "id": "LOxrEjAgAJkG"
      },
      "execution_count": 259,
      "outputs": []
    },
    {
      "cell_type": "code",
      "source": [
        "logreg = LogisticRegression()\n",
        "ridge = RidgeClassifier()\n",
        "nb = GaussianNB()\n",
        "rf = RandomForestClassifier()\n",
        "logreg.fit(X_train, y_train)\n",
        "ridge.fit(X_train, y_train)\n",
        "nb.fit(X_train, y_train)\n",
        "rf.fit(X_train, y_train)\n",
        "y_pred_lr = logreg.predict(X_test)\n",
        "y_pred_rd = ridge.predict(X_test)\n",
        "y_pred_nb = nb.predict(X_test)\n",
        "y_pred_rf = rf.predict(X_test)"
      ],
      "metadata": {
        "id": "Cr69biQYCzp5"
      },
      "execution_count": 260,
      "outputs": []
    },
    {
      "cell_type": "code",
      "source": [
        "from sklearn.metrics import accuracy_score, precision_score, recall_score, f1_score, roc_auc_score\n",
        "for y, name in zip((y_pred_lr, y_pred_rd, y_pred_nb, y_pred_rf), ('lr', 'ridge', 'nb','rf')):\n",
        "  pred_ac = round(accuracy_score(y, y_test),3)\n",
        "  pred_pr = round(precision_score(y, y_test),3)\n",
        "  pred_recall = round(recall_score(y, y_test),3)\n",
        "  pred_f = round(f1_score(y, y_test),3)\n",
        "  pred_roc = round(roc_auc_score(y, y_test),3)\n",
        "  print(f'Score for {name}  ')\n",
        "  print('')\n",
        "  print(f'Accuracy для {name} {pred_ac}  ')\n",
        "  print(f'Precision для {name} {pred_pr}  ')\n",
        "  print(f'Recall для {name} {pred_recall}  ')\n",
        "  print('')"
      ],
      "metadata": {
        "colab": {
          "base_uri": "https://localhost:8080/"
        },
        "id": "Fcj7sc0AFE17",
        "outputId": "b8b6cd69-2d42-4138-e25b-6d57cc7ecad6"
      },
      "execution_count": 261,
      "outputs": [
        {
          "output_type": "stream",
          "name": "stdout",
          "text": [
            "Score for lr  \n",
            "\n",
            "Accuracy для lr 0.77  \n",
            "Precision для lr 0.75  \n",
            "Recall для lr 0.788  \n",
            "\n",
            "Score for ridge  \n",
            "\n",
            "Accuracy для ridge 0.755  \n",
            "Precision для ridge 0.714  \n",
            "Recall для ridge 0.784  \n",
            "\n",
            "Score for nb  \n",
            "\n",
            "Accuracy для nb 0.739  \n",
            "Precision для nb 0.714  \n",
            "Recall для nb 0.759  \n",
            "\n",
            "Score for rf  \n",
            "\n",
            "Accuracy для rf 0.845  \n",
            "Precision для rf 0.863  \n",
            "Recall для rf 0.838  \n",
            "\n"
          ]
        }
      ]
    },
    {
      "cell_type": "markdown",
      "source": [
        "# Настройка модели\n"
      ],
      "metadata": {
        "id": "dBfhWvN7CyNz"
      }
    },
    {
      "cell_type": "code",
      "source": [
        "params_dict = {'penalty': ['l1', 'l2', 'elasticnet'], 'C':[0.00001,0.0001, 0.001,0.01,0.1,1,10,100,1000], 'tol': [1e-5, 1e-6]}\n",
        "lr = LogisticRegression( solver='saga')\n",
        "gv = GridSearchCV(lr, param_grid=params_dict, scoring = 'accuracy')\n",
        "gv.fit(df, target)"
      ],
      "metadata": {
        "id": "0WkUi0kKC4ID",
        "outputId": "2f34c5d0-ddd7-49b4-cb94-55a460244773",
        "colab": {
          "base_uri": "https://localhost:8080/"
        }
      },
      "execution_count": 143,
      "outputs": [
        {
          "output_type": "execute_result",
          "data": {
            "text/plain": [
              "GridSearchCV(estimator=LogisticRegression(solver='saga'),\n",
              "             param_grid={'C': [1e-05, 0.0001, 0.001, 0.01, 0.1, 1, 10, 100,\n",
              "                               1000],\n",
              "                         'penalty': ['l1', 'l2', 'elasticnet'],\n",
              "                         'tol': [1e-05, 1e-06]},\n",
              "             scoring='accuracy')"
            ]
          },
          "metadata": {},
          "execution_count": 143
        }
      ]
    },
    {
      "cell_type": "code",
      "source": [
        "lr_best = LogisticRegression(solver='saga', **gv.best_params_)\n",
        "lr_best.fit(X_train, y_train)\n",
        "y_pred = lr_best.predict(X_test)\n",
        "print(accuracy_score(y_test, y_pred))\n",
        "#lr_best.fit(df,target)"
      ],
      "metadata": {
        "id": "_Ybo6CfWDUAm",
        "outputId": "da2814e9-36f4-4d11-c88e-f351ec64bdaf",
        "colab": {
          "base_uri": "https://localhost:8080/"
        }
      },
      "execution_count": 191,
      "outputs": [
        {
          "output_type": "stream",
          "name": "stdout",
          "text": [
            "0.7333333333333333\n"
          ]
        }
      ]
    },
    {
      "cell_type": "code",
      "source": [
        "BC_param_grid = {\n",
        "'bootstrap': [True, False],\n",
        "'bootstrap_features': [True, False],    \n",
        "'n_estimators': [5, 10, 15],\n",
        "'max_samples' : [0.6, 0.8, 1.0],\n",
        "'base_estimator__penalty': ['l1', 'l2', 'elasticnet'],\n",
        "'base_estimator__C':[0.001,0.01,0.1,1,10,100,1000]\n",
        "}\n",
        "bag_cl = BaggingClassifier(lr)\n",
        "gv_bag = GridSearchCV(bag_cl, param_grid=BC_param_grid, scoring = 'accuracy')\n",
        "gv_bag.fit(df, target)\n",
        "#y_pred = bag_cl.predict(X_test)\n",
        "#print(accuracy_score(y_test, y_pred))"
      ],
      "metadata": {
        "id": "ycqJvxeWMNhz",
        "outputId": "d9219c7c-8b6c-481a-c235-a2941f895019",
        "colab": {
          "base_uri": "https://localhost:8080/"
        }
      },
      "execution_count": 181,
      "outputs": [
        {
          "output_type": "execute_result",
          "data": {
            "text/plain": [
              "GridSearchCV(estimator=BaggingClassifier(base_estimator=LogisticRegression(solver='saga')),\n",
              "             param_grid={'base_estimator__C': [0.001, 0.01, 0.1, 1, 10, 100,\n",
              "                                               1000],\n",
              "                         'base_estimator__penalty': ['l1', 'l2', 'elasticnet'],\n",
              "                         'bootstrap': [True, False],\n",
              "                         'bootstrap_features': [True, False],\n",
              "                         'max_samples': [0.6, 0.8, 1.0],\n",
              "                         'n_estimators': [5, 10, 15]},\n",
              "             scoring='accuracy')"
            ]
          },
          "metadata": {},
          "execution_count": 181
        }
      ]
    },
    {
      "cell_type": "code",
      "source": [
        "scores_threshold = []\n",
        "for i in np.arange(0,1,0.001):\n",
        "  y_pred = (lr_best.predict_proba(X_test)[:,1]>i).astype(int)\n",
        "  scores_threshold.append(accuracy_score(y_test, y_pred))\n",
        "\n",
        "max(scores_threshold)"
      ],
      "metadata": {
        "id": "9fn60REJX4WQ",
        "outputId": "8870ae52-52e5-4fac-aed6-88494aa5fe7c",
        "colab": {
          "base_uri": "https://localhost:8080/"
        }
      },
      "execution_count": 235,
      "outputs": [
        {
          "output_type": "execute_result",
          "data": {
            "text/plain": [
              "0.7454545454545455"
            ]
          },
          "metadata": {},
          "execution_count": 235
        }
      ]
    },
    {
      "cell_type": "markdown",
      "source": [
        "Tuning Лог регрессии особенно ничего не дал"
      ],
      "metadata": {
        "id": "If7BmzpQZqgD"
      }
    },
    {
      "cell_type": "code",
      "source": [
        "params_dict = {'criterion': ['entropy', 'gini', 'log_loss'], 'n_estimators':[50, 100, 500], 'max_depth':[4,8,'None'], 'min_samples_split':[1,2,3, 6]}\n",
        "rf = RandomForestClassifier(class_weight = balance)\n",
        "gv = GridSearchCV(rf, param_grid=params_dict, scoring = 'accuracy')\n",
        "gv.fit(df, target)"
      ],
      "metadata": {
        "id": "fTUqioLgZ0iK",
        "outputId": "d97a91c4-d43b-4a2b-dd31-e9394b1fd3d1",
        "colab": {
          "base_uri": "https://localhost:8080/"
        }
      },
      "execution_count": 239,
      "outputs": [
        {
          "output_type": "execute_result",
          "data": {
            "text/plain": [
              "GridSearchCV(estimator=RandomForestClassifier(class_weight={0: 0.6161616161616161,\n",
              "                                                            1: 0.3838383838383838}),\n",
              "             param_grid={'criterion': ['entropy', 'gini', 'log_loss'],\n",
              "                         'max_depth': [4, 8, 'None'],\n",
              "                         'min_samples_split': [1, 2, 3, 6],\n",
              "                         'n_estimators': [50, 100, 500]},\n",
              "             scoring='accuracy')"
            ]
          },
          "metadata": {},
          "execution_count": 239
        }
      ]
    },
    {
      "cell_type": "code",
      "source": [
        "gv.best_estimator_"
      ],
      "metadata": {
        "id": "UMx8T8IZc3Ms",
        "outputId": "30754bb9-8715-487a-8ebd-f3707ac5dc8e",
        "colab": {
          "base_uri": "https://localhost:8080/"
        }
      },
      "execution_count": 246,
      "outputs": [
        {
          "output_type": "execute_result",
          "data": {
            "text/plain": [
              "RandomForestClassifier(class_weight={0: 0.6161616161616161,\n",
              "                                     1: 0.3838383838383838},\n",
              "                       max_depth=8, n_estimators=500)"
            ]
          },
          "metadata": {},
          "execution_count": 246
        }
      ]
    },
    {
      "cell_type": "code",
      "source": [
        "rf = RandomForestClassifier(class_weight={0: 0.6161616161616161,\n",
        "                                     1: 0.3838383838383838},\n",
        "                       max_depth=8, n_estimators=500)\n",
        "rf.fit(df, target)"
      ],
      "metadata": {
        "id": "eKw8JqnZbQQg",
        "outputId": "6c6d6da1-e255-4fe7-8703-689d299c3f95",
        "colab": {
          "base_uri": "https://localhost:8080/"
        }
      },
      "execution_count": 262,
      "outputs": [
        {
          "output_type": "execute_result",
          "data": {
            "text/plain": [
              "RandomForestClassifier(class_weight={0: 0.6161616161616161,\n",
              "                                     1: 0.3838383838383838},\n",
              "                       max_depth=8, n_estimators=500)"
            ]
          },
          "metadata": {},
          "execution_count": 262
        }
      ]
    },
    {
      "cell_type": "markdown",
      "source": [
        "# Submission"
      ],
      "metadata": {
        "id": "hSlS_i4WC1ia"
      }
    },
    {
      "cell_type": "code",
      "source": [
        "test = pd.read_csv('/content/test.csv')\n",
        "id = test['PassengerId']\n",
        "X_submiss = preproc(test)\n",
        "diff = list(set(X_train.columns).difference(set(X_submiss.columns)))\n",
        "dict_idx = ()\n",
        "for itm in diff:\n",
        "  idx = list(X_train.columns).index(itm)\n",
        "  X_submiss.insert(idx, itm, 0)\n",
        "submission_lr = logreg.predict(X_submiss)\n",
        "submission_rd = ridge.predict(X_submiss)\n",
        "submission_nb = nb.predict(X_submiss)\n",
        "submission_rf = rf.predict(X_submiss)"
      ],
      "metadata": {
        "id": "Hc5MX9-oIJQ8"
      },
      "execution_count": 263,
      "outputs": []
    },
    {
      "cell_type": "code",
      "source": [
        "d = {'PassengerId':id, 'Survived':submission_lr}\n",
        "log_reg_df = pd.DataFrame(d)\n",
        "d = {'PassengerId':id, 'Survived':submission_rd}\n",
        "ridge_df = pd.DataFrame(d)\n",
        "d = {'PassengerId':id, 'Survived':submission_nb}\n",
        "nb_df = pd.DataFrame(d)\n",
        "d = {'PassengerId':id, 'Survived':submission_rf}\n",
        "rf_df = pd.DataFrame(d)"
      ],
      "metadata": {
        "id": "Umwpjb8rPFwl"
      },
      "execution_count": 264,
      "outputs": []
    },
    {
      "cell_type": "code",
      "source": [
        "log_reg_df.to_csv('lr1_submiss.csv', index=False)\n",
        "ridge_df.to_csv('rd_submiss.csv', index=False)\n",
        "nb_df.to_csv('nb_submiss.csv', index=False)\n",
        "rf_df.to_csv('rf_submiss.csv', index=False)"
      ],
      "metadata": {
        "id": "PGElck0CQMEZ"
      },
      "execution_count": 254,
      "outputs": []
    },
    {
      "cell_type": "code",
      "source": [
        "!kaggle competitions submit -c titanic -f lr1_submiss.csv -m Feats_only_with_embarked_witoutnan_agecorr_oversampling_tuned_model_with_bagging"
      ],
      "metadata": {
        "colab": {
          "base_uri": "https://localhost:8080/"
        },
        "id": "r0cH_nNtQO56",
        "outputId": "b5f6d442-0472-4b78-beb2-21fa52614d0b"
      },
      "execution_count": 162,
      "outputs": [
        {
          "output_type": "stream",
          "name": "stdout",
          "text": [
            "100% 2.77k/2.77k [00:03<00:00, 824B/s]\n",
            "Successfully submitted to Titanic - Machine Learning from Disaster"
          ]
        }
      ]
    },
    {
      "cell_type": "code",
      "source": [
        "#!kaggle competitions submit -c titanic -f rd_submiss.csv -m Message"
      ],
      "metadata": {
        "id": "e8lpY5P6Q-oA"
      },
      "execution_count": null,
      "outputs": []
    },
    {
      "cell_type": "code",
      "source": [
        "!kaggle competitions submit -c titanic -f nb_submiss.csv -m Balance_cat_feat"
      ],
      "metadata": {
        "id": "HTafvNhoIdfy",
        "outputId": "f62fcfe6-9538-4931-9447-2f894ab087a5",
        "colab": {
          "base_uri": "https://localhost:8080/"
        }
      },
      "execution_count": 82,
      "outputs": [
        {
          "output_type": "stream",
          "name": "stdout",
          "text": [
            "100% 2.77k/2.77k [00:01<00:00, 1.88kB/s]\n",
            "Successfully submitted to Titanic - Machine Learning from Disaster"
          ]
        }
      ]
    },
    {
      "cell_type": "code",
      "source": [
        "!kaggle competitions submit -c titanic -f rf_submiss.csv -m Tuned_age_mean"
      ],
      "metadata": {
        "id": "ApJwb9mMIen3",
        "outputId": "ca9b9f05-c0c1-4858-8dd4-5af7c7d05bcc",
        "colab": {
          "base_uri": "https://localhost:8080/"
        }
      },
      "execution_count": 265,
      "outputs": [
        {
          "output_type": "stream",
          "name": "stdout",
          "text": [
            "100% 2.77k/2.77k [00:02<00:00, 1.37kB/s]\n",
            "Successfully submitted to Titanic - Machine Learning from Disaster"
          ]
        }
      ]
    },
    {
      "cell_type": "markdown",
      "source": [],
      "metadata": {
        "id": "4VYieK9PDEPh"
      }
    }
  ]
}