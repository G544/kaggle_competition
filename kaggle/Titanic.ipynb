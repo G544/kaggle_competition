{
  "nbformat": 4,
  "nbformat_minor": 0,
  "metadata": {
    "colab": {
      "provenance": [],
      "authorship_tag": "ABX9TyMzDliGOg8Cmpeg64sJEV+z",
      "include_colab_link": true
    },
    "kernelspec": {
      "name": "python3",
      "display_name": "Python 3"
    },
    "language_info": {
      "name": "python"
    }
  },
  "cells": [
    {
      "cell_type": "markdown",
      "metadata": {
        "id": "view-in-github",
        "colab_type": "text"
      },
      "source": [
        "<a href=\"https://colab.research.google.com/github/G544/galinanana_ml/blob/main/kaggle/Titanic.ipynb\" target=\"_parent\"><img src=\"https://colab.research.google.com/assets/colab-badge.svg\" alt=\"Open In Colab\"/></a>"
      ]
    },
    {
      "cell_type": "code",
      "execution_count": 1,
      "metadata": {
        "colab": {
          "base_uri": "https://localhost:8080/",
          "height": 91
        },
        "id": "qKsYL9PkaEBq",
        "outputId": "6c7b8d13-1e84-40b0-b132-4813a3912fad"
      },
      "outputs": [
        {
          "output_type": "display_data",
          "data": {
            "text/plain": [
              "<IPython.core.display.HTML object>"
            ],
            "text/html": [
              "\n",
              "     <input type=\"file\" id=\"files-2a71e043-e15b-4486-8392-2d83a55bfae9\" name=\"files[]\" multiple disabled\n",
              "        style=\"border:none\" />\n",
              "     <output id=\"result-2a71e043-e15b-4486-8392-2d83a55bfae9\">\n",
              "      Upload widget is only available when the cell has been executed in the\n",
              "      current browser session. Please rerun this cell to enable.\n",
              "      </output>\n",
              "      <script>// Copyright 2017 Google LLC\n",
              "//\n",
              "// Licensed under the Apache License, Version 2.0 (the \"License\");\n",
              "// you may not use this file except in compliance with the License.\n",
              "// You may obtain a copy of the License at\n",
              "//\n",
              "//      http://www.apache.org/licenses/LICENSE-2.0\n",
              "//\n",
              "// Unless required by applicable law or agreed to in writing, software\n",
              "// distributed under the License is distributed on an \"AS IS\" BASIS,\n",
              "// WITHOUT WARRANTIES OR CONDITIONS OF ANY KIND, either express or implied.\n",
              "// See the License for the specific language governing permissions and\n",
              "// limitations under the License.\n",
              "\n",
              "/**\n",
              " * @fileoverview Helpers for google.colab Python module.\n",
              " */\n",
              "(function(scope) {\n",
              "function span(text, styleAttributes = {}) {\n",
              "  const element = document.createElement('span');\n",
              "  element.textContent = text;\n",
              "  for (const key of Object.keys(styleAttributes)) {\n",
              "    element.style[key] = styleAttributes[key];\n",
              "  }\n",
              "  return element;\n",
              "}\n",
              "\n",
              "// Max number of bytes which will be uploaded at a time.\n",
              "const MAX_PAYLOAD_SIZE = 100 * 1024;\n",
              "\n",
              "function _uploadFiles(inputId, outputId) {\n",
              "  const steps = uploadFilesStep(inputId, outputId);\n",
              "  const outputElement = document.getElementById(outputId);\n",
              "  // Cache steps on the outputElement to make it available for the next call\n",
              "  // to uploadFilesContinue from Python.\n",
              "  outputElement.steps = steps;\n",
              "\n",
              "  return _uploadFilesContinue(outputId);\n",
              "}\n",
              "\n",
              "// This is roughly an async generator (not supported in the browser yet),\n",
              "// where there are multiple asynchronous steps and the Python side is going\n",
              "// to poll for completion of each step.\n",
              "// This uses a Promise to block the python side on completion of each step,\n",
              "// then passes the result of the previous step as the input to the next step.\n",
              "function _uploadFilesContinue(outputId) {\n",
              "  const outputElement = document.getElementById(outputId);\n",
              "  const steps = outputElement.steps;\n",
              "\n",
              "  const next = steps.next(outputElement.lastPromiseValue);\n",
              "  return Promise.resolve(next.value.promise).then((value) => {\n",
              "    // Cache the last promise value to make it available to the next\n",
              "    // step of the generator.\n",
              "    outputElement.lastPromiseValue = value;\n",
              "    return next.value.response;\n",
              "  });\n",
              "}\n",
              "\n",
              "/**\n",
              " * Generator function which is called between each async step of the upload\n",
              " * process.\n",
              " * @param {string} inputId Element ID of the input file picker element.\n",
              " * @param {string} outputId Element ID of the output display.\n",
              " * @return {!Iterable<!Object>} Iterable of next steps.\n",
              " */\n",
              "function* uploadFilesStep(inputId, outputId) {\n",
              "  const inputElement = document.getElementById(inputId);\n",
              "  inputElement.disabled = false;\n",
              "\n",
              "  const outputElement = document.getElementById(outputId);\n",
              "  outputElement.innerHTML = '';\n",
              "\n",
              "  const pickedPromise = new Promise((resolve) => {\n",
              "    inputElement.addEventListener('change', (e) => {\n",
              "      resolve(e.target.files);\n",
              "    });\n",
              "  });\n",
              "\n",
              "  const cancel = document.createElement('button');\n",
              "  inputElement.parentElement.appendChild(cancel);\n",
              "  cancel.textContent = 'Cancel upload';\n",
              "  const cancelPromise = new Promise((resolve) => {\n",
              "    cancel.onclick = () => {\n",
              "      resolve(null);\n",
              "    };\n",
              "  });\n",
              "\n",
              "  // Wait for the user to pick the files.\n",
              "  const files = yield {\n",
              "    promise: Promise.race([pickedPromise, cancelPromise]),\n",
              "    response: {\n",
              "      action: 'starting',\n",
              "    }\n",
              "  };\n",
              "\n",
              "  cancel.remove();\n",
              "\n",
              "  // Disable the input element since further picks are not allowed.\n",
              "  inputElement.disabled = true;\n",
              "\n",
              "  if (!files) {\n",
              "    return {\n",
              "      response: {\n",
              "        action: 'complete',\n",
              "      }\n",
              "    };\n",
              "  }\n",
              "\n",
              "  for (const file of files) {\n",
              "    const li = document.createElement('li');\n",
              "    li.append(span(file.name, {fontWeight: 'bold'}));\n",
              "    li.append(span(\n",
              "        `(${file.type || 'n/a'}) - ${file.size} bytes, ` +\n",
              "        `last modified: ${\n",
              "            file.lastModifiedDate ? file.lastModifiedDate.toLocaleDateString() :\n",
              "                                    'n/a'} - `));\n",
              "    const percent = span('0% done');\n",
              "    li.appendChild(percent);\n",
              "\n",
              "    outputElement.appendChild(li);\n",
              "\n",
              "    const fileDataPromise = new Promise((resolve) => {\n",
              "      const reader = new FileReader();\n",
              "      reader.onload = (e) => {\n",
              "        resolve(e.target.result);\n",
              "      };\n",
              "      reader.readAsArrayBuffer(file);\n",
              "    });\n",
              "    // Wait for the data to be ready.\n",
              "    let fileData = yield {\n",
              "      promise: fileDataPromise,\n",
              "      response: {\n",
              "        action: 'continue',\n",
              "      }\n",
              "    };\n",
              "\n",
              "    // Use a chunked sending to avoid message size limits. See b/62115660.\n",
              "    let position = 0;\n",
              "    do {\n",
              "      const length = Math.min(fileData.byteLength - position, MAX_PAYLOAD_SIZE);\n",
              "      const chunk = new Uint8Array(fileData, position, length);\n",
              "      position += length;\n",
              "\n",
              "      const base64 = btoa(String.fromCharCode.apply(null, chunk));\n",
              "      yield {\n",
              "        response: {\n",
              "          action: 'append',\n",
              "          file: file.name,\n",
              "          data: base64,\n",
              "        },\n",
              "      };\n",
              "\n",
              "      let percentDone = fileData.byteLength === 0 ?\n",
              "          100 :\n",
              "          Math.round((position / fileData.byteLength) * 100);\n",
              "      percent.textContent = `${percentDone}% done`;\n",
              "\n",
              "    } while (position < fileData.byteLength);\n",
              "  }\n",
              "\n",
              "  // All done.\n",
              "  yield {\n",
              "    response: {\n",
              "      action: 'complete',\n",
              "    }\n",
              "  };\n",
              "}\n",
              "\n",
              "scope.google = scope.google || {};\n",
              "scope.google.colab = scope.google.colab || {};\n",
              "scope.google.colab._files = {\n",
              "  _uploadFiles,\n",
              "  _uploadFilesContinue,\n",
              "};\n",
              "})(self);\n",
              "</script> "
            ]
          },
          "metadata": {}
        },
        {
          "output_type": "stream",
          "name": "stdout",
          "text": [
            "Saving kaggle.json to kaggle.json\n"
          ]
        },
        {
          "output_type": "execute_result",
          "data": {
            "text/plain": [
              "{'kaggle.json': b'{\"username\":\"galinanana\",\"key\":\"8147c232cb591bab100fb9318cb5ce2d\"}'}"
            ]
          },
          "metadata": {},
          "execution_count": 1
        }
      ],
      "source": [
        "from google.colab import files\n",
        "files.upload()"
      ]
    },
    {
      "cell_type": "code",
      "source": [
        "! mkdir ~/.kaggle\n",
        "! cp kaggle.json ~/.kaggle/\n",
        "! chmod 600 ~/.kaggle/kaggle.json"
      ],
      "metadata": {
        "id": "X4BOK02yaQSn"
      },
      "execution_count": 2,
      "outputs": []
    },
    {
      "cell_type": "code",
      "source": [
        "! kaggle competitions download -c titanic"
      ],
      "metadata": {
        "colab": {
          "base_uri": "https://localhost:8080/"
        },
        "id": "2iJL0CT8abjB",
        "outputId": "e3d5adae-ce37-41f3-9aaa-c64264bf67d3"
      },
      "execution_count": 3,
      "outputs": [
        {
          "output_type": "stream",
          "name": "stdout",
          "text": [
            "Downloading titanic.zip to /content\n",
            "\r  0% 0.00/34.1k [00:00<?, ?B/s]\n",
            "\r100% 34.1k/34.1k [00:00<00:00, 26.9MB/s]\n"
          ]
        }
      ]
    },
    {
      "cell_type": "code",
      "source": [
        "from zipfile import ZipFile\n",
        "import pandas as pd\n",
        "from sklearn.model_selection import train_test_split\n",
        "from sklearn.linear_model import LogisticRegression\n",
        "from sklearn.linear_model import LinearRegression\n",
        "from sklearn.linear_model import RidgeClassifier\n",
        "from sklearn.naive_bayes import GaussianNB\n",
        "from sklearn.ensemble import RandomForestClassifier\n",
        "from sklearn.preprocessing import StandardScaler\n",
        "from copy import deepcopy\n",
        "import numpy as np\n",
        "\n",
        "import matplotlib.pyplot as plt\n",
        "import seaborn as sns\n",
        "\n",
        "%matplotlib inline\n",
        "import matplotlib as plt \n",
        "import matplotlib.pyplot as plt\n",
        "from matplotlib import pyplot\n",
        "\n",
        "import warnings\n",
        "warnings.filterwarnings(\"ignore\")"
      ],
      "metadata": {
        "id": "w_7gC23s7dMV"
      },
      "execution_count": 79,
      "outputs": []
    },
    {
      "cell_type": "markdown",
      "source": [
        "# Чтение данных\n"
      ],
      "metadata": {
        "id": "FoVRJxXO-B3o"
      }
    },
    {
      "cell_type": "code",
      "source": [
        "filezip = '/content/titanic.zip'\n",
        "\n",
        "z = ZipFile(filezip)\n",
        "print(z.infolist())\n",
        "with ZipFile(filezip, 'r') as zip_file:\n",
        "    zip_file.extract('train.csv', '.')\n",
        "    zip_file.extract('test.csv', '.')\n",
        "    zip_file.extract('gender_submission.csv', '.')"
      ],
      "metadata": {
        "colab": {
          "base_uri": "https://localhost:8080/"
        },
        "id": "gMjNNzP6bkh2",
        "outputId": "1e53da22-7242-4feb-c003-a8dcdc8cb523"
      },
      "execution_count": 5,
      "outputs": [
        {
          "output_type": "stream",
          "name": "stdout",
          "text": [
            "[<ZipInfo filename='gender_submission.csv' compress_type=deflate file_size=3258 compress_size=872>, <ZipInfo filename='test.csv' compress_type=deflate file_size=28629 compress_size=11171>, <ZipInfo filename='train.csv' compress_type=deflate file_size=61194 compress_size=22388>]\n"
          ]
        }
      ]
    },
    {
      "cell_type": "markdown",
      "source": [
        "# First View"
      ],
      "metadata": {
        "id": "i9sm-hiX-RlU"
      }
    },
    {
      "cell_type": "code",
      "source": [
        "data = pd.read_csv('/content/train.csv')\n",
        "data.sample(3)"
      ],
      "metadata": {
        "colab": {
          "base_uri": "https://localhost:8080/",
          "height": 143
        },
        "id": "JEtPbB-1bHs8",
        "outputId": "12f45aed-182f-4801-d293-dffd6a475b45"
      },
      "execution_count": 158,
      "outputs": [
        {
          "output_type": "execute_result",
          "data": {
            "text/plain": [
              "     PassengerId  Survived  Pclass                             Name   Sex  \\\n",
              "846          847         0       3         Sage, Mr. Douglas Bullen  male   \n",
              "97            98         1       1  Greenfield, Mr. William Bertram  male   \n",
              "239          240         0       2           Hunt, Mr. George Henry  male   \n",
              "\n",
              "      Age  SibSp  Parch      Ticket     Fare    Cabin Embarked  \n",
              "846   NaN      8      2    CA. 2343  69.5500      NaN        S  \n",
              "97   23.0      0      1    PC 17759  63.3583  D10 D12        C  \n",
              "239  33.0      0      0  SCO/W 1585  12.2750      NaN        S  "
            ],
            "text/html": [
              "\n",
              "  <div id=\"df-86242171-6916-457a-850b-d46a025c512a\">\n",
              "    <div class=\"colab-df-container\">\n",
              "      <div>\n",
              "<style scoped>\n",
              "    .dataframe tbody tr th:only-of-type {\n",
              "        vertical-align: middle;\n",
              "    }\n",
              "\n",
              "    .dataframe tbody tr th {\n",
              "        vertical-align: top;\n",
              "    }\n",
              "\n",
              "    .dataframe thead th {\n",
              "        text-align: right;\n",
              "    }\n",
              "</style>\n",
              "<table border=\"1\" class=\"dataframe\">\n",
              "  <thead>\n",
              "    <tr style=\"text-align: right;\">\n",
              "      <th></th>\n",
              "      <th>PassengerId</th>\n",
              "      <th>Survived</th>\n",
              "      <th>Pclass</th>\n",
              "      <th>Name</th>\n",
              "      <th>Sex</th>\n",
              "      <th>Age</th>\n",
              "      <th>SibSp</th>\n",
              "      <th>Parch</th>\n",
              "      <th>Ticket</th>\n",
              "      <th>Fare</th>\n",
              "      <th>Cabin</th>\n",
              "      <th>Embarked</th>\n",
              "    </tr>\n",
              "  </thead>\n",
              "  <tbody>\n",
              "    <tr>\n",
              "      <th>846</th>\n",
              "      <td>847</td>\n",
              "      <td>0</td>\n",
              "      <td>3</td>\n",
              "      <td>Sage, Mr. Douglas Bullen</td>\n",
              "      <td>male</td>\n",
              "      <td>NaN</td>\n",
              "      <td>8</td>\n",
              "      <td>2</td>\n",
              "      <td>CA. 2343</td>\n",
              "      <td>69.5500</td>\n",
              "      <td>NaN</td>\n",
              "      <td>S</td>\n",
              "    </tr>\n",
              "    <tr>\n",
              "      <th>97</th>\n",
              "      <td>98</td>\n",
              "      <td>1</td>\n",
              "      <td>1</td>\n",
              "      <td>Greenfield, Mr. William Bertram</td>\n",
              "      <td>male</td>\n",
              "      <td>23.0</td>\n",
              "      <td>0</td>\n",
              "      <td>1</td>\n",
              "      <td>PC 17759</td>\n",
              "      <td>63.3583</td>\n",
              "      <td>D10 D12</td>\n",
              "      <td>C</td>\n",
              "    </tr>\n",
              "    <tr>\n",
              "      <th>239</th>\n",
              "      <td>240</td>\n",
              "      <td>0</td>\n",
              "      <td>2</td>\n",
              "      <td>Hunt, Mr. George Henry</td>\n",
              "      <td>male</td>\n",
              "      <td>33.0</td>\n",
              "      <td>0</td>\n",
              "      <td>0</td>\n",
              "      <td>SCO/W 1585</td>\n",
              "      <td>12.2750</td>\n",
              "      <td>NaN</td>\n",
              "      <td>S</td>\n",
              "    </tr>\n",
              "  </tbody>\n",
              "</table>\n",
              "</div>\n",
              "      <button class=\"colab-df-convert\" onclick=\"convertToInteractive('df-86242171-6916-457a-850b-d46a025c512a')\"\n",
              "              title=\"Convert this dataframe to an interactive table.\"\n",
              "              style=\"display:none;\">\n",
              "        \n",
              "  <svg xmlns=\"http://www.w3.org/2000/svg\" height=\"24px\"viewBox=\"0 0 24 24\"\n",
              "       width=\"24px\">\n",
              "    <path d=\"M0 0h24v24H0V0z\" fill=\"none\"/>\n",
              "    <path d=\"M18.56 5.44l.94 2.06.94-2.06 2.06-.94-2.06-.94-.94-2.06-.94 2.06-2.06.94zm-11 1L8.5 8.5l.94-2.06 2.06-.94-2.06-.94L8.5 2.5l-.94 2.06-2.06.94zm10 10l.94 2.06.94-2.06 2.06-.94-2.06-.94-.94-2.06-.94 2.06-2.06.94z\"/><path d=\"M17.41 7.96l-1.37-1.37c-.4-.4-.92-.59-1.43-.59-.52 0-1.04.2-1.43.59L10.3 9.45l-7.72 7.72c-.78.78-.78 2.05 0 2.83L4 21.41c.39.39.9.59 1.41.59.51 0 1.02-.2 1.41-.59l7.78-7.78 2.81-2.81c.8-.78.8-2.07 0-2.86zM5.41 20L4 18.59l7.72-7.72 1.47 1.35L5.41 20z\"/>\n",
              "  </svg>\n",
              "      </button>\n",
              "      \n",
              "  <style>\n",
              "    .colab-df-container {\n",
              "      display:flex;\n",
              "      flex-wrap:wrap;\n",
              "      gap: 12px;\n",
              "    }\n",
              "\n",
              "    .colab-df-convert {\n",
              "      background-color: #E8F0FE;\n",
              "      border: none;\n",
              "      border-radius: 50%;\n",
              "      cursor: pointer;\n",
              "      display: none;\n",
              "      fill: #1967D2;\n",
              "      height: 32px;\n",
              "      padding: 0 0 0 0;\n",
              "      width: 32px;\n",
              "    }\n",
              "\n",
              "    .colab-df-convert:hover {\n",
              "      background-color: #E2EBFA;\n",
              "      box-shadow: 0px 1px 2px rgba(60, 64, 67, 0.3), 0px 1px 3px 1px rgba(60, 64, 67, 0.15);\n",
              "      fill: #174EA6;\n",
              "    }\n",
              "\n",
              "    [theme=dark] .colab-df-convert {\n",
              "      background-color: #3B4455;\n",
              "      fill: #D2E3FC;\n",
              "    }\n",
              "\n",
              "    [theme=dark] .colab-df-convert:hover {\n",
              "      background-color: #434B5C;\n",
              "      box-shadow: 0px 1px 3px 1px rgba(0, 0, 0, 0.15);\n",
              "      filter: drop-shadow(0px 1px 2px rgba(0, 0, 0, 0.3));\n",
              "      fill: #FFFFFF;\n",
              "    }\n",
              "  </style>\n",
              "\n",
              "      <script>\n",
              "        const buttonEl =\n",
              "          document.querySelector('#df-86242171-6916-457a-850b-d46a025c512a button.colab-df-convert');\n",
              "        buttonEl.style.display =\n",
              "          google.colab.kernel.accessAllowed ? 'block' : 'none';\n",
              "\n",
              "        async function convertToInteractive(key) {\n",
              "          const element = document.querySelector('#df-86242171-6916-457a-850b-d46a025c512a');\n",
              "          const dataTable =\n",
              "            await google.colab.kernel.invokeFunction('convertToInteractive',\n",
              "                                                     [key], {});\n",
              "          if (!dataTable) return;\n",
              "\n",
              "          const docLinkHtml = 'Like what you see? Visit the ' +\n",
              "            '<a target=\"_blank\" href=https://colab.research.google.com/notebooks/data_table.ipynb>data table notebook</a>'\n",
              "            + ' to learn more about interactive tables.';\n",
              "          element.innerHTML = '';\n",
              "          dataTable['output_type'] = 'display_data';\n",
              "          await google.colab.output.renderOutput(dataTable, element);\n",
              "          const docLink = document.createElement('div');\n",
              "          docLink.innerHTML = docLinkHtml;\n",
              "          element.appendChild(docLink);\n",
              "        }\n",
              "      </script>\n",
              "    </div>\n",
              "  </div>\n",
              "  "
            ]
          },
          "metadata": {},
          "execution_count": 158
        }
      ]
    },
    {
      "cell_type": "code",
      "source": [
        "data.info()"
      ],
      "metadata": {
        "colab": {
          "base_uri": "https://localhost:8080/"
        },
        "id": "hUz5oETzbO1R",
        "outputId": "30cee0fe-4b86-4adc-b26c-5dcf76af6066"
      },
      "execution_count": 7,
      "outputs": [
        {
          "output_type": "stream",
          "name": "stdout",
          "text": [
            "<class 'pandas.core.frame.DataFrame'>\n",
            "RangeIndex: 891 entries, 0 to 890\n",
            "Data columns (total 12 columns):\n",
            " #   Column       Non-Null Count  Dtype  \n",
            "---  ------       --------------  -----  \n",
            " 0   PassengerId  891 non-null    int64  \n",
            " 1   Survived     891 non-null    int64  \n",
            " 2   Pclass       891 non-null    int64  \n",
            " 3   Name         891 non-null    object \n",
            " 4   Sex          891 non-null    object \n",
            " 5   Age          714 non-null    float64\n",
            " 6   SibSp        891 non-null    int64  \n",
            " 7   Parch        891 non-null    int64  \n",
            " 8   Ticket       891 non-null    object \n",
            " 9   Fare         891 non-null    float64\n",
            " 10  Cabin        204 non-null    object \n",
            " 11  Embarked     889 non-null    object \n",
            "dtypes: float64(2), int64(5), object(5)\n",
            "memory usage: 83.7+ KB\n"
          ]
        }
      ]
    },
    {
      "cell_type": "code",
      "source": [
        "data.corr()"
      ],
      "metadata": {
        "colab": {
          "base_uri": "https://localhost:8080/",
          "height": 269
        },
        "id": "ulvfMYKs8y_m",
        "outputId": "368526b2-d16e-4157-a339-3aa1f9af2122"
      },
      "execution_count": 128,
      "outputs": [
        {
          "output_type": "execute_result",
          "data": {
            "text/plain": [
              "             PassengerId  Survived    Pclass       Age     SibSp     Parch  \\\n",
              "PassengerId     1.000000 -0.005007 -0.035144  0.036847 -0.057527 -0.001652   \n",
              "Survived       -0.005007  1.000000 -0.338481 -0.077221 -0.035322  0.081629   \n",
              "Pclass         -0.035144 -0.338481  1.000000 -0.369226  0.083081  0.018443   \n",
              "Age             0.036847 -0.077221 -0.369226  1.000000 -0.308247 -0.189119   \n",
              "SibSp          -0.057527 -0.035322  0.083081 -0.308247  1.000000  0.414838   \n",
              "Parch          -0.001652  0.081629  0.018443 -0.189119  0.414838  1.000000   \n",
              "Fare            0.012658  0.257307 -0.549500  0.096067  0.159651  0.216225   \n",
              "\n",
              "                 Fare  \n",
              "PassengerId  0.012658  \n",
              "Survived     0.257307  \n",
              "Pclass      -0.549500  \n",
              "Age          0.096067  \n",
              "SibSp        0.159651  \n",
              "Parch        0.216225  \n",
              "Fare         1.000000  "
            ],
            "text/html": [
              "\n",
              "  <div id=\"df-42c2c4cb-5d24-4fbb-a004-e7b397280b20\">\n",
              "    <div class=\"colab-df-container\">\n",
              "      <div>\n",
              "<style scoped>\n",
              "    .dataframe tbody tr th:only-of-type {\n",
              "        vertical-align: middle;\n",
              "    }\n",
              "\n",
              "    .dataframe tbody tr th {\n",
              "        vertical-align: top;\n",
              "    }\n",
              "\n",
              "    .dataframe thead th {\n",
              "        text-align: right;\n",
              "    }\n",
              "</style>\n",
              "<table border=\"1\" class=\"dataframe\">\n",
              "  <thead>\n",
              "    <tr style=\"text-align: right;\">\n",
              "      <th></th>\n",
              "      <th>PassengerId</th>\n",
              "      <th>Survived</th>\n",
              "      <th>Pclass</th>\n",
              "      <th>Age</th>\n",
              "      <th>SibSp</th>\n",
              "      <th>Parch</th>\n",
              "      <th>Fare</th>\n",
              "    </tr>\n",
              "  </thead>\n",
              "  <tbody>\n",
              "    <tr>\n",
              "      <th>PassengerId</th>\n",
              "      <td>1.000000</td>\n",
              "      <td>-0.005007</td>\n",
              "      <td>-0.035144</td>\n",
              "      <td>0.036847</td>\n",
              "      <td>-0.057527</td>\n",
              "      <td>-0.001652</td>\n",
              "      <td>0.012658</td>\n",
              "    </tr>\n",
              "    <tr>\n",
              "      <th>Survived</th>\n",
              "      <td>-0.005007</td>\n",
              "      <td>1.000000</td>\n",
              "      <td>-0.338481</td>\n",
              "      <td>-0.077221</td>\n",
              "      <td>-0.035322</td>\n",
              "      <td>0.081629</td>\n",
              "      <td>0.257307</td>\n",
              "    </tr>\n",
              "    <tr>\n",
              "      <th>Pclass</th>\n",
              "      <td>-0.035144</td>\n",
              "      <td>-0.338481</td>\n",
              "      <td>1.000000</td>\n",
              "      <td>-0.369226</td>\n",
              "      <td>0.083081</td>\n",
              "      <td>0.018443</td>\n",
              "      <td>-0.549500</td>\n",
              "    </tr>\n",
              "    <tr>\n",
              "      <th>Age</th>\n",
              "      <td>0.036847</td>\n",
              "      <td>-0.077221</td>\n",
              "      <td>-0.369226</td>\n",
              "      <td>1.000000</td>\n",
              "      <td>-0.308247</td>\n",
              "      <td>-0.189119</td>\n",
              "      <td>0.096067</td>\n",
              "    </tr>\n",
              "    <tr>\n",
              "      <th>SibSp</th>\n",
              "      <td>-0.057527</td>\n",
              "      <td>-0.035322</td>\n",
              "      <td>0.083081</td>\n",
              "      <td>-0.308247</td>\n",
              "      <td>1.000000</td>\n",
              "      <td>0.414838</td>\n",
              "      <td>0.159651</td>\n",
              "    </tr>\n",
              "    <tr>\n",
              "      <th>Parch</th>\n",
              "      <td>-0.001652</td>\n",
              "      <td>0.081629</td>\n",
              "      <td>0.018443</td>\n",
              "      <td>-0.189119</td>\n",
              "      <td>0.414838</td>\n",
              "      <td>1.000000</td>\n",
              "      <td>0.216225</td>\n",
              "    </tr>\n",
              "    <tr>\n",
              "      <th>Fare</th>\n",
              "      <td>0.012658</td>\n",
              "      <td>0.257307</td>\n",
              "      <td>-0.549500</td>\n",
              "      <td>0.096067</td>\n",
              "      <td>0.159651</td>\n",
              "      <td>0.216225</td>\n",
              "      <td>1.000000</td>\n",
              "    </tr>\n",
              "  </tbody>\n",
              "</table>\n",
              "</div>\n",
              "      <button class=\"colab-df-convert\" onclick=\"convertToInteractive('df-42c2c4cb-5d24-4fbb-a004-e7b397280b20')\"\n",
              "              title=\"Convert this dataframe to an interactive table.\"\n",
              "              style=\"display:none;\">\n",
              "        \n",
              "  <svg xmlns=\"http://www.w3.org/2000/svg\" height=\"24px\"viewBox=\"0 0 24 24\"\n",
              "       width=\"24px\">\n",
              "    <path d=\"M0 0h24v24H0V0z\" fill=\"none\"/>\n",
              "    <path d=\"M18.56 5.44l.94 2.06.94-2.06 2.06-.94-2.06-.94-.94-2.06-.94 2.06-2.06.94zm-11 1L8.5 8.5l.94-2.06 2.06-.94-2.06-.94L8.5 2.5l-.94 2.06-2.06.94zm10 10l.94 2.06.94-2.06 2.06-.94-2.06-.94-.94-2.06-.94 2.06-2.06.94z\"/><path d=\"M17.41 7.96l-1.37-1.37c-.4-.4-.92-.59-1.43-.59-.52 0-1.04.2-1.43.59L10.3 9.45l-7.72 7.72c-.78.78-.78 2.05 0 2.83L4 21.41c.39.39.9.59 1.41.59.51 0 1.02-.2 1.41-.59l7.78-7.78 2.81-2.81c.8-.78.8-2.07 0-2.86zM5.41 20L4 18.59l7.72-7.72 1.47 1.35L5.41 20z\"/>\n",
              "  </svg>\n",
              "      </button>\n",
              "      \n",
              "  <style>\n",
              "    .colab-df-container {\n",
              "      display:flex;\n",
              "      flex-wrap:wrap;\n",
              "      gap: 12px;\n",
              "    }\n",
              "\n",
              "    .colab-df-convert {\n",
              "      background-color: #E8F0FE;\n",
              "      border: none;\n",
              "      border-radius: 50%;\n",
              "      cursor: pointer;\n",
              "      display: none;\n",
              "      fill: #1967D2;\n",
              "      height: 32px;\n",
              "      padding: 0 0 0 0;\n",
              "      width: 32px;\n",
              "    }\n",
              "\n",
              "    .colab-df-convert:hover {\n",
              "      background-color: #E2EBFA;\n",
              "      box-shadow: 0px 1px 2px rgba(60, 64, 67, 0.3), 0px 1px 3px 1px rgba(60, 64, 67, 0.15);\n",
              "      fill: #174EA6;\n",
              "    }\n",
              "\n",
              "    [theme=dark] .colab-df-convert {\n",
              "      background-color: #3B4455;\n",
              "      fill: #D2E3FC;\n",
              "    }\n",
              "\n",
              "    [theme=dark] .colab-df-convert:hover {\n",
              "      background-color: #434B5C;\n",
              "      box-shadow: 0px 1px 3px 1px rgba(0, 0, 0, 0.15);\n",
              "      filter: drop-shadow(0px 1px 2px rgba(0, 0, 0, 0.3));\n",
              "      fill: #FFFFFF;\n",
              "    }\n",
              "  </style>\n",
              "\n",
              "      <script>\n",
              "        const buttonEl =\n",
              "          document.querySelector('#df-42c2c4cb-5d24-4fbb-a004-e7b397280b20 button.colab-df-convert');\n",
              "        buttonEl.style.display =\n",
              "          google.colab.kernel.accessAllowed ? 'block' : 'none';\n",
              "\n",
              "        async function convertToInteractive(key) {\n",
              "          const element = document.querySelector('#df-42c2c4cb-5d24-4fbb-a004-e7b397280b20');\n",
              "          const dataTable =\n",
              "            await google.colab.kernel.invokeFunction('convertToInteractive',\n",
              "                                                     [key], {});\n",
              "          if (!dataTable) return;\n",
              "\n",
              "          const docLinkHtml = 'Like what you see? Visit the ' +\n",
              "            '<a target=\"_blank\" href=https://colab.research.google.com/notebooks/data_table.ipynb>data table notebook</a>'\n",
              "            + ' to learn more about interactive tables.';\n",
              "          element.innerHTML = '';\n",
              "          dataTable['output_type'] = 'display_data';\n",
              "          await google.colab.output.renderOutput(dataTable, element);\n",
              "          const docLink = document.createElement('div');\n",
              "          docLink.innerHTML = docLinkHtml;\n",
              "          element.appendChild(docLink);\n",
              "        }\n",
              "      </script>\n",
              "    </div>\n",
              "  </div>\n",
              "  "
            ]
          },
          "metadata": {},
          "execution_count": 128
        }
      ]
    },
    {
      "cell_type": "code",
      "source": [
        "sns.countplot(x='Survived',data=data)\n",
        "plt.show()"
      ],
      "metadata": {
        "id": "Mb9xoboN97Qh",
        "outputId": "70c2334a-c846-4ed8-fd62-8a50ebc94602",
        "colab": {
          "base_uri": "https://localhost:8080/",
          "height": 279
        }
      },
      "execution_count": 18,
      "outputs": [
        {
          "output_type": "display_data",
          "data": {
            "text/plain": [
              "<Figure size 432x288 with 1 Axes>"
            ],
            "image/png": "[encoded data removed]"
          },
          "metadata": {}
        }
      ]
    },
    {
      "cell_type": "markdown",
      "source": [
        "Классы несбалансированы"
      ],
      "metadata": {
        "id": "dkdGGtqh-2tu"
      }
    },
    {
      "cell_type": "code",
      "source": [
        "plt.figure(figsize=(38,8))\n",
        "sns.countplot(x='Age', hue='Survived', data=data);"
      ],
      "metadata": {
        "id": "Mm3Q8xDf--46",
        "outputId": "4c30772c-54f1-4824-a282-031b4d785028",
        "colab": {
          "base_uri": "https://localhost:8080/",
          "height": 517
        }
      },
      "execution_count": 54,
      "outputs": [
        {
          "output_type": "display_data",
          "data": {
            "text/plain": [
              "<Figure size 2736x576 with 1 Axes>"
            ],
            "image/png": "[encoded data removed]"
          },
          "metadata": {}
        }
      ]
    },
    {
      "cell_type": "markdown",
      "source": [
        "По графику видно, что до года выживали все. С года до 6 тоже выживаемость была чуть выше, чем у остальных, а начиная с 63 лет умирали все."
      ],
      "metadata": {
        "id": "uGmBhRTHIORd"
      }
    },
    {
      "cell_type": "markdown",
      "source": [
        "# Features extraction\n"
      ],
      "metadata": {
        "id": "uELW1_sv-HhP"
      }
    },
    {
      "cell_type": "code",
      "source": [
        "target = data['Survived']\n",
        "data.drop('Survived', axis=1, inplace = True)"
      ],
      "metadata": {
        "id": "hU7scs5_cKJB"
      },
      "execution_count": 159,
      "outputs": []
    },
    {
      "cell_type": "code",
      "source": [
        "max_corr = abs(data.corr()['Age']).sort_values().index[-3:-1]\n",
        "corr_df = data[~data['Age'].isna()][max_corr]\n",
        "corr_target = data[~data['Age'].isna()]['Age']\n",
        "lr_corr = LinearRegression()\n",
        "lr_corr.fit(corr_df, corr_target)\n",
        "def preproc(data):\n",
        "  global lr_corr\n",
        "  data['Emabarked_fill'] = (~data['Embarked'].isna()).astype(int)\n",
        "  data['Age_fill'] =( ~data['Age'].isna()).astype(int)\n",
        "  data['Cabin_ffil'] =( ~data['Cabin'].isna()).astype(int)\n",
        "  data['Embarked'].fillna('Nan', inplace=True)\n",
        " # data['Age'].fillna(24.0, inplace=True)\n",
        "  #data['Age'].fillna(data['Age'].mean(), inplace=True)\n",
        "  data['Age'] = data['Age'].fillna(dict(zip(data.loc[data['Age'].isna()].index, list(lr_corr.predict(data[data['Age'].isna()][max_corr])))))\n",
        "  data.drop(['PassengerId', 'Name', 'Ticket', 'Cabin'], inplace=True, axis=1)\n",
        "  df = pd.concat([data,pd.get_dummies(data[['Sex', 'Embarked']])], axis=1)\n",
        "  df.drop(['Sex', 'Embarked'], axis=1, inplace=True)\n",
        "  if 'Embarked_Nan' in list(df.columns):\n",
        "    df.drop('Embarked_Nan', axis=1, inplace=True)\n",
        "  df.fillna(0, inplace=True)\n",
        "  sc = StandardScaler()\n",
        "  df = sc.fit_transform(df)\n",
        "  df = pd.DataFrame(columns = sc.get_feature_names_out(),data = df)\n",
        "  return df"
      ],
      "metadata": {
        "id": "RNQFxuz4-5sW"
      },
      "execution_count": 160,
      "outputs": []
    },
    {
      "cell_type": "code",
      "source": [
        "df = preproc(data)\n",
        "X_train, X_test, y_train,  y_test = train_test_split(df, target, test_size=0.3)"
      ],
      "metadata": {
        "id": "LOxrEjAgAJkG"
      },
      "execution_count": 161,
      "outputs": []
    },
    {
      "cell_type": "code",
      "source": [
        "logreg = LogisticRegression()\n",
        "ridge = RidgeClassifier()\n",
        "nb = GaussianNB()\n",
        "rf = RandomForestClassifier()\n",
        "logreg.fit(X_train, y_train)\n",
        "ridge.fit(X_train, y_train)\n",
        "nb.fit(X_train, y_train)\n",
        "rf.fit(X_train, y_train)\n",
        "y_pred_lr = logreg.predict(X_test)\n",
        "y_pred_rd = ridge.predict(X_test)\n",
        "y_pred_nb = nb.predict(X_test)\n",
        "y_pred_rf = rf.predict(X_test)"
      ],
      "metadata": {
        "id": "Cr69biQYCzp5"
      },
      "execution_count": 162,
      "outputs": []
    },
    {
      "cell_type": "code",
      "source": [
        "from sklearn.metrics import accuracy_score, precision_score, recall_score, f1_score, roc_auc_score\n",
        "for y, name in zip((y_pred_lr, y_pred_rd, y_pred_nb, y_pred_rf), ('lr', 'ridge', 'nb','rf')):\n",
        "  pred_ac = round(accuracy_score(y, y_test),3)\n",
        "  pred_pr = round(precision_score(y, y_test),3)\n",
        "  pred_recall = round(recall_score(y, y_test),3)\n",
        "  pred_f = round(f1_score(y, y_test),3)\n",
        "  pred_roc = round(roc_auc_score(y, y_test),3)\n",
        "  print(f'Score for {name}  ')\n",
        "  print('')\n",
        "  print(f'Accuracy для {name} {pred_ac}  ')\n",
        "  print(f'Precision для {name} {pred_pr}  ')\n",
        "  print(f'Recall для {name} {pred_recall}  ')\n",
        "  print('')"
      ],
      "metadata": {
        "colab": {
          "base_uri": "https://localhost:8080/"
        },
        "id": "Fcj7sc0AFE17",
        "outputId": "e7578368-fa3d-47db-987d-e5ad85a46c9a"
      },
      "execution_count": 163,
      "outputs": [
        {
          "output_type": "stream",
          "name": "stdout",
          "text": [
            "Score for lr  \n",
            "\n",
            "Accuracy для lr 0.817  \n",
            "Precision для lr 0.685  \n",
            "Recall для lr 0.831  \n",
            "\n",
            "Score for ridge  \n",
            "\n",
            "Accuracy для ridge 0.817  \n",
            "Precision для ridge 0.694  \n",
            "Recall для ridge 0.824  \n",
            "\n",
            "Score for nb  \n",
            "\n",
            "Accuracy для nb 0.623  \n",
            "Precision для nb 0.074  \n",
            "Recall для nb 0.889  \n",
            "\n",
            "Score for rf  \n",
            "\n",
            "Accuracy для rf 0.813  \n",
            "Precision для rf 0.741  \n",
            "Recall для rf 0.784  \n",
            "\n"
          ]
        }
      ]
    },
    {
      "cell_type": "code",
      "source": [
        "test = pd.read_csv('/content/test.csv')\n",
        "id = test['PassengerId']\n",
        "X_submiss = preproc(test)\n",
        "diff = list(set(X_train.columns).difference(set(X_submiss.columns)))\n",
        "dict_idx = ()\n",
        "for itm in diff:\n",
        "  idx = list(X_train.columns).index(itm)\n",
        "  X_submiss.insert(idx, itm, 0)\n",
        "submission_lr = logreg.predict(X_submiss)\n",
        "submission_rd = ridge.predict(X_submiss)\n",
        "submission_nb = nb.predict(X_submiss)\n",
        "submission_rf = rf.predict(X_submiss)"
      ],
      "metadata": {
        "id": "Hc5MX9-oIJQ8"
      },
      "execution_count": 164,
      "outputs": []
    },
    {
      "cell_type": "code",
      "source": [
        "d = {'PassengerId':id, 'Survived':submission_lr}\n",
        "log_reg_df = pd.DataFrame(d)\n",
        "d = {'PassengerId':id, 'Survived':submission_rd}\n",
        "ridge_df = pd.DataFrame(d)\n",
        "d = {'PassengerId':id, 'Survived':submission_nb}\n",
        "nb_df = pd.DataFrame(d)\n",
        "d = {'PassengerId':id, 'Survived':submission_rf}\n",
        "rf_df = pd.DataFrame(d)"
      ],
      "metadata": {
        "id": "Umwpjb8rPFwl"
      },
      "execution_count": 165,
      "outputs": []
    },
    {
      "cell_type": "code",
      "source": [
        "log_reg_df.to_csv('lr_submiss.csv', index=False)\n",
        "ridge_df.to_csv('rd_submiss.csv', index=False)\n",
        "nb_df.to_csv('nb_submiss.csv', index=False)\n",
        "rf_df.to_csv('rf_submiss.csv', index=False)"
      ],
      "metadata": {
        "id": "PGElck0CQMEZ"
      },
      "execution_count": 166,
      "outputs": []
    },
    {
      "cell_type": "code",
      "source": [
        "!kaggle competitions submit -c titanic -f lr_submiss.csv -m \"Age, Embarked\"\n",
        "!kaggle competitions submit -c titanic -f rd_submiss.csv -m \"Age, Embarked\"\n",
        "!kaggle competitions submit -c titanic -f nb_submiss.csv -m \"Age, Embarked\"\n",
        "!kaggle competitions submit -c titanic -f rf_submiss.csv -m \"Age, Embarked\""
      ],
      "metadata": {
        "colab": {
          "base_uri": "https://localhost:8080/"
        },
        "id": "r0cH_nNtQO56",
        "outputId": "0b2ed1e6-be4a-45d6-f77a-9ace3ecccec9"
      },
      "execution_count": 167,
      "outputs": [
        {
          "output_type": "stream",
          "name": "stdout",
          "text": [
            "100% 2.77k/2.77k [00:00<00:00, 14.0kB/s]\n",
            "100% 2.77k/2.77k [00:00<00:00, 14.0kB/s]\n",
            "100% 2.77k/2.77k [00:00<00:00, 15.1kB/s]\n",
            "100% 2.77k/2.77k [00:00<00:00, 14.1kB/s]\n",
            "Successfully submitted to Titanic - Machine Learning from Disaster"
          ]
        }
      ]
    },
    {
      "cell_type": "code",
      "source": [],
      "metadata": {
        "id": "e8lpY5P6Q-oA"
      },
      "execution_count": null,
      "outputs": []
    },
    {
      "cell_type": "markdown",
      "source": [
        "Результаты бейзлайна  \n",
        "Score for {name} lr  \n",
        "Accuracy для {name} {pred_ac} lr 0.686567164179104  \n",
        "Accuracy для {name} {pred_pr\n",
        " lr 0.6857142857142857  \n",
        "Accuracy для {name} {pred_recall} lr 0.7128712871287128  \n",
        "\n",
        "Score for {name} ridge\n",
        "\n",
        "Accuracy для {name} {pred_ac} ridge 0.7649253731343284\n",
        "Accuracy для {name} {pred_pr} ridge 0.6857142857142857\n",
        "Accuracy для {name} {pred_recall} ridge 0.7058823529411765\n",
        "\n",
        "Score for {name} nb\n",
        "\n",
        "Accuracy для {name} {pred_ac} nb 0.7761194029850746\n",
        "Accuracy для {name} {pred_pr} nb 0.7333333333333333\n",
        "Accuracy для {name} {pred_recall} nb 0.7064220183486238\n",
        "\n",
        "\n",
        "С использованием стандартскейлер\n",
        "\n",
        "Score for lr  \n",
        "(Стало лучще для всех кроме байеса)\n",
        "\n",
        "Accuracy для lr 0.836  \n",
        "Precision для lr 0.777  \n",
        "Recall для lr 0.792  \n",
        "\n",
        "Score for ridge  \n",
        "\n",
        "Accuracy для ridge 0.817  \n",
        "Precision для ridge 0.738  \n",
        "Recall для ridge 0.776  \n",
        "\n",
        "Score for nb  \n",
        "\n",
        "Accuracy для nb 0.642  \n",
        "Precision для nb 0.107  \n",
        "Recall для nb 0.733  \n",
        "\n",
        "Score for rf  \n",
        "\n",
        "Accuracy для rf 0.81  \n",
        "Precision для rf 0.738  \n",
        "Recall для rf 0.76 \n",
        "\n",
        "\n",
        "С другим заполнением age 24 и embarked Nan\n",
        "( Стало хуже для лог регрессии и ridge, но улучшилось для леса и байеса)\n",
        "\n",
        "from sklearn.metrics import accuracy_score, precision_score, recall_score\n",
        "for y, name in zip((y_pred_lr, y_pred_rd, y_pred_nb, y_pred_rf), ('lr', 'ridge', 'nb','rf')):\n",
        "  pred_ac = round(accuracy_score(y, y_test),3)\n",
        "  pred_pr = round(precision_score(y, y_test),3)\n",
        "  pred_recall = round(recall_score(y, y_test),3)\n",
        "  print(f'Score for {name}  ')\n",
        "  print('')\n",
        "  print(f'Accuracy для {name} {pred_ac}  ')\n",
        "  print(f'Precision для {name} {pred_pr}  ')\n",
        "  print(f'Recall для {name} {pred_recall}  ')\n",
        "\n",
        "Score for lr  \n",
        "\n",
        "Accuracy для lr 0.799  \n",
        "Precision для lr 0.717  \n",
        "Recall для lr 0.732  \n",
        "\n",
        "Score for ridge  \n",
        "\n",
        "Accuracy для ridge 0.799  \n",
        "Precision для ridge 0.677  \n",
        "Recall для ridge 0.753  \n",
        "\n",
        "Score for nb  \n",
        "\n",
        "Accuracy для nb 0.81  \n",
        "Precision для nb 0.697  \n",
        "Recall для nb 0.767  \n",
        "\n",
        "Score for rf  \n",
        "\n",
        "Accuracy для rf 0.825  \n",
        "Precision для rf 0.768  \n",
        "Recall для rf 0.76  \n",
        "\n",
        "С другим заполнением age средним и embarked Nan\n",
        "(Стало хуже, чем когда age==24)\n",
        "Score for lr  \n",
        "\n",
        "Accuracy для lr 0.78  \n",
        "Precision для lr 0.688  \n",
        "Recall для lr 0.681  \n",
        "\n",
        "Score for ridge  \n",
        "\n",
        "Accuracy для ridge 0.772  \n",
        "Precision для ridge 0.656  \n",
        "Recall для ridge 0.678  \n",
        "\n",
        "Score for nb  \n",
        "\n",
        "Accuracy для nb 0.787  \n",
        "Precision для nb 0.71  \n",
        "Recall для nb 0.688  \n",
        "\n",
        "Score for rf  \n",
        "\n",
        "Accuracy для rf 0.799  \n",
        "Precision для rf 0.71  \n",
        "Recall для rf 0.71  \n",
        "\n",
        "С другим заполнением age с помощью линейной регрессии и признаков PClass и Sibsp и embarked Nan\n",
        "(Немножко улучшилось)\n",
        "Accuracy для lr 0.806  \n",
        "Precision для lr 0.685  \n",
        "Recall для lr 0.804  \n",
        "\n",
        "Score for ridge  \n",
        "\n",
        "Accuracy для ridge 0.813  \n",
        "Precision для ridge 0.694  \n",
        "Recall для ridge 0.815  \n",
        "\n",
        "Score for nb  \n",
        "\n",
        "Accuracy для nb 0.799  \n",
        "Precision для nb 0.741  \n",
        "Recall для nb 0.755  \n",
        "\n",
        "Score for rf  \n",
        "\n",
        "Accuracy для rf 0.799  \n",
        "Precision для rf 0.713  \n",
        "Recall для rf 0.77  \n",
        "\n",
        "Последний пункт плюс добавила признаки отсутвуют записи для всех признаков с проущенными занчениями\n",
        "(Стало хуже для всех и сильно хуже для Байеса)\n",
        "Score for lr  \n",
        "\n",
        "Accuracy для lr 0.784  \n",
        "Precision для lr 0.664  \n",
        "Recall для lr 0.827  \n",
        "\n",
        "Score for ridge  \n",
        "\n",
        "Accuracy для ridge 0.772  \n",
        "Precision для ridge 0.656  \n",
        "Recall для ridge 0.808  \n",
        "\n",
        "Score for nb  \n",
        "\n",
        "Accuracy для nb 0.601  \n",
        "Precision для nb 0.156  \n",
        "Recall для nb 0.826  \n",
        "\n",
        "Score for rf  \n",
        "\n",
        "Accuracy для rf 0.776  \n",
        "Precision для rf 0.697  \n",
        "Recall для rf 0.787  \n"
      ],
      "metadata": {
        "id": "6StkTj6dMFa0"
      }
    }
  ]
}