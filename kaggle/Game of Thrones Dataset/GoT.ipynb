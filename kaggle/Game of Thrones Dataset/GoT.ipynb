{
 "cells": [
  {
   "cell_type": "code",
   "execution_count": 1,
   "metadata": {},
   "outputs": [],
   "source": [
    "import pandas as pd\n",
    "import numpy as np"
   ]
  },
  {
   "cell_type": "markdown",
   "metadata": {},
   "source": [
    "## Чтение данных"
   ]
  },
  {
   "cell_type": "code",
   "execution_count": 2,
   "metadata": {},
   "outputs": [],
   "source": [
    "batt=pd.read_csv('battles.csv')"
   ]
  },
  {
   "cell_type": "code",
   "execution_count": 3,
   "metadata": {},
   "outputs": [],
   "source": [
    "train=pd.read_csv('character-predictions.csv')"
   ]
  },
  {
   "cell_type": "code",
   "execution_count": 4,
   "metadata": {},
   "outputs": [
    {
     "name": "stdout",
     "output_type": "stream",
     "text": [
      "<class 'pandas.core.frame.DataFrame'>\n",
      "RangeIndex: 1946 entries, 0 to 1945\n",
      "Data columns (total 33 columns):\n",
      "S.No                 1946 non-null int64\n",
      "actual               1946 non-null int64\n",
      "pred                 1946 non-null int64\n",
      "alive                1946 non-null float64\n",
      "plod                 1946 non-null float64\n",
      "name                 1946 non-null object\n",
      "title                938 non-null object\n",
      "male                 1946 non-null int64\n",
      "culture              677 non-null object\n",
      "dateOfBirth          433 non-null float64\n",
      "DateoFdeath          444 non-null float64\n",
      "mother               21 non-null object\n",
      "father               26 non-null object\n",
      "heir                 23 non-null object\n",
      "house                1519 non-null object\n",
      "spouse               276 non-null object\n",
      "book1                1946 non-null int64\n",
      "book2                1946 non-null int64\n",
      "book3                1946 non-null int64\n",
      "book4                1946 non-null int64\n",
      "book5                1946 non-null int64\n",
      "isAliveMother        21 non-null float64\n",
      "isAliveFather        26 non-null float64\n",
      "isAliveHeir          23 non-null float64\n",
      "isAliveSpouse        276 non-null float64\n",
      "isMarried            1946 non-null int64\n",
      "isNoble              1946 non-null int64\n",
      "age                  433 non-null float64\n",
      "numDeadRelations     1946 non-null int64\n",
      "boolDeadRelations    1946 non-null int64\n",
      "isPopular            1946 non-null int64\n",
      "popularity           1946 non-null float64\n",
      "isAlive              1946 non-null int64\n",
      "dtypes: float64(10), int64(15), object(8)\n",
      "memory usage: 501.8+ KB\n"
     ]
    }
   ],
   "source": [
    "train.info()"
   ]
  },
  {
   "cell_type": "code",
   "execution_count": 5,
   "metadata": {},
   "outputs": [
    {
     "data": {
      "text/plain": [
       "S.No                -0.128708\n",
       "actual               1.000000\n",
       "pred                 0.359028\n",
       "alive                0.420795\n",
       "plod                -0.420795\n",
       "male                -0.144552\n",
       "dateOfBirth         -0.086315\n",
       "DateoFdeath               NaN\n",
       "book1               -0.147401\n",
       "book2               -0.067200\n",
       "book3                0.006693\n",
       "book4                0.268975\n",
       "book5                0.032846\n",
       "isAliveMother       -0.043033\n",
       "isAliveFather        0.195992\n",
       "isAliveHeir          0.384900\n",
       "isAliveSpouse        0.174275\n",
       "isMarried           -0.050037\n",
       "isNoble             -0.042211\n",
       "age                  0.087712\n",
       "numDeadRelations    -0.192444\n",
       "boolDeadRelations   -0.193736\n",
       "isPopular           -0.153860\n",
       "popularity          -0.183174\n",
       "isAlive              0.997291\n",
       "Name: actual, dtype: float64"
      ]
     },
     "execution_count": 5,
     "metadata": {},
     "output_type": "execute_result"
    }
   ],
   "source": [
    "train.corr()['actual']"
   ]
  },
  {
   "cell_type": "markdown",
   "metadata": {},
   "source": [
    "# Обработка признаков"
   ]
  },
  {
   "cell_type": "markdown",
   "metadata": {},
   "source": [
    "Иcключим столбики, где очень много пропущенных значений. Не очевидно, что есть целевая переменная, поэтому выберем одну из тех, что очень на нее похоже, а остальные ислючим"
   ]
  },
  {
   "cell_type": "code",
   "execution_count": 6,
   "metadata": {},
   "outputs": [],
   "source": [
    "var=['S.No', 'pred', 'alive', 'plod',  'isPopular',  'isAlive','isAliveMother', 'isAliveFather', 'isAliveHeir', 'mother',\n",
    "     'father', 'heir', 'spouse', 'dateOfBirth','DateoFdeath','isAliveSpouse']\n",
    "train.drop(pd.Index(var), axis=1, inplace=True)"
   ]
  },
  {
   "cell_type": "code",
   "execution_count": 7,
   "metadata": {},
   "outputs": [
    {
     "name": "stderr",
     "output_type": "stream",
     "text": [
      "C:\\Users\\User\\Anaconda3\\lib\\site-packages\\ipykernel_launcher.py:1: RuntimeWarning: invalid value encountered in sign\n",
      "  \"\"\"Entry point for launching an IPython kernel.\n"
     ]
    }
   ],
   "source": [
    "train['age']=[(1+np.sign(s))/2*s for s in train.age]\n",
    "def make_cat(a):\n",
    "    if (a>=1) & (a<=5):\n",
    "        return 'child'\n",
    "    elif (a>=6) & (a<=10):\n",
    "        return 'pre_adult'\n",
    "    elif (a>=11) & (a<=60):\n",
    "        return 'adult'\n",
    "    elif (a>=61):\n",
    "        return 'old'\n",
    "    else:\n",
    "        return 0\n",
    "train['age']=[make_cat(s) for s in train.age]"
   ]
  },
  {
   "cell_type": "markdown",
   "metadata": {},
   "source": [
    "Разделим признаки на категориальные, бинарные и вещественные и обработаем каждую категорию отдельно"
   ]
  },
  {
   "cell_type": "code",
   "execution_count": 8,
   "metadata": {},
   "outputs": [],
   "source": [
    "feats_cat=['title', 'culture', 'house','age','boolDeadRelations']\n",
    "feats_bin=['male', 'book1', 'book2', 'book3', 'book4', 'book5', 'isMarried', 'isNoble']\n",
    "feats_real=['popularity', 'numDeadRelations'] #standard scaler"
   ]
  },
  {
   "cell_type": "code",
   "execution_count": 9,
   "metadata": {},
   "outputs": [],
   "source": [
    "# категориальные признаки\n",
    "cat=pd.get_dummies(train[feats_cat])\n",
    "full_train=pd.concat([train, cat], axis=1)\n",
    "full_train=pd.concat([full_train,full_train[full_train['actual']==0]], axis=0)\n",
    "full_train=pd.concat([full_train,full_train[full_train['actual']==0]], axis=0)\n",
    "full_train.drop(feats_cat, axis=1, inplace=True)\n",
    "target=full_train['actual']\n",
    "full_train.drop('actual', axis=1, inplace=True)"
   ]
  },
  {
   "cell_type": "code",
   "execution_count": 10,
   "metadata": {},
   "outputs": [],
   "source": [
    "#обработка вещественных признаков\n",
    "from sklearn.preprocessing import StandardScaler\n",
    "sd=StandardScaler()\n",
    "tmp=sd.fit_transform(full_train[feats_real])\n",
    "full_train['popularity']=tmp[:,0]\n",
    "full_train['numDeadRelations']=tmp[:,1]"
   ]
  },
  {
   "cell_type": "code",
   "execution_count": 11,
   "metadata": {},
   "outputs": [
    {
     "data": {
      "text/html": [
       "<div>\n",
       "<style scoped>\n",
       "    .dataframe tbody tr th:only-of-type {\n",
       "        vertical-align: middle;\n",
       "    }\n",
       "\n",
       "    .dataframe tbody tr th {\n",
       "        vertical-align: top;\n",
       "    }\n",
       "\n",
       "    .dataframe thead th {\n",
       "        text-align: right;\n",
       "    }\n",
       "</style>\n",
       "<table border=\"1\" class=\"dataframe\">\n",
       "  <thead>\n",
       "    <tr style=\"text-align: right;\">\n",
       "      <th></th>\n",
       "      <th>name</th>\n",
       "      <th>male</th>\n",
       "      <th>book1</th>\n",
       "      <th>book2</th>\n",
       "      <th>book3</th>\n",
       "      <th>book4</th>\n",
       "      <th>book5</th>\n",
       "      <th>isMarried</th>\n",
       "      <th>isNoble</th>\n",
       "      <th>numDeadRelations</th>\n",
       "      <th>...</th>\n",
       "      <th>house_Unsullied</th>\n",
       "      <th>house_Windblown</th>\n",
       "      <th>house_Wise Masters</th>\n",
       "      <th>house_brotherhood without banners</th>\n",
       "      <th>house_wildling</th>\n",
       "      <th>age_0</th>\n",
       "      <th>age_adult</th>\n",
       "      <th>age_child</th>\n",
       "      <th>age_old</th>\n",
       "      <th>age_pre_adult</th>\n",
       "    </tr>\n",
       "  </thead>\n",
       "  <tbody>\n",
       "    <tr>\n",
       "      <td>0</td>\n",
       "      <td>Viserys II Targaryen</td>\n",
       "      <td>1</td>\n",
       "      <td>0</td>\n",
       "      <td>0</td>\n",
       "      <td>0</td>\n",
       "      <td>0</td>\n",
       "      <td>0</td>\n",
       "      <td>0</td>\n",
       "      <td>0</td>\n",
       "      <td>5.929719</td>\n",
       "      <td>...</td>\n",
       "      <td>0</td>\n",
       "      <td>0</td>\n",
       "      <td>0</td>\n",
       "      <td>0</td>\n",
       "      <td>0</td>\n",
       "      <td>1</td>\n",
       "      <td>0</td>\n",
       "      <td>0</td>\n",
       "      <td>0</td>\n",
       "      <td>0</td>\n",
       "    </tr>\n",
       "    <tr>\n",
       "      <td>1</td>\n",
       "      <td>Walder Frey</td>\n",
       "      <td>1</td>\n",
       "      <td>1</td>\n",
       "      <td>1</td>\n",
       "      <td>1</td>\n",
       "      <td>1</td>\n",
       "      <td>1</td>\n",
       "      <td>1</td>\n",
       "      <td>1</td>\n",
       "      <td>0.280721</td>\n",
       "      <td>...</td>\n",
       "      <td>0</td>\n",
       "      <td>0</td>\n",
       "      <td>0</td>\n",
       "      <td>0</td>\n",
       "      <td>0</td>\n",
       "      <td>0</td>\n",
       "      <td>0</td>\n",
       "      <td>0</td>\n",
       "      <td>1</td>\n",
       "      <td>0</td>\n",
       "    </tr>\n",
       "    <tr>\n",
       "      <td>2</td>\n",
       "      <td>Addison Hill</td>\n",
       "      <td>1</td>\n",
       "      <td>0</td>\n",
       "      <td>0</td>\n",
       "      <td>0</td>\n",
       "      <td>1</td>\n",
       "      <td>0</td>\n",
       "      <td>0</td>\n",
       "      <td>1</td>\n",
       "      <td>-0.284179</td>\n",
       "      <td>...</td>\n",
       "      <td>0</td>\n",
       "      <td>0</td>\n",
       "      <td>0</td>\n",
       "      <td>0</td>\n",
       "      <td>0</td>\n",
       "      <td>1</td>\n",
       "      <td>0</td>\n",
       "      <td>0</td>\n",
       "      <td>0</td>\n",
       "      <td>0</td>\n",
       "    </tr>\n",
       "    <tr>\n",
       "      <td>3</td>\n",
       "      <td>Aemma Arryn</td>\n",
       "      <td>0</td>\n",
       "      <td>0</td>\n",
       "      <td>0</td>\n",
       "      <td>0</td>\n",
       "      <td>0</td>\n",
       "      <td>0</td>\n",
       "      <td>1</td>\n",
       "      <td>1</td>\n",
       "      <td>-0.284179</td>\n",
       "      <td>...</td>\n",
       "      <td>0</td>\n",
       "      <td>0</td>\n",
       "      <td>0</td>\n",
       "      <td>0</td>\n",
       "      <td>0</td>\n",
       "      <td>0</td>\n",
       "      <td>1</td>\n",
       "      <td>0</td>\n",
       "      <td>0</td>\n",
       "      <td>0</td>\n",
       "    </tr>\n",
       "    <tr>\n",
       "      <td>4</td>\n",
       "      <td>Sylva Santagar</td>\n",
       "      <td>0</td>\n",
       "      <td>0</td>\n",
       "      <td>0</td>\n",
       "      <td>0</td>\n",
       "      <td>1</td>\n",
       "      <td>0</td>\n",
       "      <td>1</td>\n",
       "      <td>1</td>\n",
       "      <td>-0.284179</td>\n",
       "      <td>...</td>\n",
       "      <td>0</td>\n",
       "      <td>0</td>\n",
       "      <td>0</td>\n",
       "      <td>0</td>\n",
       "      <td>0</td>\n",
       "      <td>0</td>\n",
       "      <td>1</td>\n",
       "      <td>0</td>\n",
       "      <td>0</td>\n",
       "      <td>0</td>\n",
       "    </tr>\n",
       "  </tbody>\n",
       "</table>\n",
       "<p>5 rows × 689 columns</p>\n",
       "</div>"
      ],
      "text/plain": [
       "                   name  male  book1  book2  book3  book4  book5  isMarried  \\\n",
       "0  Viserys II Targaryen     1      0      0      0      0      0          0   \n",
       "1           Walder Frey     1      1      1      1      1      1          1   \n",
       "2          Addison Hill     1      0      0      0      1      0          0   \n",
       "3           Aemma Arryn     0      0      0      0      0      0          1   \n",
       "4        Sylva Santagar     0      0      0      0      1      0          1   \n",
       "\n",
       "   isNoble  numDeadRelations  ...  house_Unsullied  house_Windblown  \\\n",
       "0        0          5.929719  ...                0                0   \n",
       "1        1          0.280721  ...                0                0   \n",
       "2        1         -0.284179  ...                0                0   \n",
       "3        1         -0.284179  ...                0                0   \n",
       "4        1         -0.284179  ...                0                0   \n",
       "\n",
       "   house_Wise Masters  house_brotherhood without banners  house_wildling  \\\n",
       "0                   0                                  0               0   \n",
       "1                   0                                  0               0   \n",
       "2                   0                                  0               0   \n",
       "3                   0                                  0               0   \n",
       "4                   0                                  0               0   \n",
       "\n",
       "   age_0  age_adult  age_child  age_old  age_pre_adult  \n",
       "0      1          0          0        0              0  \n",
       "1      0          0          0        1              0  \n",
       "2      1          0          0        0              0  \n",
       "3      0          1          0        0              0  \n",
       "4      0          1          0        0              0  \n",
       "\n",
       "[5 rows x 689 columns]"
      ]
     },
     "execution_count": 11,
     "metadata": {},
     "output_type": "execute_result"
    }
   ],
   "source": [
    "full_train.head(5)"
   ]
  },
  {
   "cell_type": "code",
   "execution_count": 12,
   "metadata": {},
   "outputs": [
    {
     "name": "stdout",
     "output_type": "stream",
     "text": [
      "Populating the interactive namespace from numpy and matplotlib\n"
     ]
    },
    {
     "name": "stderr",
     "output_type": "stream",
     "text": [
      "C:\\Users\\User\\Anaconda3\\lib\\site-packages\\IPython\\core\\magics\\pylab.py:160: UserWarning: pylab import has clobbered these variables: ['var', 'plt']\n",
      "`%matplotlib` prevents importing * from pylab and numpy\n",
      "  \"\\n`%matplotlib` prevents importing * from pylab and numpy\"\n"
     ]
    },
    {
     "data": {
      "text/plain": [
       "Text(0.5, 1.0, 'Is Noble')"
      ]
     },
     "execution_count": 12,
     "metadata": {},
     "output_type": "execute_result"
    },
    {
     "data": {
      "image/png": "[encoded data removed]",
      "text/plain": [
       "<Figure size 1440x432 with 3 Axes>"
      ]
     },
     "metadata": {
      "needs_background": "light"
     },
     "output_type": "display_data"
    }
   ],
   "source": [
    "import matplotlib as plt\n",
    "import seaborn as sns\n",
    "%pylab inline\n",
    "\n",
    "# бинарные признаки\n",
    "fig,ax=plt.subplots(1,3,figsize=(20, 6))\n",
    "\n",
    "sns.countplot(x = 'male', hue = target, data = full_train, palette=[\"C4\", \"C3\"], ax=ax[0]).legend(labels = [\"dead\", \"alive\"])\n",
    "ax[0].set_title(\"Is male\")\n",
    "\n",
    "sns.countplot(x = 'isMarried', hue = target, data = full_train, palette=[\"C4\", \"C3\"], ax=ax[1]).legend(labels = [\"dead\", \"alive\"])\n",
    "ax[1].set_title(\"Is Married\")\n",
    "\n",
    "sns.countplot(x = 'isNoble', hue = target, data = full_train, palette=[\"C4\", \"C3\"], ax=ax[2]).legend(labels = [\"dead\", \"alive\"])\n",
    "ax[2].set_title(\"Is Noble\")"
   ]
  },
  {
   "cell_type": "code",
   "execution_count": 14,
   "metadata": {},
   "outputs": [
    {
     "data": {
      "text/plain": [
       "Text(0.5, 1.0, 'book5')"
      ]
     },
     "execution_count": 14,
     "metadata": {},
     "output_type": "execute_result"
    },
    {
     "data": {
      "image/png": "[encoded data removed]",
      "text/plain": [
       "<Figure size 1440x432 with 3 Axes>"
      ]
     },
     "metadata": {
      "needs_background": "light"
     },
     "output_type": "display_data"
    }
   ],
   "source": [
    "fig,ax=plt.subplots(1,3,figsize=(20, 6))\n",
    "\n",
    "sns.countplot(x = 'book1', hue = target, data = full_train, palette=[\"C4\", \"C3\"], ax=ax[0]).legend(labels = [\"dead\", \"alive\"])\n",
    "ax[0].set_title(\"book1\")\n",
    "\n",
    "sns.countplot(x = 'book4', hue = target, data = full_train, palette=[\"C4\", \"C3\"], ax=ax[1]).legend(labels = [\"dead\", \"alive\"])\n",
    "ax[1].set_title(\"book4\")\n",
    "\n",
    "sns.countplot(x = 'book5', hue = target, data = full_train, palette=[\"C4\", \"C3\"], ax=ax[2]).legend(labels = [\"dead\", \"alive\"])\n",
    "ax[2].set_title(\"book5\")"
   ]
  },
  {
   "cell_type": "code",
   "execution_count": 15,
   "metadata": {},
   "outputs": [
    {
     "name": "stderr",
     "output_type": "stream",
     "text": [
      "C:\\Users\\User\\Anaconda3\\lib\\site-packages\\statsmodels\\nonparametric\\kde.py:487: RuntimeWarning: invalid value encountered in true_divide\n",
      "  binned = fast_linbin(X, a, b, gridsize) / (delta * nobs)\n",
      "C:\\Users\\User\\Anaconda3\\lib\\site-packages\\statsmodels\\nonparametric\\kdetools.py:34: RuntimeWarning: invalid value encountered in double_scalars\n",
      "  FAC1 = 2*(np.pi*bw/RANGE)**2\n"
     ]
    },
    {
     "data": {
      "text/plain": [
       "<seaborn.axisgrid.PairGrid at 0x1f5dc081f08>"
      ]
     },
     "execution_count": 15,
     "metadata": {},
     "output_type": "execute_result"
    },
    {
     "data": {
      "image/png": "[encoded data removed]",
      "text/plain": [
       "<Figure size 582.375x540 with 12 Axes>"
      ]
     },
     "metadata": {
      "needs_background": "light"
     },
     "output_type": "display_data"
    }
   ],
   "source": [
    "sns.pairplot(train[feats_real+['actual']], hue='actual')"
   ]
  },
  {
   "cell_type": "code",
   "execution_count": null,
   "metadata": {},
   "outputs": [],
   "source": []
  },
  {
   "cell_type": "markdown",
   "metadata": {},
   "source": [
    "## Модель"
   ]
  },
  {
   "cell_type": "code",
   "execution_count": 17,
   "metadata": {},
   "outputs": [],
   "source": [
    "from sklearn.model_selection import train_test_split\n",
    "full_train. drop('name', axis=1, inplace=True)\n",
    "X_train, X_test, y_train, y_test=train_test_split(full_train, target, test_size=0.2)"
   ]
  },
  {
   "cell_type": "code",
   "execution_count": 24,
   "metadata": {},
   "outputs": [
    {
     "name": "stderr",
     "output_type": "stream",
     "text": [
      "C:\\Users\\User\\Anaconda3\\lib\\site-packages\\sklearn\\linear_model\\logistic.py:432: FutureWarning: Default solver will be changed to 'lbfgs' in 0.22. Specify a solver to silence this warning.\n",
      "  FutureWarning)\n"
     ]
    }
   ],
   "source": [
    "from sklearn.linear_model import LogisticRegression\n",
    "lr=LogisticRegression(C=0.001)\n",
    "lr.fit(X_train, y_train)\n",
    "pred=lr.predict(X_test)"
   ]
  },
  {
   "cell_type": "code",
   "execution_count": 25,
   "metadata": {},
   "outputs": [
    {
     "name": "stdout",
     "output_type": "stream",
     "text": [
      "f1_score: 0.47596153846153844\n",
      "accuracy: 0.6826783114992722\n"
     ]
    }
   ],
   "source": [
    "from sklearn.metrics import f1_score, accuracy_score\n",
    "print('f1_score: ' + str(f1_score(y_test, pred)))\n",
    "print('accuracy: '+ str(accuracy_score(y_test, pred)))"
   ]
  },
  {
   "cell_type": "code",
   "execution_count": 20,
   "metadata": {},
   "outputs": [
    {
     "data": {
      "text/plain": [
       "Text(0.5, 1.05, 'Confusion_matrix for RF')"
      ]
     },
     "execution_count": 20,
     "metadata": {},
     "output_type": "execute_result"
    },
    {
     "data": {
      "image/png": "[encoded data removed]",
      "text/plain": [
       "<Figure size 432x288 with 2 Axes>"
      ]
     },
     "metadata": {
      "needs_background": "light"
     },
     "output_type": "display_data"
    }
   ],
   "source": [
    "from sklearn.metrics import confusion_matrix\n",
    "sns.heatmap(confusion_matrix(y_test, pred),annot=True,fmt='3.0f',cmap=\"summer\")\n",
    "plt.title('Confusion_matrix for RF', y=1.05, size=25)"
   ]
  },
  {
   "cell_type": "code",
   "execution_count": 21,
   "metadata": {},
   "outputs": [
    {
     "data": {
      "text/plain": [
       "array([[340,  60],\n",
       "       [ 87, 200]], dtype=int64)"
      ]
     },
     "execution_count": 21,
     "metadata": {},
     "output_type": "execute_result"
    }
   ],
   "source": [
    "confusion_matrix(y_test, pred)"
   ]
  },
  {
   "cell_type": "code",
   "execution_count": null,
   "metadata": {},
   "outputs": [],
   "source": []
  }
 ],
 "metadata": {
  "kernelspec": {
   "display_name": "Python 3",
   "language": "python",
   "name": "python3"
  },
  "language_info": {
   "codemirror_mode": {
    "name": "ipython",
    "version": 3
   },
   "file_extension": ".py",
   "mimetype": "text/x-python",
   "name": "python",
   "nbconvert_exporter": "python",
   "pygments_lexer": "ipython3",
   "version": "3.7.4"
  }
 },
 "nbformat": 4,
 "nbformat_minor": 2
}
